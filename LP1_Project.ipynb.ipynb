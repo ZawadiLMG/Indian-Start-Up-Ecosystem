{
 "cells": [
  {
   "cell_type": "markdown",
   "id": "098d19ba-83f1-4ebe-8224-3d771aa670e6",
   "metadata": {},
   "source": [
    "# **INDIAN STARTUP ECOSYSTEM**"
   ]
  },
  {
   "cell_type": "markdown",
   "id": "c62646cd-0736-4382-a4d2-318010effda4",
   "metadata": {},
   "source": [
    "## Project Description\n",
    "We embark on a journey of discovery as we leverage our data analysis expertise to uncover the untapped potential within the Indian startup ecosystem. This project is designed to not only decode the numbers but to distill insights that will guide our team towards a successful foray into this dynamic market."
   ]
  },
  {
   "cell_type": "markdown",
   "id": "073a46b0-b9c4-4cd3-941f-2966afc886e3",
   "metadata": {},
   "source": [
    "## Scope of Work\n",
    "\n",
    "- Conduct a thorough exploration of datasets, dissecting funding patterns, sectoral nuances, and geographical hotspots in the Indian startup landscap\n",
    "- Analyze funding received by startups in india from 2018 to 2021\n",
    "\n"
   ]
  },
  {
   "cell_type": "markdown",
   "id": "56c8dab3-8e2b-47f3-874a-d27632251b8f",
   "metadata": {},
   "source": [
    "## Hypothesis \n",
    "\n",
    "**Null Hypothesis (H0)**: There is no significant relationship between funding and the sector  \n",
    "\n",
    "**Alternative Hypothesis (H1)**: There is a significant relationship between funding and the sector"
   ]
  },
  {
   "cell_type": "markdown",
   "id": "8620e446-b068-4209-8f16-003e788eebdb",
   "metadata": {},
   "source": [
    "## Questions \n",
    "1. How does funding vary across different industry sectors in India?\n",
    "2. How does funding vary with the loaction of the start-ups\n",
    "3. What is the relationship between the amount of funding and the stage of the company?\n",
    "4. How have funding trends evolved between 2018 and 2021?\n",
    "5. What are the most attractive sectors for investors?\n",
    "6. Does the location of the company influence its sector?\n",
    "\n",
    "\n"
   ]
  },
  {
   "cell_type": "markdown",
   "id": "182b1f90-e702-479c-bed8-7b0937f92ec8",
   "metadata": {},
   "source": [
    "# **DATA EXPLORATION, DATA UNDERSTANDING and DATA ANALYSIS**"
   ]
  },
  {
   "cell_type": "code",
   "execution_count": 118,
   "id": "a4313f08-adad-4397-b2a2-07ab3f969571",
   "metadata": {},
   "outputs": [],
   "source": [
    "# Load libraries\n",
    "# Database connnection\n",
    "import pyodbc     \n",
    "from dotenv import dotenv_values    #import the dotenv_values function from the dotenv package\n",
    "\n",
    "# Data manipulation\n",
    "import pandas as pd\n",
    "import numpy as np\n",
    "\n",
    "# Data visualization\n",
    "import matplotlib.pyplot as plt\n",
    "import seaborn as sns\n",
    "import plotly.express as px\n",
    "\n",
    "import scipy.stats as stats\n",
    "from matplotlib.dates import YearLocator\n",
    "from matplotlib.ticker import FuncFormatter\n",
    "import matplotlib.ticker as ticker\n",
    "import re\n",
    "\n",
    "# filter warnings\n",
    "import warnings \n",
    "warnings.filterwarnings('ignore')"
   ]
  },
  {
   "cell_type": "markdown",
   "id": "a5653ae6-aaf0-4f36-ac77-0d12378022dd",
   "metadata": {},
   "source": [
    "# **1. Loading and Inspection of Data**"
   ]
  },
  {
   "cell_type": "markdown",
   "id": "6c0ba8b8",
   "metadata": {},
   "source": [
    "## **1.1 Loading data from the SQL server**"
   ]
  },
  {
   "cell_type": "code",
   "execution_count": 119,
   "id": "64476aec-cfda-44ff-9287-f9ae1116d755",
   "metadata": {},
   "outputs": [],
   "source": [
    "# Load environment variables from .env file into a dictionary\n",
    "environment_variables = dotenv_values('.env')\n",
    "\n",
    "# Get the values for the credentials you set in the '.env' file\n",
    "server = environment_variables.get(\"SERVER\")\n",
    "database = environment_variables.get(\"DATABASE\")\n",
    "username = environment_variables.get(\"USERNAME\")\n",
    "password = environment_variables.get(\"PASSWORD\")"
   ]
  },
  {
   "cell_type": "code",
   "execution_count": 120,
   "id": "1065f30f-d2af-4355-9709-68b7cf2eec10",
   "metadata": {},
   "outputs": [],
   "source": [
    "# Create a connection string\n",
    "\n",
    "connection_string = f\"DRIVER={{SQL Server}};SERVER={server};DATABASE={database};UID={username};PWD={password}\"\n",
    "connection = pyodbc.connect(connection_string)"
   ]
  },
  {
   "cell_type": "code",
   "execution_count": 121,
   "id": "7c96e340-66bf-4947-b4bf-878ba7335936",
   "metadata": {},
   "outputs": [],
   "source": [
    "# sql query to get 2020 data. \n",
    "query_2020=\"SELECT * FROM dbo.LP1_startup_funding2020\"\n",
    "\n",
    "# sql query to get 2021 data. \n",
    "query_2021=\"SELECT * FROM dbo.LP1_startup_funding2021\""
   ]
  },
  {
   "cell_type": "code",
   "execution_count": 122,
   "id": "4879cd40-2819-442a-a895-1560371616cc",
   "metadata": {},
   "outputs": [],
   "source": [
    "    # load 2021 data\n",
    "data_2021=pd.read_sql(query_2021,connection)\n",
    "\n",
    "    # load 2020 data\n",
    "data_2020=pd.read_sql(query_2020,connection)"
   ]
  },
  {
   "cell_type": "markdown",
   "id": "35309cc2",
   "metadata": {},
   "source": [
    "## **1.2 Loading CSV Files**"
   ]
  },
  {
   "cell_type": "code",
   "execution_count": 123,
   "id": "a81c6016",
   "metadata": {},
   "outputs": [],
   "source": [
    "# load 2019 data\n",
    "data_2019=pd.read_csv(r'india_startup_data\\startup_funding2019.csv')\n",
    "\n",
    "    # load 2018 data\n",
    "data_2018=pd.read_csv(r'C:india_startup_data\\startup_funding2018.csv')\n"
   ]
  },
  {
   "cell_type": "markdown",
   "id": "b93809db-ec5e-415e-bce8-dc9a3367493b",
   "metadata": {},
   "source": [
    "# **2.Exploratory Data Analaysis(EDA)**"
   ]
  },
  {
   "cell_type": "markdown",
   "id": "ededc4f7",
   "metadata": {},
   "source": [
    "## **2.0.  2018 Dataset EDA**"
   ]
  },
  {
   "cell_type": "code",
   "execution_count": 124,
   "id": "88a913fa-08a6-4612-ac72-37b0a290a00a",
   "metadata": {},
   "outputs": [
    {
     "data": {
      "text/html": [
       "<div>\n",
       "<style scoped>\n",
       "    .dataframe tbody tr th:only-of-type {\n",
       "        vertical-align: middle;\n",
       "    }\n",
       "\n",
       "    .dataframe tbody tr th {\n",
       "        vertical-align: top;\n",
       "    }\n",
       "\n",
       "    .dataframe thead th {\n",
       "        text-align: right;\n",
       "    }\n",
       "</style>\n",
       "<table border=\"1\" class=\"dataframe\">\n",
       "  <thead>\n",
       "    <tr style=\"text-align: right;\">\n",
       "      <th></th>\n",
       "      <th>Company Name</th>\n",
       "      <th>Industry</th>\n",
       "      <th>Round/Series</th>\n",
       "      <th>Amount</th>\n",
       "      <th>Location</th>\n",
       "      <th>About Company</th>\n",
       "    </tr>\n",
       "  </thead>\n",
       "  <tbody>\n",
       "    <tr>\n",
       "      <th>467</th>\n",
       "      <td>Technology 9 Labs (T9L)</td>\n",
       "      <td>Information Technology</td>\n",
       "      <td>Corporate Round</td>\n",
       "      <td>—</td>\n",
       "      <td>New Delhi, Delhi, India</td>\n",
       "      <td>Technology 9 Labs is an Information Technology...</td>\n",
       "    </tr>\n",
       "    <tr>\n",
       "      <th>228</th>\n",
       "      <td>MY CHIRAAG CAB</td>\n",
       "      <td>Travel</td>\n",
       "      <td>Seed</td>\n",
       "      <td>1000000</td>\n",
       "      <td>Jaipur, Rajasthan, India</td>\n",
       "      <td>MY CHIRAAG CAB SERVICES PVT LTD</td>\n",
       "    </tr>\n",
       "    <tr>\n",
       "      <th>456</th>\n",
       "      <td>9stacks</td>\n",
       "      <td>Online Games, Software</td>\n",
       "      <td>Series A</td>\n",
       "      <td>₹280,000,000</td>\n",
       "      <td>Delhi, Delhi, India</td>\n",
       "      <td>Online gaming startup.</td>\n",
       "    </tr>\n",
       "    <tr>\n",
       "      <th>375</th>\n",
       "      <td>Mech Mocha</td>\n",
       "      <td>Digital Entertainment, Mobile, PC Games</td>\n",
       "      <td>Series B</td>\n",
       "      <td>$3,530,000</td>\n",
       "      <td>Bangalore, Karnataka, India</td>\n",
       "      <td>Mech Mocha is a mobile gaming startup based in...</td>\n",
       "    </tr>\n",
       "    <tr>\n",
       "      <th>79</th>\n",
       "      <td>Hansel.io</td>\n",
       "      <td>Mobile, Mobile Apps, Personalization, Test and...</td>\n",
       "      <td>Series A</td>\n",
       "      <td>4000000</td>\n",
       "      <td>Bangalore, Karnataka, India</td>\n",
       "      <td>Hansel, a mobile app management platform, prov...</td>\n",
       "    </tr>\n",
       "  </tbody>\n",
       "</table>\n",
       "</div>"
      ],
      "text/plain": [
       "                Company Name  \\\n",
       "467  Technology 9 Labs (T9L)   \n",
       "228           MY CHIRAAG CAB   \n",
       "456                  9stacks   \n",
       "375               Mech Mocha   \n",
       "79                 Hansel.io   \n",
       "\n",
       "                                              Industry     Round/Series  \\\n",
       "467                             Information Technology  Corporate Round   \n",
       "228                                             Travel             Seed   \n",
       "456                             Online Games, Software         Series A   \n",
       "375            Digital Entertainment, Mobile, PC Games         Series B   \n",
       "79   Mobile, Mobile Apps, Personalization, Test and...         Series A   \n",
       "\n",
       "           Amount                     Location  \\\n",
       "467             —      New Delhi, Delhi, India   \n",
       "228       1000000     Jaipur, Rajasthan, India   \n",
       "456  ₹280,000,000          Delhi, Delhi, India   \n",
       "375    $3,530,000  Bangalore, Karnataka, India   \n",
       "79        4000000  Bangalore, Karnataka, India   \n",
       "\n",
       "                                         About Company  \n",
       "467  Technology 9 Labs is an Information Technology...  \n",
       "228                    MY CHIRAAG CAB SERVICES PVT LTD  \n",
       "456                             Online gaming startup.  \n",
       "375  Mech Mocha is a mobile gaming startup based in...  \n",
       "79   Hansel, a mobile app management platform, prov...  "
      ]
     },
     "execution_count": 124,
     "metadata": {},
     "output_type": "execute_result"
    }
   ],
   "source": [
    "# preview the rows and columns for the 2018 dataset\n",
    "data_2018.sample(5)"
   ]
  },
  {
   "cell_type": "code",
   "execution_count": 125,
   "id": "42aebb98",
   "metadata": {},
   "outputs": [
    {
     "name": "stdout",
     "output_type": "stream",
     "text": [
      "(526, 6)\n",
      "There are 526 rows, and 6 columns\n"
     ]
    }
   ],
   "source": [
    "# checking for number of columns and rows\n",
    "print (data_2018.shape)\n",
    "print(f\"There are {data_2018.shape[0]} rows, and {data_2018.shape[1]} columns\")"
   ]
  },
  {
   "cell_type": "code",
   "execution_count": 126,
   "id": "132ad5bb",
   "metadata": {},
   "outputs": [
    {
     "name": "stdout",
     "output_type": "stream",
     "text": [
      "<class 'pandas.core.frame.DataFrame'>\n",
      "RangeIndex: 526 entries, 0 to 525\n",
      "Data columns (total 6 columns):\n",
      " #   Column         Non-Null Count  Dtype \n",
      "---  ------         --------------  ----- \n",
      " 0   Company Name   526 non-null    object\n",
      " 1   Industry       526 non-null    object\n",
      " 2   Round/Series   526 non-null    object\n",
      " 3   Amount         526 non-null    object\n",
      " 4   Location       526 non-null    object\n",
      " 5   About Company  526 non-null    object\n",
      "dtypes: object(6)\n",
      "memory usage: 24.8+ KB\n"
     ]
    }
   ],
   "source": [
    "# checking info\n",
    "data_2018.info()"
   ]
  },
  {
   "cell_type": "code",
   "execution_count": 127,
   "id": "0e79a650",
   "metadata": {},
   "outputs": [
    {
     "data": {
      "text/html": [
       "<div>\n",
       "<style scoped>\n",
       "    .dataframe tbody tr th:only-of-type {\n",
       "        vertical-align: middle;\n",
       "    }\n",
       "\n",
       "    .dataframe tbody tr th {\n",
       "        vertical-align: top;\n",
       "    }\n",
       "\n",
       "    .dataframe thead th {\n",
       "        text-align: right;\n",
       "    }\n",
       "</style>\n",
       "<table border=\"1\" class=\"dataframe\">\n",
       "  <thead>\n",
       "    <tr style=\"text-align: right;\">\n",
       "      <th></th>\n",
       "      <th>Company Name</th>\n",
       "      <th>Industry</th>\n",
       "      <th>Round/Series</th>\n",
       "      <th>Amount</th>\n",
       "      <th>Location</th>\n",
       "      <th>About Company</th>\n",
       "    </tr>\n",
       "  </thead>\n",
       "  <tbody>\n",
       "    <tr>\n",
       "      <th>count</th>\n",
       "      <td>526</td>\n",
       "      <td>526</td>\n",
       "      <td>526</td>\n",
       "      <td>526</td>\n",
       "      <td>526</td>\n",
       "      <td>526</td>\n",
       "    </tr>\n",
       "    <tr>\n",
       "      <th>unique</th>\n",
       "      <td>525</td>\n",
       "      <td>405</td>\n",
       "      <td>21</td>\n",
       "      <td>198</td>\n",
       "      <td>50</td>\n",
       "      <td>524</td>\n",
       "    </tr>\n",
       "    <tr>\n",
       "      <th>top</th>\n",
       "      <td>TheCollegeFever</td>\n",
       "      <td>—</td>\n",
       "      <td>Seed</td>\n",
       "      <td>—</td>\n",
       "      <td>Bangalore, Karnataka, India</td>\n",
       "      <td>TheCollegeFever is a hub for fun, fiesta and f...</td>\n",
       "    </tr>\n",
       "    <tr>\n",
       "      <th>freq</th>\n",
       "      <td>2</td>\n",
       "      <td>30</td>\n",
       "      <td>280</td>\n",
       "      <td>148</td>\n",
       "      <td>102</td>\n",
       "      <td>2</td>\n",
       "    </tr>\n",
       "  </tbody>\n",
       "</table>\n",
       "</div>"
      ],
      "text/plain": [
       "           Company Name Industry Round/Series Amount  \\\n",
       "count               526      526          526    526   \n",
       "unique              525      405           21    198   \n",
       "top     TheCollegeFever        —         Seed      —   \n",
       "freq                  2       30          280    148   \n",
       "\n",
       "                           Location  \\\n",
       "count                           526   \n",
       "unique                           50   \n",
       "top     Bangalore, Karnataka, India   \n",
       "freq                            102   \n",
       "\n",
       "                                            About Company  \n",
       "count                                                 526  \n",
       "unique                                                524  \n",
       "top     TheCollegeFever is a hub for fun, fiesta and f...  \n",
       "freq                                                    2  "
      ]
     },
     "execution_count": 127,
     "metadata": {},
     "output_type": "execute_result"
    }
   ],
   "source": [
    "# Describing the data\n",
    "data_2018.describe()"
   ]
  },
  {
   "cell_type": "markdown",
   "id": "966193e3",
   "metadata": {},
   "source": [
    "**Findings**  \n",
    "- TheCollegeFever company was the most common company  \n",
    "\n",
    "- Seed series was the most preffered  \n",
    "\n",
    "- most companies were based in Bangalore location  "
   ]
  },
  {
   "cell_type": "code",
   "execution_count": 128,
   "id": "5c19b957",
   "metadata": {},
   "outputs": [
    {
     "name": "stdout",
     "output_type": "stream",
     "text": [
      "There are  1 duplicate(s)\n"
     ]
    }
   ],
   "source": [
    "# checking for duplicates\n",
    "print(\"There are \",data_2018.duplicated().sum(),\"duplicate(s)\")"
   ]
  },
  {
   "cell_type": "code",
   "execution_count": 129,
   "id": "75166167",
   "metadata": {},
   "outputs": [
    {
     "data": {
      "text/plain": [
       "Company Name     0\n",
       "Industry         0\n",
       "Round/Series     0\n",
       "Amount           0\n",
       "Location         0\n",
       "About Company    0\n",
       "dtype: int64"
      ]
     },
     "execution_count": 129,
     "metadata": {},
     "output_type": "execute_result"
    }
   ],
   "source": [
    "# Checking for missing values\n",
    "data_2018.isnull().sum()"
   ]
  },
  {
   "cell_type": "markdown",
   "id": "5ef16a59",
   "metadata": {},
   "source": [
    "## **2.1. 2019 EDA**"
   ]
  },
  {
   "cell_type": "code",
   "execution_count": 130,
   "id": "3caff6a6-fadb-4132-9c2c-f79d2378d04d",
   "metadata": {},
   "outputs": [
    {
     "data": {
      "text/html": [
       "<div>\n",
       "<style scoped>\n",
       "    .dataframe tbody tr th:only-of-type {\n",
       "        vertical-align: middle;\n",
       "    }\n",
       "\n",
       "    .dataframe tbody tr th {\n",
       "        vertical-align: top;\n",
       "    }\n",
       "\n",
       "    .dataframe thead th {\n",
       "        text-align: right;\n",
       "    }\n",
       "</style>\n",
       "<table border=\"1\" class=\"dataframe\">\n",
       "  <thead>\n",
       "    <tr style=\"text-align: right;\">\n",
       "      <th></th>\n",
       "      <th>Company/Brand</th>\n",
       "      <th>Founded</th>\n",
       "      <th>HeadQuarter</th>\n",
       "      <th>Sector</th>\n",
       "      <th>What it does</th>\n",
       "      <th>Founders</th>\n",
       "      <th>Investor</th>\n",
       "      <th>Amount($)</th>\n",
       "      <th>Stage</th>\n",
       "    </tr>\n",
       "  </thead>\n",
       "  <tbody>\n",
       "    <tr>\n",
       "      <th>0</th>\n",
       "      <td>Bombay Shaving</td>\n",
       "      <td>NaN</td>\n",
       "      <td>NaN</td>\n",
       "      <td>Ecommerce</td>\n",
       "      <td>Provides a range of male grooming products</td>\n",
       "      <td>Shantanu Deshpande</td>\n",
       "      <td>Sixth Sense Ventures</td>\n",
       "      <td>$6,300,000</td>\n",
       "      <td>NaN</td>\n",
       "    </tr>\n",
       "    <tr>\n",
       "      <th>38</th>\n",
       "      <td>Freshokartz</td>\n",
       "      <td>2016.0</td>\n",
       "      <td>Jaipur</td>\n",
       "      <td>E-marketplace</td>\n",
       "      <td>Online fruits and vegetables delivery company</td>\n",
       "      <td>Rajendra Lora</td>\n",
       "      <td>ThinkLab</td>\n",
       "      <td>$150,000</td>\n",
       "      <td>Pre series A</td>\n",
       "    </tr>\n",
       "    <tr>\n",
       "      <th>15</th>\n",
       "      <td>LivFin</td>\n",
       "      <td>2017.0</td>\n",
       "      <td>Delhi</td>\n",
       "      <td>Fintech</td>\n",
       "      <td>Grants small business loans, supply chain fina...</td>\n",
       "      <td>Rakesh Malhotra</td>\n",
       "      <td>German development finance institution DEG</td>\n",
       "      <td>$5,000,000</td>\n",
       "      <td>NaN</td>\n",
       "    </tr>\n",
       "    <tr>\n",
       "      <th>71</th>\n",
       "      <td>Smart Institute</td>\n",
       "      <td>NaN</td>\n",
       "      <td>Surat</td>\n",
       "      <td>Edtech</td>\n",
       "      <td>A platform to learn online</td>\n",
       "      <td>NaN</td>\n",
       "      <td>HNI investors</td>\n",
       "      <td>$1,500,000</td>\n",
       "      <td>NaN</td>\n",
       "    </tr>\n",
       "    <tr>\n",
       "      <th>77</th>\n",
       "      <td>Sarva</td>\n",
       "      <td>NaN</td>\n",
       "      <td>Chennai</td>\n",
       "      <td>Yoga &amp; wellness</td>\n",
       "      <td>It drives a cultural change in making yoga-bas...</td>\n",
       "      <td>Sarvesh Shashi</td>\n",
       "      <td>Venture fund, Fireside Ventures.</td>\n",
       "      <td>$2,800,000</td>\n",
       "      <td>NaN</td>\n",
       "    </tr>\n",
       "  </tbody>\n",
       "</table>\n",
       "</div>"
      ],
      "text/plain": [
       "      Company/Brand  Founded HeadQuarter           Sector  \\\n",
       "0    Bombay Shaving      NaN         NaN        Ecommerce   \n",
       "38      Freshokartz   2016.0      Jaipur    E-marketplace   \n",
       "15           LivFin   2017.0       Delhi          Fintech   \n",
       "71  Smart Institute      NaN       Surat           Edtech   \n",
       "77            Sarva      NaN     Chennai  Yoga & wellness   \n",
       "\n",
       "                                         What it does            Founders  \\\n",
       "0          Provides a range of male grooming products  Shantanu Deshpande   \n",
       "38      Online fruits and vegetables delivery company       Rajendra Lora   \n",
       "15  Grants small business loans, supply chain fina...     Rakesh Malhotra   \n",
       "71                         A platform to learn online                 NaN   \n",
       "77  It drives a cultural change in making yoga-bas...      Sarvesh Shashi   \n",
       "\n",
       "                                      Investor   Amount($)         Stage  \n",
       "0                         Sixth Sense Ventures  $6,300,000           NaN  \n",
       "38                                    ThinkLab    $150,000  Pre series A  \n",
       "15  German development finance institution DEG  $5,000,000           NaN  \n",
       "71                               HNI investors  $1,500,000           NaN  \n",
       "77            Venture fund, Fireside Ventures.  $2,800,000           NaN  "
      ]
     },
     "execution_count": 130,
     "metadata": {},
     "output_type": "execute_result"
    }
   ],
   "source": [
    "# get a sample of 2019 dataset\n",
    "data_2019.sample(5)"
   ]
  },
  {
   "cell_type": "code",
   "execution_count": 131,
   "id": "a9580d42",
   "metadata": {},
   "outputs": [
    {
     "name": "stdout",
     "output_type": "stream",
     "text": [
      "(89, 9)\n",
      "There are 89 rows, and 9 columns\n"
     ]
    }
   ],
   "source": [
    "# checking for number of columns and rows\n",
    "print (data_2019.shape)\n",
    "print(f\"There are {data_2019.shape[0]} rows, and {data_2019.shape[1]} columns\")"
   ]
  },
  {
   "cell_type": "code",
   "execution_count": 132,
   "id": "5de172ed",
   "metadata": {},
   "outputs": [
    {
     "name": "stdout",
     "output_type": "stream",
     "text": [
      "There are  0 duplicate(s)\n"
     ]
    }
   ],
   "source": [
    "# checking for duplicates\n",
    "print(\"There are \",data_2019.duplicated().sum(),\"duplicate(s)\")"
   ]
  },
  {
   "cell_type": "code",
   "execution_count": 133,
   "id": "9f408af6",
   "metadata": {},
   "outputs": [
    {
     "data": {
      "text/plain": [
       "Company/Brand     0\n",
       "Founded          29\n",
       "HeadQuarter      19\n",
       "Sector            5\n",
       "What it does      0\n",
       "Founders          3\n",
       "Investor          0\n",
       "Amount($)         0\n",
       "Stage            46\n",
       "dtype: int64"
      ]
     },
     "execution_count": 133,
     "metadata": {},
     "output_type": "execute_result"
    }
   ],
   "source": [
    "# Checking for nulls\n",
    "data_2019.isnull().sum()"
   ]
  },
  {
   "cell_type": "code",
   "execution_count": 134,
   "id": "164b5044",
   "metadata": {},
   "outputs": [
    {
     "name": "stdout",
     "output_type": "stream",
     "text": [
      "<class 'pandas.core.frame.DataFrame'>\n",
      "RangeIndex: 89 entries, 0 to 88\n",
      "Data columns (total 9 columns):\n",
      " #   Column         Non-Null Count  Dtype  \n",
      "---  ------         --------------  -----  \n",
      " 0   Company/Brand  89 non-null     object \n",
      " 1   Founded        60 non-null     float64\n",
      " 2   HeadQuarter    70 non-null     object \n",
      " 3   Sector         84 non-null     object \n",
      " 4   What it does   89 non-null     object \n",
      " 5   Founders       86 non-null     object \n",
      " 6   Investor       89 non-null     object \n",
      " 7   Amount($)      89 non-null     object \n",
      " 8   Stage          43 non-null     object \n",
      "dtypes: float64(1), object(8)\n",
      "memory usage: 6.4+ KB\n"
     ]
    }
   ],
   "source": [
    "# checking for datatypes in the different columns\n",
    "data_2019.info()"
   ]
  },
  {
   "cell_type": "code",
   "execution_count": 135,
   "id": "d383f36b",
   "metadata": {},
   "outputs": [
    {
     "data": {
      "text/html": [
       "<div>\n",
       "<style scoped>\n",
       "    .dataframe tbody tr th:only-of-type {\n",
       "        vertical-align: middle;\n",
       "    }\n",
       "\n",
       "    .dataframe tbody tr th {\n",
       "        vertical-align: top;\n",
       "    }\n",
       "\n",
       "    .dataframe thead th {\n",
       "        text-align: right;\n",
       "    }\n",
       "</style>\n",
       "<table border=\"1\" class=\"dataframe\">\n",
       "  <thead>\n",
       "    <tr style=\"text-align: right;\">\n",
       "      <th></th>\n",
       "      <th>Company/Brand</th>\n",
       "      <th>Founded</th>\n",
       "      <th>HeadQuarter</th>\n",
       "      <th>Sector</th>\n",
       "      <th>What it does</th>\n",
       "      <th>Founders</th>\n",
       "      <th>Investor</th>\n",
       "      <th>Amount($)</th>\n",
       "      <th>Stage</th>\n",
       "    </tr>\n",
       "  </thead>\n",
       "  <tbody>\n",
       "    <tr>\n",
       "      <th>count</th>\n",
       "      <td>89</td>\n",
       "      <td>60.000000</td>\n",
       "      <td>70</td>\n",
       "      <td>84</td>\n",
       "      <td>89</td>\n",
       "      <td>86</td>\n",
       "      <td>89</td>\n",
       "      <td>89</td>\n",
       "      <td>43</td>\n",
       "    </tr>\n",
       "    <tr>\n",
       "      <th>unique</th>\n",
       "      <td>87</td>\n",
       "      <td>NaN</td>\n",
       "      <td>17</td>\n",
       "      <td>52</td>\n",
       "      <td>88</td>\n",
       "      <td>85</td>\n",
       "      <td>86</td>\n",
       "      <td>50</td>\n",
       "      <td>15</td>\n",
       "    </tr>\n",
       "    <tr>\n",
       "      <th>top</th>\n",
       "      <td>Kratikal</td>\n",
       "      <td>NaN</td>\n",
       "      <td>Bangalore</td>\n",
       "      <td>Edtech</td>\n",
       "      <td>Online meat shop</td>\n",
       "      <td>Vivek Gupta, Abhay Hanjura</td>\n",
       "      <td>Undisclosed</td>\n",
       "      <td>Undisclosed</td>\n",
       "      <td>Series A</td>\n",
       "    </tr>\n",
       "    <tr>\n",
       "      <th>freq</th>\n",
       "      <td>2</td>\n",
       "      <td>NaN</td>\n",
       "      <td>21</td>\n",
       "      <td>7</td>\n",
       "      <td>2</td>\n",
       "      <td>2</td>\n",
       "      <td>3</td>\n",
       "      <td>12</td>\n",
       "      <td>10</td>\n",
       "    </tr>\n",
       "    <tr>\n",
       "      <th>mean</th>\n",
       "      <td>NaN</td>\n",
       "      <td>2014.533333</td>\n",
       "      <td>NaN</td>\n",
       "      <td>NaN</td>\n",
       "      <td>NaN</td>\n",
       "      <td>NaN</td>\n",
       "      <td>NaN</td>\n",
       "      <td>NaN</td>\n",
       "      <td>NaN</td>\n",
       "    </tr>\n",
       "    <tr>\n",
       "      <th>std</th>\n",
       "      <td>NaN</td>\n",
       "      <td>2.937003</td>\n",
       "      <td>NaN</td>\n",
       "      <td>NaN</td>\n",
       "      <td>NaN</td>\n",
       "      <td>NaN</td>\n",
       "      <td>NaN</td>\n",
       "      <td>NaN</td>\n",
       "      <td>NaN</td>\n",
       "    </tr>\n",
       "    <tr>\n",
       "      <th>min</th>\n",
       "      <td>NaN</td>\n",
       "      <td>2004.000000</td>\n",
       "      <td>NaN</td>\n",
       "      <td>NaN</td>\n",
       "      <td>NaN</td>\n",
       "      <td>NaN</td>\n",
       "      <td>NaN</td>\n",
       "      <td>NaN</td>\n",
       "      <td>NaN</td>\n",
       "    </tr>\n",
       "    <tr>\n",
       "      <th>25%</th>\n",
       "      <td>NaN</td>\n",
       "      <td>2013.000000</td>\n",
       "      <td>NaN</td>\n",
       "      <td>NaN</td>\n",
       "      <td>NaN</td>\n",
       "      <td>NaN</td>\n",
       "      <td>NaN</td>\n",
       "      <td>NaN</td>\n",
       "      <td>NaN</td>\n",
       "    </tr>\n",
       "    <tr>\n",
       "      <th>50%</th>\n",
       "      <td>NaN</td>\n",
       "      <td>2015.000000</td>\n",
       "      <td>NaN</td>\n",
       "      <td>NaN</td>\n",
       "      <td>NaN</td>\n",
       "      <td>NaN</td>\n",
       "      <td>NaN</td>\n",
       "      <td>NaN</td>\n",
       "      <td>NaN</td>\n",
       "    </tr>\n",
       "    <tr>\n",
       "      <th>75%</th>\n",
       "      <td>NaN</td>\n",
       "      <td>2016.250000</td>\n",
       "      <td>NaN</td>\n",
       "      <td>NaN</td>\n",
       "      <td>NaN</td>\n",
       "      <td>NaN</td>\n",
       "      <td>NaN</td>\n",
       "      <td>NaN</td>\n",
       "      <td>NaN</td>\n",
       "    </tr>\n",
       "    <tr>\n",
       "      <th>max</th>\n",
       "      <td>NaN</td>\n",
       "      <td>2019.000000</td>\n",
       "      <td>NaN</td>\n",
       "      <td>NaN</td>\n",
       "      <td>NaN</td>\n",
       "      <td>NaN</td>\n",
       "      <td>NaN</td>\n",
       "      <td>NaN</td>\n",
       "      <td>NaN</td>\n",
       "    </tr>\n",
       "  </tbody>\n",
       "</table>\n",
       "</div>"
      ],
      "text/plain": [
       "       Company/Brand      Founded HeadQuarter  Sector      What it does  \\\n",
       "count             89    60.000000          70      84                89   \n",
       "unique            87          NaN          17      52                88   \n",
       "top         Kratikal          NaN   Bangalore  Edtech  Online meat shop   \n",
       "freq               2          NaN          21       7                 2   \n",
       "mean             NaN  2014.533333         NaN     NaN               NaN   \n",
       "std              NaN     2.937003         NaN     NaN               NaN   \n",
       "min              NaN  2004.000000         NaN     NaN               NaN   \n",
       "25%              NaN  2013.000000         NaN     NaN               NaN   \n",
       "50%              NaN  2015.000000         NaN     NaN               NaN   \n",
       "75%              NaN  2016.250000         NaN     NaN               NaN   \n",
       "max              NaN  2019.000000         NaN     NaN               NaN   \n",
       "\n",
       "                          Founders     Investor    Amount($)     Stage  \n",
       "count                           86           89           89        43  \n",
       "unique                          85           86           50        15  \n",
       "top     Vivek Gupta, Abhay Hanjura  Undisclosed  Undisclosed  Series A  \n",
       "freq                             2            3           12        10  \n",
       "mean                           NaN          NaN          NaN       NaN  \n",
       "std                            NaN          NaN          NaN       NaN  \n",
       "min                            NaN          NaN          NaN       NaN  \n",
       "25%                            NaN          NaN          NaN       NaN  \n",
       "50%                            NaN          NaN          NaN       NaN  \n",
       "75%                            NaN          NaN          NaN       NaN  \n",
       "max                            NaN          NaN          NaN       NaN  "
      ]
     },
     "execution_count": 135,
     "metadata": {},
     "output_type": "execute_result"
    }
   ],
   "source": [
    "# performing descriptive analysis\n",
    "data_2019.describe(include='all')"
   ]
  },
  {
   "cell_type": "markdown",
   "id": "1e13028c",
   "metadata": {},
   "source": [
    "**Findings**\n",
    "- Kratikal company was the most common company\n",
    "\n",
    "- Most companies had their headquarters based in Bangalore\n",
    "\n",
    "- Majority of the companies are involved in the Edtech sector"
   ]
  },
  {
   "cell_type": "markdown",
   "id": "177b29be",
   "metadata": {},
   "source": [
    "## **2.2. 2020 EDA**"
   ]
  },
  {
   "cell_type": "code",
   "execution_count": 136,
   "id": "5b3f3480-99e5-4d9c-999b-c24fd6527f0b",
   "metadata": {},
   "outputs": [
    {
     "data": {
      "text/html": [
       "<div>\n",
       "<style scoped>\n",
       "    .dataframe tbody tr th:only-of-type {\n",
       "        vertical-align: middle;\n",
       "    }\n",
       "\n",
       "    .dataframe tbody tr th {\n",
       "        vertical-align: top;\n",
       "    }\n",
       "\n",
       "    .dataframe thead th {\n",
       "        text-align: right;\n",
       "    }\n",
       "</style>\n",
       "<table border=\"1\" class=\"dataframe\">\n",
       "  <thead>\n",
       "    <tr style=\"text-align: right;\">\n",
       "      <th></th>\n",
       "      <th>Company_Brand</th>\n",
       "      <th>Founded</th>\n",
       "      <th>HeadQuarter</th>\n",
       "      <th>Sector</th>\n",
       "      <th>What_it_does</th>\n",
       "      <th>Founders</th>\n",
       "      <th>Investor</th>\n",
       "      <th>Amount</th>\n",
       "      <th>Stage</th>\n",
       "      <th>column10</th>\n",
       "    </tr>\n",
       "  </thead>\n",
       "  <tbody>\n",
       "    <tr>\n",
       "      <th>665</th>\n",
       "      <td>Credgencies</td>\n",
       "      <td>2018.0</td>\n",
       "      <td>None</td>\n",
       "      <td>AI &amp; Debt</td>\n",
       "      <td>Tech-enabled platform for resolution of non-pe...</td>\n",
       "      <td>Rishabh Goel, Anand Agrawal, Mayank Khera</td>\n",
       "      <td>Titan Capital</td>\n",
       "      <td>NaN</td>\n",
       "      <td>Seed Round</td>\n",
       "      <td>None</td>\n",
       "    </tr>\n",
       "    <tr>\n",
       "      <th>497</th>\n",
       "      <td>Virohan</td>\n",
       "      <td>2018.0</td>\n",
       "      <td>Gurgaon</td>\n",
       "      <td>Healthcare/Edtech</td>\n",
       "      <td>Healthcare training company</td>\n",
       "      <td>Kunaal Dudeja, Nalin Saluja, Archit Jayaswal</td>\n",
       "      <td>Keiretsu Forum, Elea Foundation</td>\n",
       "      <td>2800000.0</td>\n",
       "      <td>Seed Round &amp; Series A</td>\n",
       "      <td>None</td>\n",
       "    </tr>\n",
       "    <tr>\n",
       "      <th>407</th>\n",
       "      <td>EkAnek</td>\n",
       "      <td>2018.0</td>\n",
       "      <td>New Delhi</td>\n",
       "      <td>Tech Startup</td>\n",
       "      <td>EkAnek Networks is a new startup that is focus...</td>\n",
       "      <td>Chandranshu Sinha, Kartik Sheth</td>\n",
       "      <td>Lightspeed India Partners, Sequoia Capital India</td>\n",
       "      <td>5040000.0</td>\n",
       "      <td>Edge</td>\n",
       "      <td>None</td>\n",
       "    </tr>\n",
       "    <tr>\n",
       "      <th>434</th>\n",
       "      <td>SenseHawk</td>\n",
       "      <td>2016.0</td>\n",
       "      <td>Bangalore</td>\n",
       "      <td>Solar SaaS</td>\n",
       "      <td>SenseHawk is a SaaS platform that helps improv...</td>\n",
       "      <td>Swarup Mavanoor, Rahul Sankhe</td>\n",
       "      <td>Falcon Edge Capital, SAIF Partners</td>\n",
       "      <td>5000000.0</td>\n",
       "      <td>Series A</td>\n",
       "      <td>None</td>\n",
       "    </tr>\n",
       "    <tr>\n",
       "      <th>470</th>\n",
       "      <td>Mindhouse</td>\n",
       "      <td>2019.0</td>\n",
       "      <td>Gurugram</td>\n",
       "      <td>Healthtech</td>\n",
       "      <td>A gym to train your mind offering workouts and...</td>\n",
       "      <td>Pankaj Chaddah, Staff Pooja Khanna</td>\n",
       "      <td>GGV Capital, Sahi Barual</td>\n",
       "      <td>286000.0</td>\n",
       "      <td>None</td>\n",
       "      <td>None</td>\n",
       "    </tr>\n",
       "  </tbody>\n",
       "</table>\n",
       "</div>"
      ],
      "text/plain": [
       "    Company_Brand  Founded HeadQuarter             Sector  \\\n",
       "665   Credgencies   2018.0        None          AI & Debt   \n",
       "497       Virohan   2018.0     Gurgaon  Healthcare/Edtech   \n",
       "407        EkAnek   2018.0   New Delhi       Tech Startup   \n",
       "434     SenseHawk   2016.0   Bangalore         Solar SaaS   \n",
       "470     Mindhouse   2019.0    Gurugram         Healthtech   \n",
       "\n",
       "                                          What_it_does  \\\n",
       "665  Tech-enabled platform for resolution of non-pe...   \n",
       "497                        Healthcare training company   \n",
       "407  EkAnek Networks is a new startup that is focus...   \n",
       "434  SenseHawk is a SaaS platform that helps improv...   \n",
       "470  A gym to train your mind offering workouts and...   \n",
       "\n",
       "                                         Founders  \\\n",
       "665     Rishabh Goel, Anand Agrawal, Mayank Khera   \n",
       "497  Kunaal Dudeja, Nalin Saluja, Archit Jayaswal   \n",
       "407               Chandranshu Sinha, Kartik Sheth   \n",
       "434                 Swarup Mavanoor, Rahul Sankhe   \n",
       "470            Pankaj Chaddah, Staff Pooja Khanna   \n",
       "\n",
       "                                             Investor     Amount  \\\n",
       "665                                     Titan Capital        NaN   \n",
       "497                   Keiretsu Forum, Elea Foundation  2800000.0   \n",
       "407  Lightspeed India Partners, Sequoia Capital India  5040000.0   \n",
       "434                Falcon Edge Capital, SAIF Partners  5000000.0   \n",
       "470                          GGV Capital, Sahi Barual   286000.0   \n",
       "\n",
       "                     Stage column10  \n",
       "665             Seed Round     None  \n",
       "497  Seed Round & Series A     None  \n",
       "407                   Edge     None  \n",
       "434               Series A     None  \n",
       "470                   None     None  "
      ]
     },
     "execution_count": 136,
     "metadata": {},
     "output_type": "execute_result"
    }
   ],
   "source": [
    "# get a sample of 2020 dataset\n",
    "data_2020.sample(5)"
   ]
  },
  {
   "cell_type": "code",
   "execution_count": 137,
   "id": "31cebea9",
   "metadata": {},
   "outputs": [
    {
     "name": "stdout",
     "output_type": "stream",
     "text": [
      "(1055, 10)\n",
      "There are 1055 rows, and 10 columns\n"
     ]
    }
   ],
   "source": [
    "#checking for number of columns and rows\n",
    "print (data_2020.shape)\n",
    "print(f\"There are {data_2020.shape[0]} rows, and {data_2020.shape[1]} columns\")"
   ]
  },
  {
   "cell_type": "code",
   "execution_count": 138,
   "id": "cefad822",
   "metadata": {},
   "outputs": [
    {
     "name": "stdout",
     "output_type": "stream",
     "text": [
      "There are  3 duplicate(s)\n"
     ]
    }
   ],
   "source": [
    "# checking for duplicates\n",
    "print(\"There are \",data_2020.duplicated().sum(),\"duplicate(s)\")"
   ]
  },
  {
   "cell_type": "code",
   "execution_count": 139,
   "id": "714e1078",
   "metadata": {},
   "outputs": [
    {
     "data": {
      "text/plain": [
       "Company_Brand       0\n",
       "Founded           213\n",
       "HeadQuarter        94\n",
       "Sector             13\n",
       "What_it_does        0\n",
       "Founders           12\n",
       "Investor           38\n",
       "Amount            254\n",
       "Stage             464\n",
       "column10         1053\n",
       "dtype: int64"
      ]
     },
     "execution_count": 139,
     "metadata": {},
     "output_type": "execute_result"
    }
   ],
   "source": [
    "# Checking for nulls\n",
    "data_2020.isnull().sum()"
   ]
  },
  {
   "cell_type": "code",
   "execution_count": 140,
   "id": "b06a6e6c",
   "metadata": {},
   "outputs": [
    {
     "name": "stdout",
     "output_type": "stream",
     "text": [
      "<class 'pandas.core.frame.DataFrame'>\n",
      "RangeIndex: 1055 entries, 0 to 1054\n",
      "Data columns (total 10 columns):\n",
      " #   Column         Non-Null Count  Dtype  \n",
      "---  ------         --------------  -----  \n",
      " 0   Company_Brand  1055 non-null   object \n",
      " 1   Founded        842 non-null    float64\n",
      " 2   HeadQuarter    961 non-null    object \n",
      " 3   Sector         1042 non-null   object \n",
      " 4   What_it_does   1055 non-null   object \n",
      " 5   Founders       1043 non-null   object \n",
      " 6   Investor       1017 non-null   object \n",
      " 7   Amount         801 non-null    float64\n",
      " 8   Stage          591 non-null    object \n",
      " 9   column10       2 non-null      object \n",
      "dtypes: float64(2), object(8)\n",
      "memory usage: 82.6+ KB\n"
     ]
    }
   ],
   "source": [
    "# checking for datatypes in the different columns\n",
    "data_2020.info()"
   ]
  },
  {
   "cell_type": "code",
   "execution_count": 141,
   "id": "b6469ee0",
   "metadata": {},
   "outputs": [
    {
     "data": {
      "text/html": [
       "<div>\n",
       "<style scoped>\n",
       "    .dataframe tbody tr th:only-of-type {\n",
       "        vertical-align: middle;\n",
       "    }\n",
       "\n",
       "    .dataframe tbody tr th {\n",
       "        vertical-align: top;\n",
       "    }\n",
       "\n",
       "    .dataframe thead th {\n",
       "        text-align: right;\n",
       "    }\n",
       "</style>\n",
       "<table border=\"1\" class=\"dataframe\">\n",
       "  <thead>\n",
       "    <tr style=\"text-align: right;\">\n",
       "      <th></th>\n",
       "      <th>Company_Brand</th>\n",
       "      <th>Founded</th>\n",
       "      <th>HeadQuarter</th>\n",
       "      <th>Sector</th>\n",
       "      <th>What_it_does</th>\n",
       "      <th>Founders</th>\n",
       "      <th>Investor</th>\n",
       "      <th>Amount</th>\n",
       "      <th>Stage</th>\n",
       "      <th>column10</th>\n",
       "    </tr>\n",
       "  </thead>\n",
       "  <tbody>\n",
       "    <tr>\n",
       "      <th>count</th>\n",
       "      <td>1055</td>\n",
       "      <td>842.000000</td>\n",
       "      <td>961</td>\n",
       "      <td>1042</td>\n",
       "      <td>1055</td>\n",
       "      <td>1043</td>\n",
       "      <td>1017</td>\n",
       "      <td>8.010000e+02</td>\n",
       "      <td>591</td>\n",
       "      <td>2</td>\n",
       "    </tr>\n",
       "    <tr>\n",
       "      <th>unique</th>\n",
       "      <td>905</td>\n",
       "      <td>NaN</td>\n",
       "      <td>77</td>\n",
       "      <td>302</td>\n",
       "      <td>990</td>\n",
       "      <td>927</td>\n",
       "      <td>848</td>\n",
       "      <td>NaN</td>\n",
       "      <td>42</td>\n",
       "      <td>2</td>\n",
       "    </tr>\n",
       "    <tr>\n",
       "      <th>top</th>\n",
       "      <td>Nykaa</td>\n",
       "      <td>NaN</td>\n",
       "      <td>Bangalore</td>\n",
       "      <td>Fintech</td>\n",
       "      <td>Provides online learning classes</td>\n",
       "      <td>Falguni Nayar</td>\n",
       "      <td>Venture Catalysts</td>\n",
       "      <td>NaN</td>\n",
       "      <td>Series A</td>\n",
       "      <td>Pre-Seed</td>\n",
       "    </tr>\n",
       "    <tr>\n",
       "      <th>freq</th>\n",
       "      <td>6</td>\n",
       "      <td>NaN</td>\n",
       "      <td>317</td>\n",
       "      <td>80</td>\n",
       "      <td>4</td>\n",
       "      <td>6</td>\n",
       "      <td>20</td>\n",
       "      <td>NaN</td>\n",
       "      <td>96</td>\n",
       "      <td>1</td>\n",
       "    </tr>\n",
       "    <tr>\n",
       "      <th>mean</th>\n",
       "      <td>NaN</td>\n",
       "      <td>2015.363420</td>\n",
       "      <td>NaN</td>\n",
       "      <td>NaN</td>\n",
       "      <td>NaN</td>\n",
       "      <td>NaN</td>\n",
       "      <td>NaN</td>\n",
       "      <td>1.130430e+08</td>\n",
       "      <td>NaN</td>\n",
       "      <td>NaN</td>\n",
       "    </tr>\n",
       "    <tr>\n",
       "      <th>std</th>\n",
       "      <td>NaN</td>\n",
       "      <td>4.097909</td>\n",
       "      <td>NaN</td>\n",
       "      <td>NaN</td>\n",
       "      <td>NaN</td>\n",
       "      <td>NaN</td>\n",
       "      <td>NaN</td>\n",
       "      <td>2.476635e+09</td>\n",
       "      <td>NaN</td>\n",
       "      <td>NaN</td>\n",
       "    </tr>\n",
       "    <tr>\n",
       "      <th>min</th>\n",
       "      <td>NaN</td>\n",
       "      <td>1973.000000</td>\n",
       "      <td>NaN</td>\n",
       "      <td>NaN</td>\n",
       "      <td>NaN</td>\n",
       "      <td>NaN</td>\n",
       "      <td>NaN</td>\n",
       "      <td>1.270000e+04</td>\n",
       "      <td>NaN</td>\n",
       "      <td>NaN</td>\n",
       "    </tr>\n",
       "    <tr>\n",
       "      <th>25%</th>\n",
       "      <td>NaN</td>\n",
       "      <td>2014.000000</td>\n",
       "      <td>NaN</td>\n",
       "      <td>NaN</td>\n",
       "      <td>NaN</td>\n",
       "      <td>NaN</td>\n",
       "      <td>NaN</td>\n",
       "      <td>1.000000e+06</td>\n",
       "      <td>NaN</td>\n",
       "      <td>NaN</td>\n",
       "    </tr>\n",
       "    <tr>\n",
       "      <th>50%</th>\n",
       "      <td>NaN</td>\n",
       "      <td>2016.000000</td>\n",
       "      <td>NaN</td>\n",
       "      <td>NaN</td>\n",
       "      <td>NaN</td>\n",
       "      <td>NaN</td>\n",
       "      <td>NaN</td>\n",
       "      <td>3.000000e+06</td>\n",
       "      <td>NaN</td>\n",
       "      <td>NaN</td>\n",
       "    </tr>\n",
       "    <tr>\n",
       "      <th>75%</th>\n",
       "      <td>NaN</td>\n",
       "      <td>2018.000000</td>\n",
       "      <td>NaN</td>\n",
       "      <td>NaN</td>\n",
       "      <td>NaN</td>\n",
       "      <td>NaN</td>\n",
       "      <td>NaN</td>\n",
       "      <td>1.100000e+07</td>\n",
       "      <td>NaN</td>\n",
       "      <td>NaN</td>\n",
       "    </tr>\n",
       "    <tr>\n",
       "      <th>max</th>\n",
       "      <td>NaN</td>\n",
       "      <td>2020.000000</td>\n",
       "      <td>NaN</td>\n",
       "      <td>NaN</td>\n",
       "      <td>NaN</td>\n",
       "      <td>NaN</td>\n",
       "      <td>NaN</td>\n",
       "      <td>7.000000e+10</td>\n",
       "      <td>NaN</td>\n",
       "      <td>NaN</td>\n",
       "    </tr>\n",
       "  </tbody>\n",
       "</table>\n",
       "</div>"
      ],
      "text/plain": [
       "       Company_Brand      Founded HeadQuarter   Sector  \\\n",
       "count           1055   842.000000         961     1042   \n",
       "unique           905          NaN          77      302   \n",
       "top            Nykaa          NaN   Bangalore  Fintech   \n",
       "freq               6          NaN         317       80   \n",
       "mean             NaN  2015.363420         NaN      NaN   \n",
       "std              NaN     4.097909         NaN      NaN   \n",
       "min              NaN  1973.000000         NaN      NaN   \n",
       "25%              NaN  2014.000000         NaN      NaN   \n",
       "50%              NaN  2016.000000         NaN      NaN   \n",
       "75%              NaN  2018.000000         NaN      NaN   \n",
       "max              NaN  2020.000000         NaN      NaN   \n",
       "\n",
       "                            What_it_does       Founders           Investor  \\\n",
       "count                               1055           1043               1017   \n",
       "unique                               990            927                848   \n",
       "top     Provides online learning classes  Falguni Nayar  Venture Catalysts   \n",
       "freq                                   4              6                 20   \n",
       "mean                                 NaN            NaN                NaN   \n",
       "std                                  NaN            NaN                NaN   \n",
       "min                                  NaN            NaN                NaN   \n",
       "25%                                  NaN            NaN                NaN   \n",
       "50%                                  NaN            NaN                NaN   \n",
       "75%                                  NaN            NaN                NaN   \n",
       "max                                  NaN            NaN                NaN   \n",
       "\n",
       "              Amount     Stage  column10  \n",
       "count   8.010000e+02       591         2  \n",
       "unique           NaN        42         2  \n",
       "top              NaN  Series A  Pre-Seed  \n",
       "freq             NaN        96         1  \n",
       "mean    1.130430e+08       NaN       NaN  \n",
       "std     2.476635e+09       NaN       NaN  \n",
       "min     1.270000e+04       NaN       NaN  \n",
       "25%     1.000000e+06       NaN       NaN  \n",
       "50%     3.000000e+06       NaN       NaN  \n",
       "75%     1.100000e+07       NaN       NaN  \n",
       "max     7.000000e+10       NaN       NaN  "
      ]
     },
     "execution_count": 141,
     "metadata": {},
     "output_type": "execute_result"
    }
   ],
   "source": [
    "# Describe the data\n",
    "data_2020.describe(include='all')"
   ]
  },
  {
   "cell_type": "markdown",
   "id": "710899d6",
   "metadata": {},
   "source": [
    "**Findings**  \n",
    "- Nykaa company was the most common company  \n",
    "\n",
    "- Majority of the companies had their headquarter at Bangalore  \n",
    "\n",
    "- The average Amount invested was 113042969.54"
   ]
  },
  {
   "cell_type": "markdown",
   "id": "302f9953",
   "metadata": {},
   "source": [
    "## **2.3. 2021 EDA**"
   ]
  },
  {
   "cell_type": "code",
   "execution_count": 142,
   "id": "8677d87a-8df2-4c78-8bb3-f70f22ba3a64",
   "metadata": {},
   "outputs": [
    {
     "data": {
      "text/html": [
       "<div>\n",
       "<style scoped>\n",
       "    .dataframe tbody tr th:only-of-type {\n",
       "        vertical-align: middle;\n",
       "    }\n",
       "\n",
       "    .dataframe tbody tr th {\n",
       "        vertical-align: top;\n",
       "    }\n",
       "\n",
       "    .dataframe thead th {\n",
       "        text-align: right;\n",
       "    }\n",
       "</style>\n",
       "<table border=\"1\" class=\"dataframe\">\n",
       "  <thead>\n",
       "    <tr style=\"text-align: right;\">\n",
       "      <th></th>\n",
       "      <th>Company_Brand</th>\n",
       "      <th>Founded</th>\n",
       "      <th>HeadQuarter</th>\n",
       "      <th>Sector</th>\n",
       "      <th>What_it_does</th>\n",
       "      <th>Founders</th>\n",
       "      <th>Investor</th>\n",
       "      <th>Amount</th>\n",
       "      <th>Stage</th>\n",
       "    </tr>\n",
       "  </thead>\n",
       "  <tbody>\n",
       "    <tr>\n",
       "      <th>1192</th>\n",
       "      <td>Geniemode</td>\n",
       "      <td>2021.0</td>\n",
       "      <td>Gurugram</td>\n",
       "      <td>B2B</td>\n",
       "      <td>Transforming global sourcing for retailers &amp; s...</td>\n",
       "      <td>Amit Sharma, Tanuj Gangwani</td>\n",
       "      <td>Info Edge Ventures</td>\n",
       "      <td>$2000000</td>\n",
       "      <td>None</td>\n",
       "    </tr>\n",
       "    <tr>\n",
       "      <th>503</th>\n",
       "      <td>Captain Fresh</td>\n",
       "      <td>2019.0</td>\n",
       "      <td>Bangalore</td>\n",
       "      <td>Logistics</td>\n",
       "      <td>A B2B marketplace leveraging technology to del...</td>\n",
       "      <td>Utham Gowda</td>\n",
       "      <td>Accel Partners, Matrix India</td>\n",
       "      <td>$12000000</td>\n",
       "      <td>Series A</td>\n",
       "    </tr>\n",
       "    <tr>\n",
       "      <th>288</th>\n",
       "      <td>Captain Fresh</td>\n",
       "      <td>2019.0</td>\n",
       "      <td>Bangalore</td>\n",
       "      <td>Logistics &amp; Supply Chain</td>\n",
       "      <td>A B2B marketplace leveraging technology to del...</td>\n",
       "      <td>Utham Gowda</td>\n",
       "      <td>Tiger Global, Prosus Ventures</td>\n",
       "      <td>$40000000</td>\n",
       "      <td>Series B</td>\n",
       "    </tr>\n",
       "    <tr>\n",
       "      <th>814</th>\n",
       "      <td>Keito</td>\n",
       "      <td>2016.0</td>\n",
       "      <td>Pune</td>\n",
       "      <td>AI company</td>\n",
       "      <td>NO-CODE &lt;&gt; Human-assisted machine learning pla...</td>\n",
       "      <td>Amal P S</td>\n",
       "      <td>Rajesh Agarwal, Nandkishore Mundada</td>\n",
       "      <td>Undisclosed</td>\n",
       "      <td>Seed</td>\n",
       "    </tr>\n",
       "    <tr>\n",
       "      <th>561</th>\n",
       "      <td>Digit Insurance</td>\n",
       "      <td>2016.0</td>\n",
       "      <td>Bangalore</td>\n",
       "      <td>Insuretech</td>\n",
       "      <td>Digit becomes the first Unicorn of 2021, value...</td>\n",
       "      <td>Kamesh Goyal</td>\n",
       "      <td>Faering Capital, Sequoia Capital India, IIFL A...</td>\n",
       "      <td>$200000000</td>\n",
       "      <td>None</td>\n",
       "    </tr>\n",
       "  </tbody>\n",
       "</table>\n",
       "</div>"
      ],
      "text/plain": [
       "        Company_Brand  Founded HeadQuarter                    Sector  \\\n",
       "1192        Geniemode   2021.0    Gurugram                       B2B   \n",
       "503     Captain Fresh   2019.0   Bangalore                 Logistics   \n",
       "288     Captain Fresh   2019.0   Bangalore  Logistics & Supply Chain   \n",
       "814             Keito   2016.0        Pune                AI company   \n",
       "561   Digit Insurance   2016.0   Bangalore                Insuretech   \n",
       "\n",
       "                                           What_it_does  \\\n",
       "1192  Transforming global sourcing for retailers & s...   \n",
       "503   A B2B marketplace leveraging technology to del...   \n",
       "288   A B2B marketplace leveraging technology to del...   \n",
       "814   NO-CODE <> Human-assisted machine learning pla...   \n",
       "561   Digit becomes the first Unicorn of 2021, value...   \n",
       "\n",
       "                         Founders  \\\n",
       "1192  Amit Sharma, Tanuj Gangwani   \n",
       "503                   Utham Gowda   \n",
       "288                   Utham Gowda   \n",
       "814                      Amal P S   \n",
       "561                  Kamesh Goyal   \n",
       "\n",
       "                                               Investor       Amount     Stage  \n",
       "1192                                 Info Edge Ventures     $2000000      None  \n",
       "503                        Accel Partners, Matrix India    $12000000  Series A  \n",
       "288                       Tiger Global, Prosus Ventures    $40000000  Series B  \n",
       "814                 Rajesh Agarwal, Nandkishore Mundada  Undisclosed      Seed  \n",
       "561   Faering Capital, Sequoia Capital India, IIFL A...   $200000000      None  "
      ]
     },
     "execution_count": 142,
     "metadata": {},
     "output_type": "execute_result"
    }
   ],
   "source": [
    "# get a sample of 2021 dataset\n",
    "data_2021.sample(5)"
   ]
  },
  {
   "cell_type": "code",
   "execution_count": 143,
   "id": "2e589a02-7199-4a0b-902b-2f82a820b2f6",
   "metadata": {},
   "outputs": [
    {
     "name": "stdout",
     "output_type": "stream",
     "text": [
      "(1209, 9)\n",
      "The 2021 dataset has 1209 rows and 9 Columns\n"
     ]
    }
   ],
   "source": [
    "# get the number of rows and columns for the datasets\n",
    "print(f'{data_2021.shape}')\n",
    "\n",
    "print(f\"The 2021 dataset has {data_2021.shape[0]} rows and {data_2021.shape[1]} Columns\")"
   ]
  },
  {
   "cell_type": "code",
   "execution_count": 144,
   "id": "51576669-93b6-4c83-abd4-0ec1383f911a",
   "metadata": {},
   "outputs": [
    {
     "name": "stdout",
     "output_type": "stream",
     "text": [
      "There are  19 duplicate(s)\n"
     ]
    }
   ],
   "source": [
    "# checking for duplicates\n",
    "print(\"There are \",data_2021.duplicated().sum(),\"duplicate(s)\")"
   ]
  },
  {
   "cell_type": "code",
   "execution_count": 145,
   "id": "95d118f0-22c6-44e9-8e2f-032397e4f2fd",
   "metadata": {},
   "outputs": [
    {
     "data": {
      "text/plain": [
       "Company_Brand      0\n",
       "Founded            1\n",
       "HeadQuarter        1\n",
       "Sector             0\n",
       "What_it_does       0\n",
       "Founders           4\n",
       "Investor          62\n",
       "Amount             3\n",
       "Stage            428\n",
       "dtype: int64"
      ]
     },
     "execution_count": 145,
     "metadata": {},
     "output_type": "execute_result"
    }
   ],
   "source": [
    "#  Checking for nulls\n",
    "data_2021.isnull().sum()"
   ]
  },
  {
   "cell_type": "code",
   "execution_count": 146,
   "id": "0a0d12df-af4b-4475-87fe-ea3e0ae6ecae",
   "metadata": {},
   "outputs": [
    {
     "name": "stdout",
     "output_type": "stream",
     "text": [
      "<class 'pandas.core.frame.DataFrame'>\n",
      "RangeIndex: 1209 entries, 0 to 1208\n",
      "Data columns (total 9 columns):\n",
      " #   Column         Non-Null Count  Dtype  \n",
      "---  ------         --------------  -----  \n",
      " 0   Company_Brand  1209 non-null   object \n",
      " 1   Founded        1208 non-null   float64\n",
      " 2   HeadQuarter    1208 non-null   object \n",
      " 3   Sector         1209 non-null   object \n",
      " 4   What_it_does   1209 non-null   object \n",
      " 5   Founders       1205 non-null   object \n",
      " 6   Investor       1147 non-null   object \n",
      " 7   Amount         1206 non-null   object \n",
      " 8   Stage          781 non-null    object \n",
      "dtypes: float64(1), object(8)\n",
      "memory usage: 85.1+ KB\n"
     ]
    }
   ],
   "source": [
    "# checking for datatypes in the different columns\n",
    "data_2021.info()"
   ]
  },
  {
   "cell_type": "code",
   "execution_count": 147,
   "id": "59bb1fcb-4c04-4466-8dc3-533cc7a66d02",
   "metadata": {},
   "outputs": [
    {
     "data": {
      "text/html": [
       "<div>\n",
       "<style scoped>\n",
       "    .dataframe tbody tr th:only-of-type {\n",
       "        vertical-align: middle;\n",
       "    }\n",
       "\n",
       "    .dataframe tbody tr th {\n",
       "        vertical-align: top;\n",
       "    }\n",
       "\n",
       "    .dataframe thead th {\n",
       "        text-align: right;\n",
       "    }\n",
       "</style>\n",
       "<table border=\"1\" class=\"dataframe\">\n",
       "  <thead>\n",
       "    <tr style=\"text-align: right;\">\n",
       "      <th></th>\n",
       "      <th>Company_Brand</th>\n",
       "      <th>Founded</th>\n",
       "      <th>HeadQuarter</th>\n",
       "      <th>Sector</th>\n",
       "      <th>What_it_does</th>\n",
       "      <th>Founders</th>\n",
       "      <th>Investor</th>\n",
       "      <th>Amount</th>\n",
       "      <th>Stage</th>\n",
       "    </tr>\n",
       "  </thead>\n",
       "  <tbody>\n",
       "    <tr>\n",
       "      <th>count</th>\n",
       "      <td>1209</td>\n",
       "      <td>1208.000000</td>\n",
       "      <td>1208</td>\n",
       "      <td>1209</td>\n",
       "      <td>1209</td>\n",
       "      <td>1205</td>\n",
       "      <td>1147</td>\n",
       "      <td>1206</td>\n",
       "      <td>781</td>\n",
       "    </tr>\n",
       "    <tr>\n",
       "      <th>unique</th>\n",
       "      <td>1033</td>\n",
       "      <td>NaN</td>\n",
       "      <td>70</td>\n",
       "      <td>254</td>\n",
       "      <td>1143</td>\n",
       "      <td>1095</td>\n",
       "      <td>937</td>\n",
       "      <td>278</td>\n",
       "      <td>31</td>\n",
       "    </tr>\n",
       "    <tr>\n",
       "      <th>top</th>\n",
       "      <td>BharatPe</td>\n",
       "      <td>NaN</td>\n",
       "      <td>Bangalore</td>\n",
       "      <td>FinTech</td>\n",
       "      <td>BharatPe develops a QR code-based payment app ...</td>\n",
       "      <td>Ashneer Grover, Shashvat Nakrani</td>\n",
       "      <td>Inflection Point Ventures</td>\n",
       "      <td>$Undisclosed</td>\n",
       "      <td>Seed</td>\n",
       "    </tr>\n",
       "    <tr>\n",
       "      <th>freq</th>\n",
       "      <td>8</td>\n",
       "      <td>NaN</td>\n",
       "      <td>426</td>\n",
       "      <td>122</td>\n",
       "      <td>4</td>\n",
       "      <td>7</td>\n",
       "      <td>24</td>\n",
       "      <td>73</td>\n",
       "      <td>246</td>\n",
       "    </tr>\n",
       "    <tr>\n",
       "      <th>mean</th>\n",
       "      <td>NaN</td>\n",
       "      <td>2016.655629</td>\n",
       "      <td>NaN</td>\n",
       "      <td>NaN</td>\n",
       "      <td>NaN</td>\n",
       "      <td>NaN</td>\n",
       "      <td>NaN</td>\n",
       "      <td>NaN</td>\n",
       "      <td>NaN</td>\n",
       "    </tr>\n",
       "    <tr>\n",
       "      <th>std</th>\n",
       "      <td>NaN</td>\n",
       "      <td>4.517364</td>\n",
       "      <td>NaN</td>\n",
       "      <td>NaN</td>\n",
       "      <td>NaN</td>\n",
       "      <td>NaN</td>\n",
       "      <td>NaN</td>\n",
       "      <td>NaN</td>\n",
       "      <td>NaN</td>\n",
       "    </tr>\n",
       "    <tr>\n",
       "      <th>min</th>\n",
       "      <td>NaN</td>\n",
       "      <td>1963.000000</td>\n",
       "      <td>NaN</td>\n",
       "      <td>NaN</td>\n",
       "      <td>NaN</td>\n",
       "      <td>NaN</td>\n",
       "      <td>NaN</td>\n",
       "      <td>NaN</td>\n",
       "      <td>NaN</td>\n",
       "    </tr>\n",
       "    <tr>\n",
       "      <th>25%</th>\n",
       "      <td>NaN</td>\n",
       "      <td>2015.000000</td>\n",
       "      <td>NaN</td>\n",
       "      <td>NaN</td>\n",
       "      <td>NaN</td>\n",
       "      <td>NaN</td>\n",
       "      <td>NaN</td>\n",
       "      <td>NaN</td>\n",
       "      <td>NaN</td>\n",
       "    </tr>\n",
       "    <tr>\n",
       "      <th>50%</th>\n",
       "      <td>NaN</td>\n",
       "      <td>2018.000000</td>\n",
       "      <td>NaN</td>\n",
       "      <td>NaN</td>\n",
       "      <td>NaN</td>\n",
       "      <td>NaN</td>\n",
       "      <td>NaN</td>\n",
       "      <td>NaN</td>\n",
       "      <td>NaN</td>\n",
       "    </tr>\n",
       "    <tr>\n",
       "      <th>75%</th>\n",
       "      <td>NaN</td>\n",
       "      <td>2020.000000</td>\n",
       "      <td>NaN</td>\n",
       "      <td>NaN</td>\n",
       "      <td>NaN</td>\n",
       "      <td>NaN</td>\n",
       "      <td>NaN</td>\n",
       "      <td>NaN</td>\n",
       "      <td>NaN</td>\n",
       "    </tr>\n",
       "    <tr>\n",
       "      <th>max</th>\n",
       "      <td>NaN</td>\n",
       "      <td>2021.000000</td>\n",
       "      <td>NaN</td>\n",
       "      <td>NaN</td>\n",
       "      <td>NaN</td>\n",
       "      <td>NaN</td>\n",
       "      <td>NaN</td>\n",
       "      <td>NaN</td>\n",
       "      <td>NaN</td>\n",
       "    </tr>\n",
       "  </tbody>\n",
       "</table>\n",
       "</div>"
      ],
      "text/plain": [
       "       Company_Brand      Founded HeadQuarter   Sector  \\\n",
       "count           1209  1208.000000        1208     1209   \n",
       "unique          1033          NaN          70      254   \n",
       "top         BharatPe          NaN   Bangalore  FinTech   \n",
       "freq               8          NaN         426      122   \n",
       "mean             NaN  2016.655629         NaN      NaN   \n",
       "std              NaN     4.517364         NaN      NaN   \n",
       "min              NaN  1963.000000         NaN      NaN   \n",
       "25%              NaN  2015.000000         NaN      NaN   \n",
       "50%              NaN  2018.000000         NaN      NaN   \n",
       "75%              NaN  2020.000000         NaN      NaN   \n",
       "max              NaN  2021.000000         NaN      NaN   \n",
       "\n",
       "                                             What_it_does  \\\n",
       "count                                                1209   \n",
       "unique                                               1143   \n",
       "top     BharatPe develops a QR code-based payment app ...   \n",
       "freq                                                    4   \n",
       "mean                                                  NaN   \n",
       "std                                                   NaN   \n",
       "min                                                   NaN   \n",
       "25%                                                   NaN   \n",
       "50%                                                   NaN   \n",
       "75%                                                   NaN   \n",
       "max                                                   NaN   \n",
       "\n",
       "                                Founders                   Investor  \\\n",
       "count                               1205                       1147   \n",
       "unique                              1095                        937   \n",
       "top     Ashneer Grover, Shashvat Nakrani  Inflection Point Ventures   \n",
       "freq                                   7                         24   \n",
       "mean                                 NaN                        NaN   \n",
       "std                                  NaN                        NaN   \n",
       "min                                  NaN                        NaN   \n",
       "25%                                  NaN                        NaN   \n",
       "50%                                  NaN                        NaN   \n",
       "75%                                  NaN                        NaN   \n",
       "max                                  NaN                        NaN   \n",
       "\n",
       "              Amount Stage  \n",
       "count           1206   781  \n",
       "unique           278    31  \n",
       "top     $Undisclosed  Seed  \n",
       "freq              73   246  \n",
       "mean             NaN   NaN  \n",
       "std              NaN   NaN  \n",
       "min              NaN   NaN  \n",
       "25%              NaN   NaN  \n",
       "50%              NaN   NaN  \n",
       "75%              NaN   NaN  \n",
       "max              NaN   NaN  "
      ]
     },
     "execution_count": 147,
     "metadata": {},
     "output_type": "execute_result"
    }
   ],
   "source": [
    "# Describe the dataset\n",
    "data_2021.describe(include='all')"
   ]
  },
  {
   "cell_type": "markdown",
   "id": "2803a9d2",
   "metadata": {},
   "source": [
    "**Findings**  \n",
    "- BharatPe is the most common company  \n",
    "\n",
    "- Most companies invested in the FinTech sector  \n",
    "\n",
    "- Majority of the companies were found in Bangalore  "
   ]
  },
  {
   "cell_type": "markdown",
   "id": "406e25a7-e736-4340-b842-a579360997d6",
   "metadata": {},
   "source": [
    "\n",
    "**Overall Observations:**  \n",
    "**Issues with the data**\n",
    "\n",
    "1. There is a discrepancy in the naming conventions between the columns in the 2018 and 2019 datasets compared to the 2020 and 2021 datasets.\n",
    "\n",
    "2. The 2018 dataset exhibits some missing columns, contributing to an incomplete representation of the data.\n",
    "\n",
    "3. Conversely, the 2020 dataset contains an additional column that appears to be extraneous and does not serve a meaningful purpose in our analysis.\n",
    "\n",
    "**Course of Action:**\n",
    "\n",
    "1. **Missing Column Engineering for 2018:**\n",
    "   - We will address the absence of certain columns in the 2018 dataset by employing data engineering techniques to create and populate the missing columns, ensuring a comprehensive and consistent dataset.\n",
    "\n",
    "2. **Column Name Standardization:**\n",
    "   - To establish uniformity and coherence across all datasets, we will embark on a column renaming process for the 2018 and 2019 datasets. This action aims to align the naming conventions with those observed in the 2020 and 2021 datasets, facilitating seamless data integration and analysis.\n",
    "\n",
    "3. **Extraneous Column Removal in 2020:**\n",
    "   - The redundant column identified in the 2020 dataset will be removed, streamlining the dataset and eliminating unnecessary elements that do not contribute to the overall analysis objectives.\n",
    "\n",
    "These actions collectively enhance the integrity, consistency, and completeness of the dataset, paving the way for a more robust and coherent analytical process.\n",
    "ical process.\n",
    "\n",
    "\n",
    "\n",
    "\n",
    "\n"
   ]
  },
  {
   "cell_type": "markdown",
   "id": "5959a53d-4842-48c0-ab8c-77448bd42a0a",
   "metadata": {},
   "source": [
    "# **3. Data Cleaning and Preparation**"
   ]
  },
  {
   "cell_type": "markdown",
   "id": "5a6699fc",
   "metadata": {},
   "source": [
    "## **3.1. Convert Indian Rupee values in the 2018 data to dollars**\n"
   ]
  },
  {
   "cell_type": "code",
   "execution_count": 148,
   "id": "4c0d58f5",
   "metadata": {},
   "outputs": [],
   "source": [
    "# Replace '₹', commas, '—', and \"''\" in 'Amount' column\n",
    "data_2018['Amount'] = data_2018['Amount'].str.replace(',', '').str.replace('—', '').str.replace(\"''\",'').replace('', np.nan)\n",
    "\n",
    "# Conditionally apply multiplication only where '₹' is present\n",
    "mask = data_2018['Amount'].str.contains('₹', na=False)\n",
    "data_2018.loc[mask, 'Amount'] = data_2018.loc[mask, 'Amount'].str.replace('₹', '').astype(float) * 0.0146"
   ]
  },
  {
   "cell_type": "markdown",
   "id": "1d191469",
   "metadata": {},
   "source": [
    "### **Add year data was collected**\n",
    "\n",
    "- There is need to add a column that represents the year each dataset was collected. This will help with handling the datasets after merging the dataframes \n"
   ]
  },
  {
   "cell_type": "code",
   "execution_count": 149,
   "id": "fbfa9169",
   "metadata": {},
   "outputs": [],
   "source": [
    "# add year when data was collected column to every dataset\n",
    "data_2018['year'] = pd.to_datetime('2018', format='%Y').year\n",
    "data_2019['year'] = pd.to_datetime('2019', format='%Y').year\n",
    "data_2020['year'] = pd.to_datetime('2020', format='%Y').year\n",
    "data_2021['year'] = pd.to_datetime('2021', format='%Y').year"
   ]
  },
  {
   "cell_type": "code",
   "execution_count": 150,
   "id": "e0cd1b1e",
   "metadata": {},
   "outputs": [],
   "source": [
    "def concat_dataframes(data,data1, data2, data3):\n",
    "    \"\"\"\n",
    "    Concatenates four dataframes along the row axis.\n",
    "\n",
    "    Parameters:\n",
    "    data (pandas.DataFrame): The first dataframe to concatenate.\n",
    "    data1 (pandas.DataFrame): The second dataframe to concatenate.\n",
    "    data2 (pandas.DataFrame): The third dataframe to concatenate.\n",
    "    data3 (pandas.DataFrame): The fourth dataframe to concatenate.\n",
    "\n",
    "    Returns:\n",
    "    pandas.DataFrame: The concatenated dataframe.\n",
    "    \"\"\"\n",
    "    # Rename columns to make them consistent across dataframes\n",
    "    df1 = data.rename(columns={'Company_Brand': 'company_brand', 'Founded': 'founded','HeadQuarter': 'headquarter','Sector': 'sector','What_it_does': 'about_company','Founders':'founders','Investor':'investor','Amount':'amount','Stage':'series', 'year' : 'year'})\n",
    "    df2 = data1.rename(columns={'Company_Brand': 'company_brand', 'Founded': 'founded','HeadQuarter': 'headquarter','Sector': 'sector','What_it_does': 'about_company','Founders':'founders','Investor':'investor','Amount':'amount','Stage':'series','year' : 'year'})\n",
    "    df3 = data2.rename(columns={'Company/Brand': 'company_brand', 'Founded': 'founded','HeadQuarter': 'headquarter','Sector': 'sector','What it does': 'about_company','Founders':'founders','Investor':'investor','Amount($)':'amount','Stage':'series','year' : 'year'})\n",
    "    df4 = data3.rename(columns={'Company Name': 'company_brand','Location': 'headquarter','Industry': 'sector','About Company': 'about_company','Amount':'amount','Round/Series':'series','year' : 'year'})\n",
    "\n",
    "    # Concatenate dataframes along the row axis\n",
    "    result = pd.concat([df1, df2, df3,df4], axis=0).reset_index(drop=True)\n",
    "\n",
    "    return result"
   ]
  },
  {
   "cell_type": "markdown",
   "id": "46622b7f",
   "metadata": {},
   "source": [
    "## **Concatenate the dataframes**"
   ]
  },
  {
   "cell_type": "code",
   "execution_count": 151,
   "id": "c6f49924",
   "metadata": {},
   "outputs": [],
   "source": [
    "# concating the dataframes\n",
    "df= concat_dataframes(data_2021,data_2020,data_2019,data_2018)"
   ]
  },
  {
   "cell_type": "code",
   "execution_count": 152,
   "id": "38deab22",
   "metadata": {},
   "outputs": [
    {
     "name": "stdout",
     "output_type": "stream",
     "text": [
      "<class 'pandas.core.frame.DataFrame'>\n",
      "RangeIndex: 2879 entries, 0 to 2878\n",
      "Data columns (total 11 columns):\n",
      " #   Column         Non-Null Count  Dtype  \n",
      "---  ------         --------------  -----  \n",
      " 0   company_brand  2879 non-null   object \n",
      " 1   founded        2110 non-null   float64\n",
      " 2   headquarter    2765 non-null   object \n",
      " 3   sector         2861 non-null   object \n",
      " 4   about_company  2879 non-null   object \n",
      " 5   founders       2334 non-null   object \n",
      " 6   investor       2253 non-null   object \n",
      " 7   amount         2474 non-null   object \n",
      " 8   series         1941 non-null   object \n",
      " 9   year           2879 non-null   int64  \n",
      " 10  column10       2 non-null      object \n",
      "dtypes: float64(1), int64(1), object(9)\n",
      "memory usage: 247.5+ KB\n"
     ]
    }
   ],
   "source": [
    "df.info()"
   ]
  },
  {
   "cell_type": "code",
   "execution_count": 153,
   "id": "482326e4",
   "metadata": {},
   "outputs": [],
   "source": [
    "#Drop the extreneous column 10\n",
    "df.drop('column10', axis=1, inplace= True)"
   ]
  },
  {
   "cell_type": "markdown",
   "id": "4d9d8fc2",
   "metadata": {},
   "source": [
    "## **Cleaning 'Amount' column**"
   ]
  },
  {
   "cell_type": "markdown",
   "id": "7dafaa40",
   "metadata": {},
   "source": [
    "**Notes**  \n",
    "- Remove all currency signs  \n",
    "\n",
    "- Remove all other umwanted characters, words and symbols  \n",
    "\n",
    "- Fill the nulls uning interpolate method \n",
    "\n",
    "- Convert the column from object to float"
   ]
  },
  {
   "cell_type": "code",
   "execution_count": 154,
   "id": "03346370",
   "metadata": {},
   "outputs": [],
   "source": [
    "df['amount']=df['amount'].replace('\\$','',regex=True)\n",
    "df['amount']=df['amount'].replace(['Undisclosed','undisclosed',None],np.NAN)\n",
    "df['headquarter']=df['headquarter'].str.strip('\\t#REF!')\n",
    "df['amount']=df['amount'].replace('\\,','',regex=True)\n",
    "df['amount']=df['amount'].replace(\",\",\"\")\n",
    "\n"
   ]
  },
  {
   "cell_type": "code",
   "execution_count": 156,
   "metadata": {},
   "outputs": [],
   "source": [
    "# fix index 242\n",
    "df.at[242, 'headquarter'] = None\n",
    "df.at[242, 'sector'] = 'Pharmaceuticals'\n",
    "df.at[242, 'founders'] = 'Varun Khanna'\n",
    "df.at[242, 'investor'] = 'Morgan Stanley Private Equity Asia'\n",
    "df.at[242, 'amount'] = '22000000'\n",
    "df.at[242, 'series'] = 'Series C'\n",
    "df.at[242, 'about_company'] = 'Development and Manufacturing'\n",
    "\n",
    "# drop the duplicate row\n",
    "df = df.drop(256, axis=0, errors='ignore')\n",
    "\n",
    "# fix index 1148\n",
    "df.at[1148, 'sector'] = 'Logistics'\n",
    "df.at[1148, 'founders'] ='Basant Kumar' \n",
    "df.at[1148, 'investor'] =None\n",
    "df.at[1148, 'amount'] = 1000000\n",
    "df.at[1148, 'series'] = 'Seed'\n",
    " \n",
    "# fix index 257\n",
    "df.at[257, 'sector'] = 'Transport'\n",
    "df.at[257, 'founders'] ='Anshuman Maheshwary'\n",
    "df.at[257, 'investor'] =None\n",
    "df.at[257, 'amount'] = 5000000\n",
    "df.at[257, 'series'] = 'Seed'\n",
    "\n",
    "# fix index 98\n",
    "df.at[98, 'sector'] = 'Computer Games'\n",
    "df.at[98, 'founders'] ='Pritesh Kumar'\n",
    "df.at[98, 'investor'] =None\n",
    "df.at[98, 'amount'] = 1200000\n",
    "df.at[98, 'series'] = 'Seed'\n",
    "\n",
    "# drop the duplicate column\n",
    "df = df.drop(111, axis=0, errors='ignore')\n",
    "\n",
    "# fix index 677\n",
    "df.at[677, 'amount'] = 1000000\n",
    "df.at[677, 'series'] = 'Angel'\n",
    "\n",
    "# fix index 545\n",
    "df.at[545, 'investor'] =None\n",
    "df.at[545, 'amount'] = 1000000\n",
    "df.at[545, 'series'] = 'Pre-series A'\n",
    "\n",
    "# fix index 538\n",
    "df.at[538, 'investor'] =None\n",
    "df.at[538, 'amount'] = 300000\n",
    "df.at[538, 'series'] = 'Pre-Seed'\n",
    "\n",
    "# fix index 551\n",
    "df.at[551,'amount']=300000\n",
    "df.at[551,'series']=None\n",
    "\n",
    "# fix index 674\n",
    "df.at[674,'amount']=6000000\n",
    "df.at[674,'series']=None\n",
    "\n",
    "# fix index 2531\n",
    "df.at[2531,'amount']=None\n",
    "df.at[2531,'series']=None\n"
   ]
  },
  {
   "cell_type": "code",
   "execution_count": 157,
   "id": "8ff95e97",
   "metadata": {},
   "outputs": [],
   "source": [
    "# change the amount column to numeric\n",
    "df['amount']=pd.to_numeric(df['amount'])"
   ]
  },
  {
   "cell_type": "code",
   "execution_count": 223,
   "id": "a83bfd86",
   "metadata": {},
   "outputs": [],
   "source": [
    "# fill nulll values with 0\n",
    "df['amount'].fillna(0, inplace=True)"
   ]
  },
  {
   "cell_type": "code",
   "execution_count": 224,
   "id": "e92d5c43",
   "metadata": {},
   "outputs": [
    {
     "data": {
      "text/plain": [
       "0"
      ]
     },
     "execution_count": 224,
     "metadata": {},
     "output_type": "execute_result"
    }
   ],
   "source": [
    "df['amount'].isna().sum()"
   ]
  },
  {
   "cell_type": "markdown",
   "id": "51fb2513",
   "metadata": {},
   "source": [
    "## **Cleaning data_year column**"
   ]
  },
  {
   "cell_type": "markdown",
   "id": "b279ed04",
   "metadata": {},
   "source": [
    "**Notes**  \n",
    "\n",
    "\n",
    "- Convert data type to period\n"
   ]
  },
  {
   "cell_type": "code",
   "execution_count": 158,
   "id": "0cbb5d28",
   "metadata": {},
   "outputs": [],
   "source": [
    "# Convert the data_year column to date\n",
    "df['year']=pd.to_datetime(df['year'], format='%Y')\n",
    "# df['year']=df['year'].dt.to_period('y')\n",
    "df['founded']=pd.to_datetime(df['founded']).dt.year"
   ]
  },
  {
   "cell_type": "code",
   "execution_count": 159,
   "id": "375a213e",
   "metadata": {},
   "outputs": [
    {
     "name": "stdout",
     "output_type": "stream",
     "text": [
      "There are 0 Null values in the 'year' column\n"
     ]
    }
   ],
   "source": [
    "# check for nulls and duplicated\n",
    "print(f\"There are {df['year'].isna().sum()} Null values in the 'year' column\")"
   ]
  },
  {
   "cell_type": "code",
   "execution_count": 160,
   "id": "5cba9afa",
   "metadata": {},
   "outputs": [
    {
     "name": "stdout",
     "output_type": "stream",
     "text": [
      "<class 'pandas.core.series.Series'>\n",
      "Index: 2877 entries, 0 to 2878\n",
      "Series name: year\n",
      "Non-Null Count  Dtype         \n",
      "--------------  -----         \n",
      "2877 non-null   datetime64[ns]\n",
      "dtypes: datetime64[ns](1)\n",
      "memory usage: 109.5 KB\n"
     ]
    }
   ],
   "source": [
    "df['year'].info()"
   ]
  },
  {
   "cell_type": "markdown",
   "id": "60be2406",
   "metadata": {},
   "source": [
    "## **Cleaning 'founded' column**"
   ]
  },
  {
   "cell_type": "markdown",
   "id": "26637de4",
   "metadata": {},
   "source": [
    "**Notes**\n",
    "- Handle nulls by populating with the 'bfill' method\n",
    "\n"
   ]
  },
  {
   "cell_type": "code",
   "execution_count": 161,
   "id": "b10490c8",
   "metadata": {},
   "outputs": [
    {
     "name": "stdout",
     "output_type": "stream",
     "text": [
      "There are 769 Null values in the 'founded' column\n"
     ]
    }
   ],
   "source": [
    "print(f\"There are {df['founded'].isna().sum()} Null values in the 'founded' column\")"
   ]
  },
  {
   "cell_type": "markdown",
   "id": "865f3aa5",
   "metadata": {},
   "source": [
    "**Notes**  \n",
    "- There are 769 null values in the 'founded' column.  \n",
    "\n",
    "- Since dropping the nulls will lead to a significant loss of our data, Backward fill will be used to fill the null values"
   ]
  },
  {
   "cell_type": "markdown",
   "id": "5b519b5a",
   "metadata": {},
   "source": [
    "**COURSE OF ACTION**\n",
    "\n",
    "- We will be cleaning the missing values by fill them using interpolate method which is suitable for time series data  \n",
    "\n",
    "- We will also be converting the data type from float to datetime for purpose of our analysis."
   ]
  },
  {
   "cell_type": "code",
   "execution_count": 162,
   "id": "048ce5c7",
   "metadata": {},
   "outputs": [
    {
     "name": "stdout",
     "output_type": "stream",
     "text": [
      "There are 0 missing values\n"
     ]
    }
   ],
   "source": [
    "# Fill the nulls\n",
    "df[\"founded\"].interpolate(method='linear',inplace= True)\n",
    "\n",
    "print(f\"There are {df['founded'].isna().sum()} missing values\")"
   ]
  },
  {
   "cell_type": "code",
   "execution_count": 163,
   "id": "a2ee8fc5",
   "metadata": {},
   "outputs": [],
   "source": [
    "# Convert to datetime\n",
    "df['founded'] = pd.to_datetime(df['founded'], format='%Y')\n",
    "\n",
    "# Convert to period\n",
    "df['founded'] = df['founded'].dt.to_period('Y')\n"
   ]
  },
  {
   "cell_type": "code",
   "execution_count": 164,
   "id": "24f08912",
   "metadata": {},
   "outputs": [
    {
     "name": "stdout",
     "output_type": "stream",
     "text": [
      "<class 'pandas.core.series.Series'>\n",
      "Index: 2877 entries, 0 to 2878\n",
      "Series name: founded\n",
      "Non-Null Count  Dtype        \n",
      "--------------  -----        \n",
      "2877 non-null   period[Y-DEC]\n",
      "dtypes: period[Y-DEC](1)\n",
      "memory usage: 109.5 KB\n"
     ]
    }
   ],
   "source": [
    "df['founded'].info()"
   ]
  },
  {
   "cell_type": "code",
   "execution_count": 165,
   "id": "2163eb78",
   "metadata": {},
   "outputs": [
    {
     "name": "stdout",
     "output_type": "stream",
     "text": [
      "<class 'pandas.core.frame.DataFrame'>\n",
      "Index: 2877 entries, 0 to 2878\n",
      "Data columns (total 10 columns):\n",
      " #   Column         Non-Null Count  Dtype         \n",
      "---  ------         --------------  -----         \n",
      " 0   company_brand  2877 non-null   object        \n",
      " 1   founded        2877 non-null   period[Y-DEC] \n",
      " 2   headquarter    2762 non-null   object        \n",
      " 3   sector         2859 non-null   object        \n",
      " 4   about_company  2877 non-null   object        \n",
      " 5   founders       2332 non-null   object        \n",
      " 6   investor       2246 non-null   object        \n",
      " 7   amount         2874 non-null   float64       \n",
      " 8   series         1941 non-null   object        \n",
      " 9   year           2877 non-null   datetime64[ns]\n",
      "dtypes: datetime64[ns](1), float64(1), object(7), period[Y-DEC](1)\n",
      "memory usage: 311.8+ KB\n"
     ]
    }
   ],
   "source": [
    "df.info()"
   ]
  },
  {
   "cell_type": "markdown",
   "id": "358535e4",
   "metadata": {},
   "source": [
    "## **Cleaning the 'founders' column**"
   ]
  },
  {
   "cell_type": "code",
   "execution_count": 166,
   "id": "48bbb608",
   "metadata": {},
   "outputs": [
    {
     "name": "stdout",
     "output_type": "stream",
     "text": [
      "545\n"
     ]
    }
   ],
   "source": [
    "# Remove unwanted characters\n",
    "df['founders'] = df['founders'].replace(['...', np.nan], np.NaN)\n",
    "\n",
    "# Check the number of NaN values in the 'founders' column\n",
    "nan_count = df['founders'].isna().sum()\n",
    "\n",
    "print(nan_count)"
   ]
  },
  {
   "cell_type": "code",
   "execution_count": 167,
   "id": "dfd189ff-2635-47d7-9172-0fc53a7ea365",
   "metadata": {},
   "outputs": [
    {
     "name": "stdout",
     "output_type": "stream",
     "text": [
      "<class 'pandas.core.series.Series'>\n",
      "Index: 2877 entries, 0 to 2878\n",
      "Series name: founders\n",
      "Non-Null Count  Dtype \n",
      "--------------  ----- \n",
      "2332 non-null   object\n",
      "dtypes: object(1)\n",
      "memory usage: 109.5+ KB\n"
     ]
    }
   ],
   "source": [
    "df['founders'].info()"
   ]
  },
  {
   "cell_type": "markdown",
   "id": "82fa3c58",
   "metadata": {},
   "source": [
    "## **Cleaning Stage column**"
   ]
  },
  {
   "cell_type": "markdown",
   "id": "891207b6",
   "metadata": {},
   "source": [
    "Startups start with pre-seed, progress through seed, Series A, Series B, etc., securing resources for development and strategies. Additional rounds like Series C or D may follow. External funding at each stage fuels growth toward the venture's full potential."
   ]
  },
  {
   "cell_type": "markdown",
   "id": "7c6b8512",
   "metadata": {},
   "source": [
    "link: https://www.startupindia.gov.in/content/sih/en/funding.html"
   ]
  },
  {
   "cell_type": "markdown",
   "id": "811fb336",
   "metadata": {},
   "source": [
    "| Stages          | Description                                                           |\n",
    "|-----------------|-----------------------------------------------------------------------|\n",
    "| Others          | Miscellaneous phases or unique development activities.                 |\n",
    "| Early Traction  | Gaining initial traction, attracting early adopters, and refining based on feedback. |\n",
    "| Validation      | Validating the business model, product-market fit, and scalability through research and feedback. |\n",
    "| Ideation        | Brainstorming and developing business concepts, defining value propositions, and outlining plans. |\n",
    "| Scaling         | Expanding operations, customer base, and market reach for rapid growth. |\n",
    "| Exit Option     | Considering exit strategies such as mergers, acquisitions, or IPOs.     |\n"
   ]
  },
  {
   "cell_type": "code",
   "execution_count": 222,
   "id": "921553a1",
   "metadata": {},
   "outputs": [
    {
     "name": "stdout",
     "output_type": "stream",
     "text": [
      "['early traction' 'others' 'validation' 'scaling' 'exit option']\n"
     ]
    }
   ],
   "source": [
    "def categorize_series(df):\n",
    "    # Convert 'series' column to lowercase for case-insensitive operations\n",
    "    df['series'] = df['series'].astype(str).str.lower()\n",
    "\n",
    "    # Step 1: Replace Exit Option stages\n",
    "    df.loc[df['series'].str.contains('post ipo|post series a', regex=True, case=False), 'series'] = 'exit option'\n",
    "\n",
    "    # Step 2: Replace Scaling stages\n",
    "    df.loc[df['series'].str.contains('mid series|series b\\+|private equity|venture - series unknown', regex=True, case=False), 'series'] = 'scaling'\n",
    "\n",
    "    # Step 3: Replace Early Traction stages\n",
    "    df.loc[df['series'].str.contains('series [abcdefghi]|early seed', regex=True, case=False), 'series'] = 'early traction'\n",
    "\n",
    "    # Step 4: Replace Validation stages\n",
    "    df.loc[df['series'].str.contains('seed|angel', regex=True, case=False), 'series'] = 'validation'\n",
    "\n",
    "    # Step 5: Replace Ideation stages\n",
    "    df.loc[df['series'].str.contains('pre[ -]?seed', regex=True, case=False), 'series'] = 'ideation'\n",
    "\n",
    "    # Step 6: Replace Others\n",
    "    df.loc[df['series'].str.contains('pre[ -]?series|bridge|corporate round|debt|undisclosed|secondary market|non-equity assistance|grant|funding round|nan', na=False, regex=True, case=False), 'series'] = 'others'\n",
    "\n",
    "    # Step 7: Catch-all replacement for any remaining uncategorized values\n",
    "    df.loc[~df['series'].isin(['others', 'early traction', 'validation', 'ideation', 'scaling', 'exit option']), 'series'] = 'others'\n",
    "\n",
    "    return df\n",
    "\n",
    "# Apply the categorization function to your existing DataFrame\n",
    "df = categorize_series(df)\n",
    "\n",
    "# Print the unique values after categorization\n",
    "print(df['series'].unique())"
   ]
  },
  {
   "cell_type": "code",
   "execution_count": 169,
   "id": "ff9eb9e4",
   "metadata": {},
   "outputs": [
    {
     "name": "stdout",
     "output_type": "stream",
     "text": [
      "<class 'pandas.core.frame.DataFrame'>\n",
      "Index: 2877 entries, 0 to 2878\n",
      "Data columns (total 10 columns):\n",
      " #   Column         Non-Null Count  Dtype         \n",
      "---  ------         --------------  -----         \n",
      " 0   company_brand  2877 non-null   object        \n",
      " 1   founded        2877 non-null   period[Y-DEC] \n",
      " 2   headquarter    2762 non-null   object        \n",
      " 3   sector         2859 non-null   object        \n",
      " 4   about_company  2877 non-null   object        \n",
      " 5   founders       2332 non-null   object        \n",
      " 6   investor       2246 non-null   object        \n",
      " 7   amount         2874 non-null   float64       \n",
      " 8   series         2877 non-null   object        \n",
      " 9   year           2877 non-null   datetime64[ns]\n",
      "dtypes: datetime64[ns](1), float64(1), object(7), period[Y-DEC](1)\n",
      "memory usage: 311.8+ KB\n"
     ]
    }
   ],
   "source": [
    "df.info()"
   ]
  },
  {
   "cell_type": "code",
   "execution_count": 170,
   "id": "2ebff963",
   "metadata": {},
   "outputs": [],
   "source": [
    "# fix index 551\n",
    "df.at[551,'amount']=300000\n",
    "df.at[551,'series']=None\n",
    "\n",
    "# fix index 674\n",
    "df.at[674,'amount']=6000000\n",
    "df.at[674,'series']=None\n",
    "\n",
    "# fix index 2531\n",
    "df.at[2531,'amount']=None\n",
    "df.at[2531,'series']=None"
   ]
  },
  {
   "cell_type": "code",
   "execution_count": 171,
   "id": "37f235a0",
   "metadata": {},
   "outputs": [],
   "source": [
    "# strip off characters \n",
    "df['series'] = df['series'].str.strip('\\t#REF!')"
   ]
  },
  {
   "cell_type": "markdown",
   "id": "4350b2c8",
   "metadata": {},
   "source": [
    "## **Cleaning the Sector Column**"
   ]
  },
  {
   "cell_type": "code",
   "execution_count": 172,
   "id": "4d425ecd",
   "metadata": {},
   "outputs": [],
   "source": [
    "# Get the first sentence of every list\n",
    "df['sector']=df['sector'].str.split(\",\").str[0]"
   ]
  },
  {
   "cell_type": "code",
   "execution_count": 173,
   "id": "e47cd7bd",
   "metadata": {},
   "outputs": [],
   "source": [
    "def categorize_sector(df):\n",
    "    # Replace Artificial Intelligence sectors\n",
    "    df['sector'] = df['sector'].replace(['AI startup', 'AI Chatbot', 'AI Company', 'AI platform', 'AI Platform', 'AI Startup', 'Artificial Intelligence'], 'Artificial Intelligence')\n",
    "    \n",
    "    # Replace Education Technology sectors\n",
    "    df['sector'] = df['sector'].replace(['EdTech', 'EdTech Startup', 'EdtTech', 'Edtech'], 'Education Technology')\n",
    "    \n",
    "    # Replace Business-to-Business E-commerce sectors\n",
    "    df['sector'] = df['sector'].replace(['B2B E-commerce', 'E-commerce', 'B2B Ecommerce', 'Commerce', 'B2B marketplace', 'B2B Marketplace'], 'Business-to-Business E-commerce')\n",
    "    \n",
    "    # Replace Fintech sector\n",
    "    df['sector'] = df['sector'].replace(['FinTech'], 'Fintech')\n",
    "    \n",
    "    # Replace Home Services sector\n",
    "    df['sector'] = df['sector'].replace(['Home services'], 'Home Services')\n",
    "    \n",
    "    # Replace Healthcare sectors\n",
    "    df['sector'] = df['sector'].replace(['HealthTech', 'Healthtech', 'Healtcare', 'HeathTech', 'Alternative Medicine', 'Health care', 'Helathcare', 'Healthcare', 'Health', 'Hospital & Health Care', 'Heathcare'], 'Healthcare')\n",
    "    \n",
    "    # Replace Technology Startup sector\n",
    "    df['sector'] = df['sector'].replace(['Tech Startup', 'Tech startup', 'IT startup', 'Technology Startup'], 'Technology Startup')\n",
    "    \n",
    "    # Replace Business-to-Business Services sector\n",
    "    df['sector'] = df['sector'].replace(['B2B service'], 'Business-to-Business Services')\n",
    "    \n",
    "    # Replace Renewable Energy sector\n",
    "    df['sector'] = df['sector'].replace(['Renewable Energy'], 'Renewable Energy')\n",
    "    \n",
    "    # Replace Electronics sector\n",
    "    df['sector'] = df['sector'].replace(['Electronics'], 'Electronics')\n",
    "    \n",
    "    # Replace Food and Beverages sectors\n",
    "    df['sector'] = df['sector'].replace(['Food & Beverages', 'Food and Beverages', 'Food', 'Food Production', 'Food Industry', 'Food tech', 'Foodtech', 'FoodTech', 'Food Startup', 'Food & tech', 'Food diet', 'Food Processing', 'Food and Beverage', 'Food delivery', 'Food Delivery', 'Food & Logistics', 'Food devlivery', 'QSR startup'], 'Food and Beverages')\n",
    "    \n",
    "    # Replace Aerospace sectors\n",
    "    df['sector'] = df['sector'].replace(['Aeorspace', 'Aerospace', 'Aviation', 'Aviation & Aerospace', 'Aero company'], 'Aerospace')\n",
    "    \n",
    "    # Replace Deep Technology sector\n",
    "    df['sector'] = df['sector'].replace(['Deep Tech', 'Deeptech'], 'Deep Technology')\n",
    "    \n",
    "    # Replace Dating Services sector\n",
    "    df['sector'] = df['sector'].replace(['Dating', 'Dating app'], 'Dating Services')\n",
    "    \n",
    "    # Replace Gaming sector\n",
    "    df['sector'] = df['sector'].replace(['Gaming', 'Computer Games', 'Mobile Games', 'Games', 'E-Sports', 'Gaming startup'], 'Gaming')\n",
    "    \n",
    "    # Replace Robotics sector\n",
    "    df['sector'] = df['sector'].replace(['Robotics', 'Robotics & AI'], 'Robotics')\n",
    "    \n",
    "    # Replace Retail sector\n",
    "    df['sector'] = df['sector'].replace(['Retail', 'Reatil startup', 'Retail Startup', 'Retail Tech'], 'Retail')\n",
    "    \n",
    "    # Replace Oil and Energy sector\n",
    "    df['sector'] = df['sector'].replace(['Oil and Energy', 'Oil & Energy'], 'Oil and Energy')\n",
    "    \n",
    "    # Replace Agricultural Technology sectors\n",
    "    df['sector'] = df['sector'].replace(['AgriTech', 'Agritech', 'Agritech startup', 'AgTech', 'Agri tech', 'B2B Agritech', 'Agricultural Technology'], 'Agricultural Technology')\n",
    "    \n",
    "    # Replace Telecommunications sector\n",
    "    df['sector'] = df['sector'].replace(['Telecommuncation', 'Telecommunication', 'Telecommunications'], 'Telecommunications')\n",
    "    \n",
    "    # Replace Dairy sector\n",
    "    df['sector'] = df['sector'].replace(['Milk startup', 'Dairy startup', 'Dairy'], 'Dairy')\n",
    "    \n",
    "    # Replace Information Technology sectors\n",
    "    df['sector'] = df['sector'].replace(['IT', 'Information Technology', 'Information Technology & Services', 'Information Technology Company', 'Information Technology and Services', 'IT company'], 'Information Technology')\n",
    "    \n",
    "    # Replace Logistics and Supply Chain sector\n",
    "    df['sector'] = df['sector'].replace(['Logistics', 'Logistics & Supply Chain', 'Logistics and Supply Chain'], 'Logistics and Supply Chain')\n",
    "    \n",
    "    # Replace Hospitality sector\n",
    "    df['sector'] = df['sector'].replace(['Hospitality'], 'Hospitality')\n",
    "    \n",
    "    # Replace Fashion and Lifestyle sectors\n",
    "    df['sector'] = df['sector'].replace(['Fashion', 'Fashion & Lifestyle', 'Fashion and lifestyle', 'Fashion startup', 'Fashion Tech', 'Apparel & Fashion', 'Apparel and Fashion', 'Clothing', 'D2C Fashion', 'D2C jewellery'], 'Fashion and Lifestyle')\n",
    "    \n",
    "    # Replace Marketing and Advertising sectors\n",
    "    df['sector'] = df['sector'].replace(['Marketing', 'Marketing & Advertising', 'Marketing and Advertising', 'MarTech', 'Marketing Technology', 'Advertisement', 'Advertising', 'Marketing company', 'Marketing startup'], 'Marketing and Advertising')\n",
    "    \n",
    "    # Replace Transportation and Mobility sectors\n",
    "    df['sector'] = df['sector'].replace(['Transportation', 'Transport', 'Mobility', 'Mobility/Transport', 'Mobility tech', 'Auto-tech', 'Logitech', 'Transport & Rentals', 'Transport Automation', 'Transportation-as-a-Service Startup', 'TaaS startup', 'Automotive and Rentals', 'IoT/Automobile', 'Automobile Technology', 'Mobility', 'Last Mile Transportation', 'Micro-mobiity'], 'Transportation and Mobility')\n",
    "    \n",
    "    # Replace Legal Technology sector\n",
    "    df['sector'] = df['sector'].replace(['LegalTech', 'Legaltech', 'Legal Services', 'Legal tech', 'Legaltech'], 'Legal Technology')\n",
    "    \n",
    "    # Replace Automotive sectors\n",
    "    df['sector'] = df['sector'].replace(['Automotive', 'Automobile', 'Automotive Startup', 'Automotive company', 'Car Trade', 'Automotive tech', 'Vehicle repair startup', 'Car Service', 'Luxury car startup'], 'Automotive')\n",
    "    \n",
    "    # Replace Software-as-a-Service sectors\n",
    "    df['sector'] = df['sector'].replace(['SaaS startup', 'SaaS', 'SaaS platform', 'Software-as-a-Service', 'Software-as-a-Service Platform', 'Software-as-a-Service Startup', 'SaaS\\xa0\\xa0startup'], 'Software-as-a-Service')\n",
    "    \n",
    "    # Replace Fantasy Sports sector\n",
    "    df['sector'] = df['sector'].replace(['Fantasy sports', 'Fantasy Sports'], 'Fantasy Sports')\n",
    "    \n",
    "    # Replace Video sectors\n",
    "    df['sector'] = df['sector'].replace(['Video communication', 'Video platform', 'Video', 'Video sharing platform', 'Video streaming platform', 'Video personalization'], 'Video')\n",
    "    \n",
    "    # Replace Social Media sectors\n",
    "    df['sector'] = df['sector'].replace(['Social Media', 'Social network', 'Social Networking', 'Social commerce', 'Social community', 'Social Network', 'Social e-commerce', 'Social media', 'Social platform', 'Social audio'], 'Social Media')\n",
    "    \n",
    "    # Replace Skills Development and Professional Training sectors\n",
    "    df['sector'] = df['sector'].replace(['Skill development', 'Skills Development', 'Professional Training & Coaching', 'Professional Training and Coaching'], 'Skills Development and Professional Training')\n",
    "    \n",
    "    # Replace Rental Services sectors\n",
    "    df['sector'] = df['sector'].replace(['Rental', 'Rental Services', 'Rental space', 'Bike Rental', 'Furniture Rental'], 'Rental Services')\n",
    "    \n",
    "    # Replace Recruitment and Staffing sectors\n",
    "    df['sector'] = df['sector'].replace(['Recruitment', 'Job discovery platform', 'Job portal', 'Staffing & Recruiting', 'Staffing and Recruiting', 'Recruitment startup'], 'Recruitment and Staffing')\n",
    "    \n",
    "    # Replace Sports and Sports Technology sectors\n",
    "    df['sector'] = df['sector'].replace(['Sports', 'SportsTech', 'Sports Technology', 'sports', 'Sports startup'], 'Sports and Sports Technology')\n",
    "    \n",
    "    # Replace Consumer Goods and Services sectors\n",
    "    df['sector'] = df['sector'].replace(['Consumer Goods', 'Consumer goods', 'Consumer software', 'Consumer service', 'Consumer Services', 'Consumer', 'Consumer Applications', 'Consumer appliances', 'Consumer Electronics'], 'Consumer Goods and Services')\n",
    "    \n",
    "    # Replace Human Resources and HR Technology sectors\n",
    "    df['sector'] = df['sector'].replace(['HRTech', 'HR Tech', 'HR Tech startup', 'Human Resources', 'Human Resources Technology', 'HRTech', 'HR tech', 'HR'], 'Human Resources and HR Technology')\n",
    "    \n",
    "    # Replace Wine and Spirits sector\n",
    "    df['sector'] = df['sector'].replace(['Wine & Spirits'], 'Wine and Spirits')\n",
    "    \n",
    "    # Replace Mechanical and Industrial Engineering sector\n",
    "    df['sector'] = df['sector'].replace(['Mechanical & Industrial Engineering', 'Mechanical and Industrial Engineering', 'Mechanical Or Industrial Engineering'], 'Mechanical and Industrial Engineering')\n",
    "    \n",
    "    # Replace Spirituality sector\n",
    "    df['sector'] = df['sector'].replace(['Spiritual', 'Linguistic Spiritual'], 'Spirituality')\n",
    "    \n",
    "    # Replace Financial Services sectors\n",
    "    df['sector'] = df['sector'].replace(['Financial Services', 'Banking', 'Capital Markets', 'Finance', 'Finance company', 'Investment Banking', 'Investment Management', 'Finance', 'Finance company', 'Financial Technology', 'FinTech', 'Digital mortgage', 'Online financial service', 'Online credit management startup', 'Trading platform', 'Virtual Banking'], 'Financial Services')\n",
    "    \n",
    "    # Replace Industrial Automation sector\n",
    "    df['sector'] = df['sector'].replace(['Industrial Automation'], 'Industrial Automation')\n",
    "    \n",
    "    # Replace Internet of Things sectors\n",
    "    df['sector'] = df['sector'].replace(['IoT', 'Internet of Things', 'IoT platform', 'IoT startup', 'Internet of Things Platform', 'Internet of Things Startup'], 'Internet of Things')\n",
    "    \n",
    "    # Replace Computer Software sectors\n",
    "    df['sector'] = df['sector'].replace(['Computer software', 'Computer Software', 'Software', 'Software company', 'Software Startup'], 'Computer Software')\n",
    "    \n",
    "    # Replace Furniture and Home Decor sectors\n",
    "    df['sector'] = df['sector'].replace(['Furniture', 'Home Decor', 'Interior Design'], 'Furniture and Home Decor')\n",
    "    \n",
    "    # Replace Location Analytics sector\n",
    "    df['sector'] = df['sector'].replace(['Location Analytics'], 'Location Analytics')\n",
    "    \n",
    "    # Replace Media and Entertainment sectors\n",
    "    df['sector'] = df['sector'].replace(['Media', 'Online Media', 'Podcast', 'Podcasting', 'Content publishing', 'Publication', 'Digital Media', 'Media and Entertainment', 'Broadcasting', 'News', 'Digital Entertainment', 'Media Tech', 'Visual Media', 'Online Portals', 'Content creation', 'Content Management', 'Content Marktplace'], 'Media and Entertainment')\n",
    "    \n",
    "    # Replace Consumer Electronics sector\n",
    "    df['sector'] = df['sector'].replace(['Consumer Electronics'], 'Consumer Electronics')\n",
    "    \n",
    "    # Replace Tobacco sector\n",
    "    df['sector'] = df['sector'].replace(['Tobacco'], 'Tobacco')\n",
    "    \n",
    "    # Replace Insurance sectors\n",
    "    df['sector'] = df['sector'].replace(['Insuretech', 'Insurance Technology', 'Insurtech', 'InsureTech', 'Insurance'], 'Insurance')\n",
    "    \n",
    "    # Replace Machine Learning Operations sector\n",
    "    df['sector'] = df['sector'].replace(['MLOps platform'], 'Machine Learning Operations')\n",
    "    \n",
    "    # Replace Venture Capital sectors\n",
    "    df['sector'] = df['sector'].replace(['Venture Capital', 'Venture Capital & Private Equity', 'Venture Capital and Private Equity', 'Venture capitalist'], 'Venture Capital')\n",
    "    \n",
    "    # Replace Pet Care and Veterinary Services sectors\n",
    "    df['sector'] = df['sector'].replace(['Pet care', 'Veterinary', 'Veterinary Services'], 'Pet Care and Veterinary Services')\n",
    "    \n",
    "    # Replace Drone Technology sectors\n",
    "    df['sector'] = df['sector'].replace(['Drone', 'Drone Technology'], 'Drone Technology')\n",
    "    \n",
    "    # Replace Wholesale sector\n",
    "    df['sector'] = df['sector'].replace(['Wholesale'], 'Wholesale')\n",
    "    \n",
    "    # Replace Construction and Construction Technology sectors\n",
    "    df['sector'] = df['sector'].replace(['Construction', 'Construction tech'], 'Construction and Construction Technology')\n",
    "    \n",
    "    # Replace E-learning and Education Management sectors\n",
    "    df['sector'] = df['sector'].replace(['E-learning', 'E-learning', 'Education Management'], 'E-learning and Education Management')\n",
    "    \n",
    "    # Replace Over-the-Top Media Services sector\n",
    "    df['sector'] = df['sector'].replace(['OTT', 'Over-the-Top Media Services'], 'Over-the-Top Media Services')\n",
    "    \n",
    "    # Replace Computer and Network Security sectors\n",
    "    df['sector'] = df['sector'].replace(['Computer & Network Security', 'Computer and Network Security', 'Cybersecurity'], 'Computer and Network Security')\n",
    "    \n",
    "    # Replace Social Networking and Community Platforms sectors\n",
    "    df['sector'] = df['sector'].replace(['Social network', 'Social Networking', 'Social Network', 'Social community', 'Social platform'], 'Social Networking and Community Platforms')\n",
    "    \n",
    "    # Replace Music and Music Streaming sectors\n",
    "    df['sector'] = df['sector'].replace(['Music', 'Music Streaming'], 'Music and Music Streaming')\n",
    "    \n",
    "    # Replace Hauz Khas sector\n",
    "    df['sector'] = df['sector'].replace(['Hauz Khas'], 'Hauz Khas')\n",
    "    \n",
    "    # Replace Pharmaceuticals sectors\n",
    "    df['sector'] = df['sector'].replace(['Pharmaceuticals', 'Pharmaceutical', 'Pharma', 'Biopharma', 'Pharmaceuticals'], 'Pharmaceuticals')\n",
    "    \n",
    "    # Replace Cosmetics, Personal Care, and Beauty Products sectors\n",
    "    df['sector'] = df['sector'].replace(['Cosmetics', 'Beauty products', 'Personal Care', 'Beauty & wellness', 'Personal care startup', 'Skincare startup'], 'Cosmetics, Personal Care, and Beauty Products')\n",
    "    \n",
    "    # Replace Real Estate and Property Technology sectors\n",
    "    df['sector'] = df['sector'].replace(['Real Estate', 'Real estate', 'Commercial Real Estate', 'Housing Marketplace', 'Proptech', 'Property Technology'], 'Real Estate and Property Technology')\n",
    "    \n",
    "    # Replace Digital Platforms sector\n",
    "    df['sector'] = df['sector'].replace(['Digital platform', 'Digital Platform'], 'Digital Platforms')\n",
    "    \n",
    "    # Replace NFT and Non-Fungible Tokens sectors\n",
    "    df['sector'] = df['sector'].replace(['NFT Marketplace', 'Non-Fungible Token Marketplace', 'NFT', 'Non-Fungible Tokens'], 'NFT and Non-Fungible Tokens')\n",
    "    \n",
    "    # Replace Space Technology and Defense sectors\n",
    "    df['sector'] = df['sector'].replace(['SpaceTech', 'Spacetech', 'Space Technology', 'Defense & Space'], 'Space Technology and Defense')\n",
    "    \n",
    "    # Replace Fishery sector\n",
    "    df['sector'] = df['sector'].replace(['Fishery'], 'Fishery')\n",
    "            \n",
    "    # Replace Renewable Energy, Environmental Services, and Clean Technology sectors\n",
    "    df['sector'] = df['sector'].replace(['Renewables & Environment', 'Renewable Energy and Environmental Services', 'Environmental Services', 'Environmental service', 'Clean Technology', 'CleanTech', 'Pollution control equiptment'], 'Renewable Energy, Environmental Services, and Clean Technology')\n",
    "    \n",
    "    # Replace Online Storytelling sector\n",
    "    df['sector'] = df['sector'].replace(['Online storytelling'], 'Online Storytelling')\n",
    "    \n",
    "    # Replace Customer Relationship Management sector\n",
    "    df['sector'] = df['sector'].replace(['CRM', 'Customer Relationship Management'], 'Customer Relationship Management')\n",
    "    \n",
    "    # Replace Nutrition and Nutrition Technology sectors\n",
    "    df['sector'] = df['sector'].replace(['Nutrition', 'Nutrition sector', 'Nutrition tech', 'Nutrition Tech', 'Food & Nutrition'], 'Nutrition and Nutrition Technology')\n",
    "    \n",
    "    # Replace Direct-to-Consumer sectors\n",
    "    df['sector'] = df['sector'].replace(['D2C', 'Direct-to-Consumer', 'D2C Business', 'D2C startup', 'D2C Fashion', 'D2C jewellery'], 'Direct-to-Consumer')\n",
    "    \n",
    "    # Replace Innovation Management sector\n",
    "    df['sector'] = df['sector'].replace(['Innovation Management', 'Innovation management'], 'Innovation Management')\n",
    "    \n",
    "    # Replace Community Platforms and Communities sectors\n",
    "    df['sector'] = df['sector'].replace(['Community platform', 'Community', 'Communities'], 'Community Platforms and Communities')\n",
    "    \n",
    "    # Replace Networking and Networking Platforms sectors\n",
    "    df['sector'] = df['sector'].replace(['Networking', 'Networking platform'], 'Networking and Networking Platforms')\n",
    "    \n",
    "    # Replace Augmented Reality and AR/VR sectors\n",
    "    df['sector'] = df['sector'].replace(['AR startup', 'Augmented Reality Startup', 'AR platform', 'Augmented reality', 'Augmented Reality', 'AR/VR', 'AR/VR startup'], 'Augmented Reality and AR/VR')\n",
    "    \n",
    "    # Replace Content sectors\n",
    "    df['sector'] = df['sector'].replace(['Content publishing', 'Content commerce', 'Content creation', 'Content Management', 'Content Marktplace'], 'Content')\n",
    "    \n",
    "    # Replace Rental Space sector\n",
    "    df['sector'] = df['sector'].replace(['Rental space'], 'Rental Space')\n",
    "    \n",
    "    # Replace Tourism sector\n",
    "    df['sector'] = df['sector'].replace(['Tourism'], 'Tourism')\n",
    "    \n",
    "    # Replace Femtech sector\n",
    "    df['sector'] = df['sector'].replace(['FemTech', 'Femtech'], 'Femtech')\n",
    "    \n",
    "    # Replace Cultural sector\n",
    "    df['sector'] = df['sector'].replace(['Cultural'], 'Cultural')\n",
    "    \n",
    "    # Replace Co-working sectors\n",
    "    df['sector'] = df['sector'].replace(['Co-working', 'Co-working Startup', 'Coworking'], 'Co-working')\n",
    "    \n",
    "    # Replace Supply Chain and Logistics sectors\n",
    "    df['sector'] = df['sector'].replace(['Supply chain platform', 'Supply Chain Platform', 'Logistics & Supply Chain', 'Logistics and Supply Chain', 'B2B Supply Chain'], 'Supply Chain and Logistics')\n",
    "    \n",
    "    # Replace Cryptocurrency sectors\n",
    "    df['sector'] = df['sector'].replace(['Crypto', 'Cryptocurrency'], 'Cryptocurrency')\n",
    "    \n",
    "    # Replace Clothing sector\n",
    "    df['sector'] = df['sector'].replace(['Clothing'], 'Clothing')\n",
    "    \n",
    "    # Replace Analytics and Data Science sectors\n",
    "    df['sector'] = df['sector'].replace(['Analytics', 'Location Analytics', 'Data Analytics', 'Data Science', 'Data Intelligence'], 'Analytics and Data Science')\n",
    "    \n",
    "    # Replace Internet of Things Platform sector\n",
    "    df['sector'] = df['sector'].replace(['IoT platform', 'Internet of Things Platform'], 'Internet of Things Platform')\n",
    "    \n",
    "    # Replace Defense and Space sectors\n",
    "    df['sector'] = df['sector'].replace(['Defense & Space', 'Defense and Space'], 'Defense and Space')\n",
    "    \n",
    "    return df"
   ]
  },
  {
   "cell_type": "code",
   "execution_count": 225,
   "id": "ed8e77fe",
   "metadata": {},
   "outputs": [
    {
     "data": {
      "text/plain": [
       "0"
      ]
     },
     "execution_count": 225,
     "metadata": {},
     "output_type": "execute_result"
    }
   ],
   "source": [
    "df['sector'].isna().sum()"
   ]
  },
  {
   "cell_type": "code",
   "execution_count": 174,
   "id": "1b4830a4",
   "metadata": {},
   "outputs": [],
   "source": [
    "# apply function\n",
    "df=categorize_sector(df)"
   ]
  },
  {
   "cell_type": "code",
   "execution_count": 175,
   "id": "05f5e369",
   "metadata": {},
   "outputs": [],
   "source": [
    "df['sector'].fillna(df['sector'].mode()[0], inplace=True)\n"
   ]
  },
  {
   "cell_type": "code",
   "execution_count": 176,
   "id": "e9d93af5",
   "metadata": {},
   "outputs": [
    {
     "name": "stdout",
     "output_type": "stream",
     "text": [
      "<class 'pandas.core.frame.DataFrame'>\n",
      "Index: 2877 entries, 0 to 2878\n",
      "Data columns (total 10 columns):\n",
      " #   Column         Non-Null Count  Dtype         \n",
      "---  ------         --------------  -----         \n",
      " 0   company_brand  2877 non-null   object        \n",
      " 1   founded        2877 non-null   period[Y-DEC] \n",
      " 2   headquarter    2762 non-null   object        \n",
      " 3   sector         2877 non-null   object        \n",
      " 4   about_company  2877 non-null   object        \n",
      " 5   founders       2332 non-null   object        \n",
      " 6   investor       2246 non-null   object        \n",
      " 7   amount         2874 non-null   float64       \n",
      " 8   series         2874 non-null   object        \n",
      " 9   year           2877 non-null   datetime64[ns]\n",
      "dtypes: datetime64[ns](1), float64(1), object(7), period[Y-DEC](1)\n",
      "memory usage: 311.8+ KB\n"
     ]
    }
   ],
   "source": [
    "df.info()"
   ]
  },
  {
   "cell_type": "markdown",
   "id": "017be599",
   "metadata": {},
   "source": [
    "## **Cleaning HeadQuater Column**"
   ]
  },
  {
   "cell_type": "code",
   "execution_count": 177,
   "id": "6d752eed",
   "metadata": {},
   "outputs": [],
   "source": [
    "# Get the first location from every list\n",
    "df['headquarter']=df['headquarter'].str.split(\",\").str[0]"
   ]
  },
  {
   "cell_type": "code",
   "execution_count": 178,
   "id": "1378f7e7",
   "metadata": {},
   "outputs": [],
   "source": [
    "def fix_headquarters(row):\n",
    "    replacements = {'Bengaluru': 'Bangalore', 'Banglore': 'Bangalore', 'Gurugram': 'Gurgaon', 'Hyderebad': 'Hyderabad',\n",
    "                    'New Delhi': 'Delhi', 'Ahmadabad': 'Ahmedabad', 'Ernakulam': 'Cochin', 'Telugana': 'Telangana',\n",
    "                    'Rajastan': 'Rajasthan', 'San Franciscao': 'San Francisco', 'Samsitpur': 'Samastipur', 'Santra': 'Samtra',\n",
    "                    'Rajsamand': 'Rajasthan', 'Kerala': 'Kochi', 'The Nilgiris': 'Nilgiris', 'Gurugram\\t#REF!': 'Gurgaon',\n",
    "                    'California': 'San Francisco', 'San Francisco Bay Area': 'San Francisco', 'Hyderebad': 'Hyderabad',\n",
    "                    'Online Media\\t#REF!': 'Unknown', 'Pharmaceuticals\\t#REF!': 'Unknown',\n",
    "                    'Information Technology & Services': 'Unknown', 'Small Towns': 'Unknown', 'Orissia': 'Odisha',\n",
    "                    'Santra': 'Samtra', 'Vadodara': 'Vadodara', 'Food & Beverages': 'Unknown', 'Bangaldesh': 'Bangladesh'}\n",
    "\n",
    "    return replacements.get(row, row)\n",
    "\n",
    "# Apply the fix_headquarters function to the 'headquarter' column\n",
    "df['headquarter'] = df['headquarter'].apply(fix_headquarters)"
   ]
  },
  {
   "cell_type": "code",
   "execution_count": 179,
   "id": "afbdaaef",
   "metadata": {},
   "outputs": [
    {
     "data": {
      "text/html": [
       "<div>\n",
       "<style scoped>\n",
       "    .dataframe tbody tr th:only-of-type {\n",
       "        vertical-align: middle;\n",
       "    }\n",
       "\n",
       "    .dataframe tbody tr th {\n",
       "        vertical-align: top;\n",
       "    }\n",
       "\n",
       "    .dataframe thead th {\n",
       "        text-align: right;\n",
       "    }\n",
       "</style>\n",
       "<table border=\"1\" class=\"dataframe\">\n",
       "  <thead>\n",
       "    <tr style=\"text-align: right;\">\n",
       "      <th></th>\n",
       "      <th>company_brand</th>\n",
       "      <th>founded</th>\n",
       "      <th>headquarter</th>\n",
       "      <th>sector</th>\n",
       "      <th>about_company</th>\n",
       "      <th>founders</th>\n",
       "      <th>investor</th>\n",
       "      <th>amount</th>\n",
       "      <th>series</th>\n",
       "      <th>year</th>\n",
       "    </tr>\n",
       "  </thead>\n",
       "  <tbody>\n",
       "    <tr>\n",
       "      <th>0</th>\n",
       "      <td>Unbox Robotics</td>\n",
       "      <td>1970</td>\n",
       "      <td>Bangalore</td>\n",
       "      <td>Artificial Intelligence</td>\n",
       "      <td>Unbox Robotics builds on-demand AI-driven ware...</td>\n",
       "      <td>Pramod Ghadge, Shahid Memon</td>\n",
       "      <td>BEENEXT, Entrepreneur First</td>\n",
       "      <td>1200000.0</td>\n",
       "      <td>early traction</td>\n",
       "      <td>2021-01-01</td>\n",
       "    </tr>\n",
       "    <tr>\n",
       "      <th>1</th>\n",
       "      <td>upGrad</td>\n",
       "      <td>1970</td>\n",
       "      <td>Mumbai</td>\n",
       "      <td>Education Technology</td>\n",
       "      <td>UpGrad is an online higher education platform.</td>\n",
       "      <td>Mayank Kumar, Phalgun Kompalli, Ravijot Chugh,...</td>\n",
       "      <td>Unilazer Ventures, IIFL Asset Management</td>\n",
       "      <td>120000000.0</td>\n",
       "      <td>others</td>\n",
       "      <td>2021-01-01</td>\n",
       "    </tr>\n",
       "    <tr>\n",
       "      <th>2</th>\n",
       "      <td>Lead School</td>\n",
       "      <td>1970</td>\n",
       "      <td>Mumbai</td>\n",
       "      <td>Education Technology</td>\n",
       "      <td>LEAD School offers technology based school tra...</td>\n",
       "      <td>Smita Deorah, Sumeet Mehta</td>\n",
       "      <td>GSV Ventures, Westbridge Capital</td>\n",
       "      <td>30000000.0</td>\n",
       "      <td>early traction</td>\n",
       "      <td>2021-01-01</td>\n",
       "    </tr>\n",
       "    <tr>\n",
       "      <th>3</th>\n",
       "      <td>Bizongo</td>\n",
       "      <td>1970</td>\n",
       "      <td>Mumbai</td>\n",
       "      <td>Business-to-Business E-commerce</td>\n",
       "      <td>Bizongo is a business-to-business online marke...</td>\n",
       "      <td>Aniket Deb, Ankit Tomar, Sachin Agrawal</td>\n",
       "      <td>CDC Group, IDG Capital</td>\n",
       "      <td>51000000.0</td>\n",
       "      <td>early traction</td>\n",
       "      <td>2021-01-01</td>\n",
       "    </tr>\n",
       "    <tr>\n",
       "      <th>4</th>\n",
       "      <td>FypMoney</td>\n",
       "      <td>1970</td>\n",
       "      <td>Gurgaon</td>\n",
       "      <td>Fintech</td>\n",
       "      <td>FypMoney is Digital NEO Bank for Teenagers, em...</td>\n",
       "      <td>Kapil Banwari</td>\n",
       "      <td>Liberatha Kallat, Mukesh Yadav, Dinesh Nagpal</td>\n",
       "      <td>2000000.0</td>\n",
       "      <td>validation</td>\n",
       "      <td>2021-01-01</td>\n",
       "    </tr>\n",
       "  </tbody>\n",
       "</table>\n",
       "</div>"
      ],
      "text/plain": [
       "    company_brand founded headquarter                           sector  \\\n",
       "0  Unbox Robotics    1970   Bangalore          Artificial Intelligence   \n",
       "1          upGrad    1970      Mumbai             Education Technology   \n",
       "2     Lead School    1970      Mumbai             Education Technology   \n",
       "3         Bizongo    1970      Mumbai  Business-to-Business E-commerce   \n",
       "4        FypMoney    1970     Gurgaon                          Fintech   \n",
       "\n",
       "                                       about_company  \\\n",
       "0  Unbox Robotics builds on-demand AI-driven ware...   \n",
       "1     UpGrad is an online higher education platform.   \n",
       "2  LEAD School offers technology based school tra...   \n",
       "3  Bizongo is a business-to-business online marke...   \n",
       "4  FypMoney is Digital NEO Bank for Teenagers, em...   \n",
       "\n",
       "                                            founders  \\\n",
       "0                        Pramod Ghadge, Shahid Memon   \n",
       "1  Mayank Kumar, Phalgun Kompalli, Ravijot Chugh,...   \n",
       "2                         Smita Deorah, Sumeet Mehta   \n",
       "3            Aniket Deb, Ankit Tomar, Sachin Agrawal   \n",
       "4                                      Kapil Banwari   \n",
       "\n",
       "                                        investor       amount          series  \\\n",
       "0                    BEENEXT, Entrepreneur First    1200000.0  early traction   \n",
       "1       Unilazer Ventures, IIFL Asset Management  120000000.0          others   \n",
       "2               GSV Ventures, Westbridge Capital   30000000.0  early traction   \n",
       "3                         CDC Group, IDG Capital   51000000.0  early traction   \n",
       "4  Liberatha Kallat, Mukesh Yadav, Dinesh Nagpal    2000000.0      validation   \n",
       "\n",
       "        year  \n",
       "0 2021-01-01  \n",
       "1 2021-01-01  \n",
       "2 2021-01-01  \n",
       "3 2021-01-01  \n",
       "4 2021-01-01  "
      ]
     },
     "execution_count": 179,
     "metadata": {},
     "output_type": "execute_result"
    }
   ],
   "source": [
    "df.head()"
   ]
  },
  {
   "cell_type": "code",
   "execution_count": 180,
   "id": "2379b027",
   "metadata": {},
   "outputs": [
    {
     "data": {
      "text/html": [
       "<div>\n",
       "<style scoped>\n",
       "    .dataframe tbody tr th:only-of-type {\n",
       "        vertical-align: middle;\n",
       "    }\n",
       "\n",
       "    .dataframe tbody tr th {\n",
       "        vertical-align: top;\n",
       "    }\n",
       "\n",
       "    .dataframe thead th {\n",
       "        text-align: right;\n",
       "    }\n",
       "</style>\n",
       "<table border=\"1\" class=\"dataframe\">\n",
       "  <thead>\n",
       "    <tr style=\"text-align: right;\">\n",
       "      <th></th>\n",
       "      <th>company_brand</th>\n",
       "      <th>founded</th>\n",
       "      <th>headquarter</th>\n",
       "      <th>sector</th>\n",
       "      <th>about_company</th>\n",
       "      <th>founders</th>\n",
       "      <th>investor</th>\n",
       "      <th>amount</th>\n",
       "      <th>series</th>\n",
       "      <th>year</th>\n",
       "    </tr>\n",
       "  </thead>\n",
       "  <tbody>\n",
       "    <tr>\n",
       "      <th>107</th>\n",
       "      <td>Curefoods</td>\n",
       "      <td>1970</td>\n",
       "      <td>Bangalore</td>\n",
       "      <td>Food and Beverages</td>\n",
       "      <td>Healthy &amp; nutritious foods and cold pressed ju...</td>\n",
       "      <td>Ankit Nagori</td>\n",
       "      <td>Iron Pillar, Nordstar, Binny Bansal</td>\n",
       "      <td>13000000.0</td>\n",
       "      <td>others</td>\n",
       "      <td>2021-01-01</td>\n",
       "    </tr>\n",
       "    <tr>\n",
       "      <th>109</th>\n",
       "      <td>Bewakoof</td>\n",
       "      <td>1970</td>\n",
       "      <td>Mumbai</td>\n",
       "      <td>Fashion and Lifestyle</td>\n",
       "      <td>Bewakoof is a lifestyle fashion brand that mak...</td>\n",
       "      <td>Prabhkiran Singh</td>\n",
       "      <td>InvestCorp</td>\n",
       "      <td>8000000.0</td>\n",
       "      <td>others</td>\n",
       "      <td>2021-01-01</td>\n",
       "    </tr>\n",
       "    <tr>\n",
       "      <th>117</th>\n",
       "      <td>Advantage Club</td>\n",
       "      <td>1970</td>\n",
       "      <td>Mumbai</td>\n",
       "      <td>Human Resources and HR Technology</td>\n",
       "      <td>Advantage Club is India's largest employee eng...</td>\n",
       "      <td>Sourabh Deorah, Smiti Bhatt Deorah</td>\n",
       "      <td>Y Combinator, Broom Ventures, Kunal Shah</td>\n",
       "      <td>1700000.0</td>\n",
       "      <td>others</td>\n",
       "      <td>2021-01-01</td>\n",
       "    </tr>\n",
       "    <tr>\n",
       "      <th>119</th>\n",
       "      <td>Ruptok</td>\n",
       "      <td>1970</td>\n",
       "      <td>Delhi</td>\n",
       "      <td>Fintech</td>\n",
       "      <td>Ruptok fintech Pvt. Ltd. is an online gold loa...</td>\n",
       "      <td>Ankur Gupta</td>\n",
       "      <td>Eclear Leasing</td>\n",
       "      <td>1000000.0</td>\n",
       "      <td>others</td>\n",
       "      <td>2021-01-01</td>\n",
       "    </tr>\n",
       "    <tr>\n",
       "      <th>243</th>\n",
       "      <td>Trinkerr</td>\n",
       "      <td>1970</td>\n",
       "      <td>Bangalore</td>\n",
       "      <td>Financial Services</td>\n",
       "      <td>Trinkerr is India's first social trading platf...</td>\n",
       "      <td>Manvendra Singh, Gaurav Agarwal</td>\n",
       "      <td>Accel India</td>\n",
       "      <td>6600000.0</td>\n",
       "      <td>early traction</td>\n",
       "      <td>2021-01-01</td>\n",
       "    </tr>\n",
       "    <tr>\n",
       "      <th>244</th>\n",
       "      <td>Zorro</td>\n",
       "      <td>1970</td>\n",
       "      <td>Gurgaon</td>\n",
       "      <td>Social Media</td>\n",
       "      <td>Pseudonymous social network platform</td>\n",
       "      <td>Jasveer Singh, Abhishek Asthana, Deepak Kumar</td>\n",
       "      <td>Vijay Shekhar Sharma, Ritesh Agarwal, Ankiti Bose</td>\n",
       "      <td>32000000.0</td>\n",
       "      <td>validation</td>\n",
       "      <td>2021-01-01</td>\n",
       "    </tr>\n",
       "    <tr>\n",
       "      <th>245</th>\n",
       "      <td>Ultraviolette</td>\n",
       "      <td>1970</td>\n",
       "      <td>Bangalore</td>\n",
       "      <td>Automotive</td>\n",
       "      <td>Create and Inspire the future of sustainable u...</td>\n",
       "      <td>Subramaniam Narayan, Niraj Rajmohan</td>\n",
       "      <td>TVS Motor, Zoho</td>\n",
       "      <td>150000000.0</td>\n",
       "      <td>early traction</td>\n",
       "      <td>2021-01-01</td>\n",
       "    </tr>\n",
       "    <tr>\n",
       "      <th>246</th>\n",
       "      <td>NephroPlus</td>\n",
       "      <td>1970</td>\n",
       "      <td>Hyderabad</td>\n",
       "      <td>Healthcare</td>\n",
       "      <td>A vision and passion of redefining healthcare ...</td>\n",
       "      <td>Vikram Vuppala</td>\n",
       "      <td>IIFL Asset Management</td>\n",
       "      <td>24000000.0</td>\n",
       "      <td>early traction</td>\n",
       "      <td>2021-01-01</td>\n",
       "    </tr>\n",
       "    <tr>\n",
       "      <th>247</th>\n",
       "      <td>Unremot</td>\n",
       "      <td>1970</td>\n",
       "      <td>Bangalore</td>\n",
       "      <td>Information Technology</td>\n",
       "      <td>Unremot is a personal office for consultants!</td>\n",
       "      <td>Shiju Radhakrishnan</td>\n",
       "      <td>Inflection Point Ventures</td>\n",
       "      <td>700000.0</td>\n",
       "      <td>validation</td>\n",
       "      <td>2021-01-01</td>\n",
       "    </tr>\n",
       "    <tr>\n",
       "      <th>248</th>\n",
       "      <td>FanAnywhere</td>\n",
       "      <td>1970</td>\n",
       "      <td>Bangalore</td>\n",
       "      <td>Financial Services</td>\n",
       "      <td>Celebrity NFT platform</td>\n",
       "      <td>Varun Chaudhary, Amit Kumar</td>\n",
       "      <td>Oasis Capital, Scorpio VC, DeltaHub Capital</td>\n",
       "      <td>0.0</td>\n",
       "      <td>validation</td>\n",
       "      <td>2021-01-01</td>\n",
       "    </tr>\n",
       "    <tr>\n",
       "      <th>249</th>\n",
       "      <td>PingoLearn</td>\n",
       "      <td>1970</td>\n",
       "      <td>Pune</td>\n",
       "      <td>E-learning and Education Management</td>\n",
       "      <td>PingoLearn offers language learning courses wi...</td>\n",
       "      <td>Mohit Menghani, Shubham Maheshwari</td>\n",
       "      <td>Titan Capital, Haresh Chawla, AngelList Syndicate</td>\n",
       "      <td>200000.0</td>\n",
       "      <td>others</td>\n",
       "      <td>2021-01-01</td>\n",
       "    </tr>\n",
       "    <tr>\n",
       "      <th>250</th>\n",
       "      <td>Spry</td>\n",
       "      <td>1970</td>\n",
       "      <td>Mumbai</td>\n",
       "      <td>Music and Music Streaming</td>\n",
       "      <td>THE BEST ROYALTY-FREE MUSIC TO CREATE TRENDING...</td>\n",
       "      <td>Gaurav Dagaonkar, Meghna Mittal</td>\n",
       "      <td>9Unicorns, Ashneer Grover</td>\n",
       "      <td>1500000.0</td>\n",
       "      <td>validation</td>\n",
       "      <td>2021-01-01</td>\n",
       "    </tr>\n",
       "    <tr>\n",
       "      <th>251</th>\n",
       "      <td>Enmovil</td>\n",
       "      <td>1970</td>\n",
       "      <td>Hyderabad</td>\n",
       "      <td>Information Technology</td>\n",
       "      <td>Enmovil delivers a Business Intelligence Platf...</td>\n",
       "      <td>Ravi Bulusu, Nanda Kishore, Venkat Moganty</td>\n",
       "      <td>Anicut Angel Fund</td>\n",
       "      <td>1300000.0</td>\n",
       "      <td>early traction</td>\n",
       "      <td>2021-01-01</td>\n",
       "    </tr>\n",
       "    <tr>\n",
       "      <th>252</th>\n",
       "      <td>ASQI Advisors</td>\n",
       "      <td>1970</td>\n",
       "      <td>Mumbai</td>\n",
       "      <td>Financial Services</td>\n",
       "      <td>Bringing Blockchain technology intro mainstrea...</td>\n",
       "      <td>Swapnil Pawar</td>\n",
       "      <td>Founders Room Capital</td>\n",
       "      <td>1000000.0</td>\n",
       "      <td>early traction</td>\n",
       "      <td>2021-01-01</td>\n",
       "    </tr>\n",
       "    <tr>\n",
       "      <th>253</th>\n",
       "      <td>Insurance Samadhan</td>\n",
       "      <td>1970</td>\n",
       "      <td>Delhi</td>\n",
       "      <td>Insurance</td>\n",
       "      <td>The insurance industry will help in representa...</td>\n",
       "      <td>Deepak Bhuvenshwari Uniyal</td>\n",
       "      <td>9Unicorns, ZNL</td>\n",
       "      <td>725000.0</td>\n",
       "      <td>early traction</td>\n",
       "      <td>2021-01-01</td>\n",
       "    </tr>\n",
       "    <tr>\n",
       "      <th>254</th>\n",
       "      <td>Evenflow Brands</td>\n",
       "      <td>1970</td>\n",
       "      <td>Mumbai</td>\n",
       "      <td>Consumer Goods and Services</td>\n",
       "      <td>Identify and partner with the upcoming eCommer...</td>\n",
       "      <td>Utsav Agarwal, Pulkit Chhabra</td>\n",
       "      <td>None</td>\n",
       "      <td>500000.0</td>\n",
       "      <td>others</td>\n",
       "      <td>2021-01-01</td>\n",
       "    </tr>\n",
       "    <tr>\n",
       "      <th>255</th>\n",
       "      <td>MasterChow</td>\n",
       "      <td>1970</td>\n",
       "      <td>ood &amp; Beverages</td>\n",
       "      <td>Hauz Khas</td>\n",
       "      <td>A ready-to-cook Asian cuisine brand</td>\n",
       "      <td>Vidur Kataria, Sidhanth Madan</td>\n",
       "      <td>WEH Ventures</td>\n",
       "      <td>461000.0</td>\n",
       "      <td>validation</td>\n",
       "      <td>2021-01-01</td>\n",
       "    </tr>\n",
       "    <tr>\n",
       "      <th>1354</th>\n",
       "      <td>Krimanshi</td>\n",
       "      <td>1970</td>\n",
       "      <td>Jodhpur</td>\n",
       "      <td>Biotechnology company</td>\n",
       "      <td>Krimanshi aims to increase rural income by imp...</td>\n",
       "      <td>Nikhil Bohra</td>\n",
       "      <td>Rajasthan Venture Capital Fund, AIM Smart City</td>\n",
       "      <td>600000.0</td>\n",
       "      <td>validation</td>\n",
       "      <td>2020-01-01</td>\n",
       "    </tr>\n",
       "    <tr>\n",
       "      <th>1414</th>\n",
       "      <td>Nykaa</td>\n",
       "      <td>1970</td>\n",
       "      <td>Mumbai</td>\n",
       "      <td>Cosmetics, Personal Care, and Beauty Products</td>\n",
       "      <td>Nykaa is an online marketplace for different b...</td>\n",
       "      <td>Falguni Nayar</td>\n",
       "      <td>Alia Bhatt, Katrina Kaif</td>\n",
       "      <td>0.0</td>\n",
       "      <td>others</td>\n",
       "      <td>2020-01-01</td>\n",
       "    </tr>\n",
       "    <tr>\n",
       "      <th>1571</th>\n",
       "      <td>Byju’s</td>\n",
       "      <td>1970</td>\n",
       "      <td>Bangalore</td>\n",
       "      <td>Education Technology</td>\n",
       "      <td>An Indian educational technology and online tu...</td>\n",
       "      <td>Byju Raveendran</td>\n",
       "      <td>Owl Ventures, Tiger Global Management</td>\n",
       "      <td>500000000.0</td>\n",
       "      <td>others</td>\n",
       "      <td>2020-01-01</td>\n",
       "    </tr>\n",
       "    <tr>\n",
       "      <th>2701</th>\n",
       "      <td>TheCollegeFever</td>\n",
       "      <td>1970</td>\n",
       "      <td>Bangalore</td>\n",
       "      <td>Brand Marketing</td>\n",
       "      <td>TheCollegeFever is a hub for fun, fiesta and f...</td>\n",
       "      <td>NaN</td>\n",
       "      <td>NaN</td>\n",
       "      <td>250000.0</td>\n",
       "      <td>validation</td>\n",
       "      <td>2018-01-01</td>\n",
       "    </tr>\n",
       "  </tbody>\n",
       "</table>\n",
       "</div>"
      ],
      "text/plain": [
       "           company_brand founded      headquarter  \\\n",
       "107            Curefoods    1970        Bangalore   \n",
       "109             Bewakoof    1970           Mumbai   \n",
       "117       Advantage Club    1970           Mumbai   \n",
       "119               Ruptok    1970            Delhi   \n",
       "243             Trinkerr    1970        Bangalore   \n",
       "244                Zorro    1970          Gurgaon   \n",
       "245        Ultraviolette    1970        Bangalore   \n",
       "246           NephroPlus    1970        Hyderabad   \n",
       "247              Unremot    1970        Bangalore   \n",
       "248          FanAnywhere    1970        Bangalore   \n",
       "249           PingoLearn    1970             Pune   \n",
       "250                 Spry    1970           Mumbai   \n",
       "251              Enmovil    1970        Hyderabad   \n",
       "252        ASQI Advisors    1970           Mumbai   \n",
       "253   Insurance Samadhan    1970            Delhi   \n",
       "254      Evenflow Brands    1970           Mumbai   \n",
       "255           MasterChow    1970  ood & Beverages   \n",
       "1354           Krimanshi    1970          Jodhpur   \n",
       "1414               Nykaa    1970           Mumbai   \n",
       "1571              Byju’s    1970        Bangalore   \n",
       "2701     TheCollegeFever    1970        Bangalore   \n",
       "\n",
       "                                             sector  \\\n",
       "107                              Food and Beverages   \n",
       "109                           Fashion and Lifestyle   \n",
       "117               Human Resources and HR Technology   \n",
       "119                                         Fintech   \n",
       "243                              Financial Services   \n",
       "244                                    Social Media   \n",
       "245                                      Automotive   \n",
       "246                                      Healthcare   \n",
       "247                          Information Technology   \n",
       "248                              Financial Services   \n",
       "249             E-learning and Education Management   \n",
       "250                       Music and Music Streaming   \n",
       "251                          Information Technology   \n",
       "252                              Financial Services   \n",
       "253                                       Insurance   \n",
       "254                     Consumer Goods and Services   \n",
       "255                                       Hauz Khas   \n",
       "1354                          Biotechnology company   \n",
       "1414  Cosmetics, Personal Care, and Beauty Products   \n",
       "1571                           Education Technology   \n",
       "2701                                Brand Marketing   \n",
       "\n",
       "                                          about_company  \\\n",
       "107   Healthy & nutritious foods and cold pressed ju...   \n",
       "109   Bewakoof is a lifestyle fashion brand that mak...   \n",
       "117   Advantage Club is India's largest employee eng...   \n",
       "119   Ruptok fintech Pvt. Ltd. is an online gold loa...   \n",
       "243   Trinkerr is India's first social trading platf...   \n",
       "244                Pseudonymous social network platform   \n",
       "245   Create and Inspire the future of sustainable u...   \n",
       "246   A vision and passion of redefining healthcare ...   \n",
       "247       Unremot is a personal office for consultants!   \n",
       "248                              Celebrity NFT platform   \n",
       "249   PingoLearn offers language learning courses wi...   \n",
       "250   THE BEST ROYALTY-FREE MUSIC TO CREATE TRENDING...   \n",
       "251   Enmovil delivers a Business Intelligence Platf...   \n",
       "252   Bringing Blockchain technology intro mainstrea...   \n",
       "253   The insurance industry will help in representa...   \n",
       "254   Identify and partner with the upcoming eCommer...   \n",
       "255                 A ready-to-cook Asian cuisine brand   \n",
       "1354  Krimanshi aims to increase rural income by imp...   \n",
       "1414  Nykaa is an online marketplace for different b...   \n",
       "1571  An Indian educational technology and online tu...   \n",
       "2701  TheCollegeFever is a hub for fun, fiesta and f...   \n",
       "\n",
       "                                           founders  \\\n",
       "107                                    Ankit Nagori   \n",
       "109                                Prabhkiran Singh   \n",
       "117              Sourabh Deorah, Smiti Bhatt Deorah   \n",
       "119                                     Ankur Gupta   \n",
       "243                 Manvendra Singh, Gaurav Agarwal   \n",
       "244   Jasveer Singh, Abhishek Asthana, Deepak Kumar   \n",
       "245             Subramaniam Narayan, Niraj Rajmohan   \n",
       "246                                  Vikram Vuppala   \n",
       "247                             Shiju Radhakrishnan   \n",
       "248                     Varun Chaudhary, Amit Kumar   \n",
       "249              Mohit Menghani, Shubham Maheshwari   \n",
       "250                 Gaurav Dagaonkar, Meghna Mittal   \n",
       "251      Ravi Bulusu, Nanda Kishore, Venkat Moganty   \n",
       "252                                   Swapnil Pawar   \n",
       "253                      Deepak Bhuvenshwari Uniyal   \n",
       "254                   Utsav Agarwal, Pulkit Chhabra   \n",
       "255                   Vidur Kataria, Sidhanth Madan   \n",
       "1354                                   Nikhil Bohra   \n",
       "1414                                  Falguni Nayar   \n",
       "1571                                Byju Raveendran   \n",
       "2701                                            NaN   \n",
       "\n",
       "                                               investor       amount  \\\n",
       "107                 Iron Pillar, Nordstar, Binny Bansal   13000000.0   \n",
       "109                                          InvestCorp    8000000.0   \n",
       "117            Y Combinator, Broom Ventures, Kunal Shah    1700000.0   \n",
       "119                                      Eclear Leasing    1000000.0   \n",
       "243                                         Accel India    6600000.0   \n",
       "244   Vijay Shekhar Sharma, Ritesh Agarwal, Ankiti Bose   32000000.0   \n",
       "245                                     TVS Motor, Zoho  150000000.0   \n",
       "246                               IIFL Asset Management   24000000.0   \n",
       "247                           Inflection Point Ventures     700000.0   \n",
       "248         Oasis Capital, Scorpio VC, DeltaHub Capital          0.0   \n",
       "249   Titan Capital, Haresh Chawla, AngelList Syndicate     200000.0   \n",
       "250                           9Unicorns, Ashneer Grover    1500000.0   \n",
       "251                                   Anicut Angel Fund    1300000.0   \n",
       "252                               Founders Room Capital    1000000.0   \n",
       "253                                      9Unicorns, ZNL     725000.0   \n",
       "254                                                None     500000.0   \n",
       "255                                        WEH Ventures     461000.0   \n",
       "1354     Rajasthan Venture Capital Fund, AIM Smart City     600000.0   \n",
       "1414                           Alia Bhatt, Katrina Kaif          0.0   \n",
       "1571              Owl Ventures, Tiger Global Management  500000000.0   \n",
       "2701                                                NaN     250000.0   \n",
       "\n",
       "              series       year  \n",
       "107           others 2021-01-01  \n",
       "109           others 2021-01-01  \n",
       "117           others 2021-01-01  \n",
       "119           others 2021-01-01  \n",
       "243   early traction 2021-01-01  \n",
       "244       validation 2021-01-01  \n",
       "245   early traction 2021-01-01  \n",
       "246   early traction 2021-01-01  \n",
       "247       validation 2021-01-01  \n",
       "248       validation 2021-01-01  \n",
       "249           others 2021-01-01  \n",
       "250       validation 2021-01-01  \n",
       "251   early traction 2021-01-01  \n",
       "252   early traction 2021-01-01  \n",
       "253   early traction 2021-01-01  \n",
       "254           others 2021-01-01  \n",
       "255       validation 2021-01-01  \n",
       "1354      validation 2020-01-01  \n",
       "1414          others 2020-01-01  \n",
       "1571          others 2020-01-01  \n",
       "2701      validation 2018-01-01  "
      ]
     },
     "execution_count": 180,
     "metadata": {},
     "output_type": "execute_result"
    }
   ],
   "source": [
    "# check for duplicates\n",
    "df[df.duplicated()]\n"
   ]
  },
  {
   "cell_type": "code",
   "execution_count": 181,
   "id": "acb18d07",
   "metadata": {},
   "outputs": [],
   "source": [
    "# drop duplicates\n",
    "df.drop_duplicates(keep='first', inplace=True)\n"
   ]
  },
  {
   "cell_type": "code",
   "execution_count": 182,
   "id": "3e72fd35",
   "metadata": {},
   "outputs": [
    {
     "name": "stdout",
     "output_type": "stream",
     "text": [
      " There are 0 duplicates\n"
     ]
    }
   ],
   "source": [
    "# check for duplicates\n",
    "print(f\" There are {df.duplicated().sum()} duplicates\")"
   ]
  },
  {
   "cell_type": "code",
   "execution_count": 183,
   "id": "f07a6e2a",
   "metadata": {},
   "outputs": [
    {
     "name": "stdout",
     "output_type": "stream",
     "text": [
      "<class 'pandas.core.frame.DataFrame'>\n",
      "Index: 2856 entries, 0 to 2878\n",
      "Data columns (total 10 columns):\n",
      " #   Column         Non-Null Count  Dtype         \n",
      "---  ------         --------------  -----         \n",
      " 0   company_brand  2856 non-null   object        \n",
      " 1   founded        2856 non-null   period[Y-DEC] \n",
      " 2   headquarter    2741 non-null   object        \n",
      " 3   sector         2856 non-null   object        \n",
      " 4   about_company  2856 non-null   object        \n",
      " 5   founders       2312 non-null   object        \n",
      " 6   investor       2227 non-null   object        \n",
      " 7   amount         2853 non-null   float64       \n",
      " 8   series         2853 non-null   object        \n",
      " 9   year           2856 non-null   datetime64[ns]\n",
      "dtypes: datetime64[ns](1), float64(1), object(7), period[Y-DEC](1)\n",
      "memory usage: 245.4+ KB\n"
     ]
    }
   ],
   "source": [
    "df.info()"
   ]
  },
  {
   "cell_type": "markdown",
   "id": "bf4536a8",
   "metadata": {},
   "source": [
    "# **4. Hypothesis**"
   ]
  },
  {
   "cell_type": "markdown",
   "id": "8594001a",
   "metadata": {},
   "source": [
    "**Null Hypothesis (H0)**: There is no significant relationship between funding and the sector  \n",
    "\n",
    "**Alternative Hypothesis (H1)**: There is a significant relationship between funding and the sector"
   ]
  },
  {
   "cell_type": "code",
   "execution_count": 241,
   "id": "1d18dc7e",
   "metadata": {},
   "outputs": [
    {
     "name": "stdout",
     "output_type": "stream",
     "text": [
      "Fail to reject the null hypothesis. There is no significant relationship between funding and the sector.\n",
      "The p_value is 0.9999999999999999\n",
      "The f_statistic is 0.0628352704331516\n"
     ]
    }
   ],
   "source": [
    "# Create a subset of the DataFrame with only the 'sector' and 'amount' columns\n",
    "sector_funding = df[['sector', 'amount']]\n",
    "\n",
    "# Remove any rows with missing values\n",
    "sector_funding = sector_funding.dropna()\n",
    "\n",
    "# Perform one-way ANOVA\n",
    "sector_groups = [group[1] for group in sector_funding.groupby('sector')['amount']]\n",
    "f_statistic, p_value = stats.f_oneway(*sector_groups)\n",
    "\n",
    "# Define the significance level (alpha)\n",
    "alpha = 0.05\n",
    "\n",
    "# Interpret the results\n",
    "if p_value < alpha:\n",
    "    print(\"Reject the null hypothesis. There is a significant relationship between funding and the sector.\")\n",
    "else:\n",
    "    print(\"Fail to reject the null hypothesis. There is no significant relationship between funding and the sector.\")\n",
    "print(f'The p_value is {p_value}')\n",
    "print(f'The f_statistic is {f_statistic}')\n",
    "\n"
   ]
  },
  {
   "cell_type": "markdown",
   "id": "dfd8e56a",
   "metadata": {},
   "source": [
    "# **5. Analytical Questions**"
   ]
  },
  {
   "cell_type": "markdown",
   "id": "62df3ba3",
   "metadata": {},
   "source": [
    "## Questions \n",
    "1. How have funding trends evolved between 2018 and 2021?\n",
    "2. What is the relationship between the amount of funding and the stage of the company?\n",
    "3. How does funding vary with the location of the start-ups\n",
    "4. What are the most attractive sectors for investors?\n",
    "5. Does the location of the company influence its sector?"
   ]
  },
  {
   "cell_type": "markdown",
   "id": "f1ddc698",
   "metadata": {},
   "source": [
    "## **1. How have funding trends evolved between 2018 and 2021?**\n"
   ]
  },
  {
   "cell_type": "markdown",
   "id": "f2ba0037",
   "metadata": {},
   "source": [
    "### **1.1 Funding Trend over the Years**"
   ]
  },
  {
   "cell_type": "code",
   "execution_count": 185,
   "id": "633a885e",
   "metadata": {},
   "outputs": [
    {
     "data": {
      "image/png": "[encoded data removed]",
      "text/plain": [
       "<Figure size 1200x600 with 1 Axes>"
      ]
     },
     "metadata": {},
     "output_type": "display_data"
    }
   ],
   "source": [
    "# Plot a line graph to display the trend over the year\n",
    "funding_trend = df.groupby('year')['amount'].sum()\n",
    "funding_trend = pd.DataFrame(funding_trend).reset_index()\n",
    "funding_trend = funding_trend.reset_index()\n",
    "# Create a line plot using Seaborn\n",
    "plt.figure(figsize=(12, 6))  # Adjust the figure size if needed\n",
    "ax = sns.lineplot(data=funding_trend, x='year', marker='o',markersize=5, y='amount',)\n",
    "plt.title('Funding Trend Over the Years\\n2018-2021\\n')\n",
    "plt.xlabel('Year')\n",
    "plt.ylabel('Total Funded Amount (in Billion Dollars)')\n",
    "plt.xticks(rotation=5)\n",
    "ax.xaxis.set_major_locator(YearLocator())\n",
    "ax.yaxis.set_major_formatter(FuncFormatter(lambda x, _: '{:,}'.format(int(x))))\n",
    "ax.yaxis.set_major_formatter(FuncFormatter(lambda x, _: f'{int(x / 1e9)}B'))\n",
    "for i, label in enumerate(funding_trend['amount']):\n",
    "    year = funding_trend['year'].iloc[i]\n",
    "    y_value = funding_trend['amount'].iloc[i]\n",
    "    label_text = f'{label / 1e9:.1f}B' if not pd.isna(label) else 'N/A'\n",
    "    plt.text(year, y_value, label_text, ha='left', va='top', color='black', fontsize=10)\n",
    "plt.show()"
   ]
  },
  {
   "cell_type": "markdown",
   "id": "dcb51d83",
   "metadata": {},
   "source": [
    "### **Observations**  \n",
    "- There was a modest decline in funding amounts between 2018 and 2019. However, from 2019 to 2021, there was a remarkable and abrupt increase, with a substantial difference of over 176 billion between the funding levels in 2019 and 2021. \n",
    "- 2021 is by far the best funded year with over 179B in funding"
   ]
  },
  {
   "cell_type": "markdown",
   "id": "b73e7707",
   "metadata": {},
   "source": [
    "### **1.2 Evolution of Funding Trends Across Top Locations Over the Years**"
   ]
  },
  {
   "cell_type": "code",
   "execution_count": 186,
   "metadata": {},
   "outputs": [
    {
     "data": {
      "image/png": "[encoded data removed]",
      "text/plain": [
       "<Figure size 1200x600 with 1 Axes>"
      ]
     },
     "metadata": {},
     "output_type": "display_data"
    }
   ],
   "source": [
    "# plot a line graph for the top four funded locations\n",
    "df['year'] = pd.to_datetime(df['year'], format='%Y')\n",
    "location_trend = df.groupby(['headquarter', 'year'])['amount'].sum().sort_values(ascending=False)\n",
    "top_locations = location_trend.groupby('headquarter').sum().nlargest(4).index\n",
    "# Filter the original DataFrame for the top 5 locations\n",
    "location_trend_top4 = location_trend[location_trend.index.get_level_values('headquarter').isin(top_locations)].reset_index()\n",
    "location_trend_top4_reset = location_trend_top4.reset_index()\n",
    "# Create a line plot using Seaborn\n",
    "plt.figure(figsize=(12, 6))  # Adjust the figure size if needed\n",
    "ax = sns.lineplot(data=location_trend_top4_reset, x='year', y='amount', hue='headquarter', marker='o', markersize=8)\n",
    "plt.title('Funding Trend across Top Locations Over the Years\\n2018-2021\\n')\n",
    "plt.xlabel('Year')\n",
    "plt.ylabel('Total Funded Amount')\n",
    "ax.yaxis.set_major_formatter(FuncFormatter(lambda x, _: f'{int(x / 1e9)}B'))\n",
    "ax.xaxis.set_major_locator(YearLocator())\n",
    "plt.show()"
   ]
  },
  {
   "cell_type": "markdown",
   "id": "fc36e891",
   "metadata": {},
   "source": [
    "### **Observations**  \n",
    "- Mumbai stands out as the most well-funded location, exhibiting a funding trend that closely mirrors the overall funding pattern. In contrast, Bangalore, Gurgaon, Delhi and all other cities follow at a considerable distance.\n",
    "\n",
    "\n",
    "   \n",
    "     "
   ]
  },
  {
   "cell_type": "markdown",
   "id": "c076e2b9",
   "metadata": {},
   "source": [
    "\n",
    "\n",
    "\n",
    "### **1.3 Evolution of Funding Trends Across Top Sectors Over the Years**"
   ]
  },
  {
   "cell_type": "code",
   "execution_count": 187,
   "id": "09c97b3c",
   "metadata": {},
   "outputs": [
    {
     "data": {
      "image/png": "[encoded data removed]",
      "text/plain": [
       "<Figure size 1200x600 with 1 Axes>"
      ]
     },
     "metadata": {},
     "output_type": "display_data"
    }
   ],
   "source": [
    "# Plot a line graph to visualize trend of funding across top top_sectors\n",
    "df['year'] = pd.to_datetime(df['year'], format='%Y')\n",
    "sector_trend = df.groupby(['sector', 'year'])['amount'].sum().sort_values(ascending=False)\n",
    "top_sectors = sector_trend.groupby('sector').sum().nlargest(4).index\n",
    "sector_trend_top4 = sector_trend[sector_trend.index.get_level_values('sector').isin(top_sectors)].reset_index()\n",
    "plt.figure(figsize=(12, 6))\n",
    "ax = sns.lineplot(data=sector_trend_top4, x='year', y='amount', hue='sector', marker='o', markersize=8)\n",
    "plt.title('Funding Trends across Top Sectors Over the Years\\n2018-2021\\n')\n",
    "plt.xlabel('Year')\n",
    "plt.ylabel('Total Funded Amount (in billions)')\n",
    "ax.yaxis.set_major_formatter(FuncFormatter(lambda x, _: f'{int(x / 1e9)}B'))\n",
    "ax.xaxis.set_major_locator(YearLocator())\n",
    "plt.show()"
   ]
  },
  {
   "cell_type": "markdown",
   "id": "a5a5120e",
   "metadata": {},
   "source": [
    "### **Observations**  \n",
    "- Retail has undergone a notable evolution in its funding trend. Initially, it exhibited a steep upward trajectory until 2020, followed by a sudden decline between 2020 and 2021.\n",
    "\n",
    "- In contrast, fintech consistently lagged significantly behind retail until 2020, only to experience a sudden upward trajectory thereafter, ultimately emerging as the best-funded sector."
   ]
  },
  {
   "cell_type": "markdown",
   "id": "14346847",
   "metadata": {},
   "source": [
    "\n",
    "\n",
    "\n",
    "### **1.4 Evolution of Funding Trends Across Startup Stages Over the Years**"
   ]
  },
  {
   "cell_type": "code",
   "execution_count": 188,
   "id": "d5bcc6bf",
   "metadata": {},
   "outputs": [
    {
     "data": {
      "image/png": "[encoded data removed]",
      "text/plain": [
       "<Figure size 1200x600 with 1 Axes>"
      ]
     },
     "metadata": {},
     "output_type": "display_data"
    }
   ],
   "source": [
    "# plot a line graph for the top four funded series\n",
    "df['year'] = pd.to_datetime(df['year'], format='%Y')\n",
    "series_trend = df.groupby(['series', 'year'])['amount'].sum().sort_values(ascending=False)\n",
    "top_series = series_trend.groupby('series').sum().index\n",
    "# Filter the original DataFrame for the top 4 series\n",
    "series_trend_top4 = series_trend[series_trend.index.get_level_values('series').isin(top_series)].reset_index()\n",
    "series_trend_top4_reset = series_trend_top4.reset_index()\n",
    "# Create a line plot using Seaborn\n",
    "plt.figure(figsize=(12, 6))  # Adjust the figure size if needed\n",
    "ax = sns.lineplot(data=series_trend_top4_reset, x='year', y='amount', hue='series', marker='o', markersize=8)\n",
    "plt.title('Funding Trends across All stages Over the Years\\n2018-2021\\n')\n",
    "plt.xlabel('Year')\n",
    "plt.ylabel('Total Funded Amount')\n",
    "ax.yaxis.set_major_formatter(FuncFormatter(lambda x, _: f'{int(x / 1e9)}B'))\n",
    "ax.xaxis.set_major_locator(YearLocator())\n",
    "plt.show()\n"
   ]
  },
  {
   "cell_type": "markdown",
   "id": "7e2e85c1",
   "metadata": {},
   "source": [
    "### **Observations**\n",
    "- From the Graph above, Over the years, \"Other\" category which includes Private Equity, Corporate Round, Undisclosed, Non-equity Assistance, Debt, Bridge, and Edge has seen a tremendous growth in the amount of funding  received. These types of funding are often associated with more mature startups. As the startup ecosystem has matured, investors have become more comfortable investing in later-stage startups that are closer to profitability."
   ]
  },
  {
   "cell_type": "markdown",
   "id": "06a094b0",
   "metadata": {},
   "source": [
    "### **Concclusion**\n",
    "**Startup Funding Trends**\n",
    "\n",
    "Startup funding is experiencing a significant surge, especially in the financial technology (Fintech) sector. Among various locations, Mumbai stands out as the epicenter of this growth.\n",
    "\n",
    "**Key Points:**\n",
    "- **Rising Trends:** Startup funding is on a tremendous rise.\n",
    "- **Location Spotlight:** Mumbai leads the charts as the location with the most substantial rise in startup funding.\n",
    "- **Industry Focus:** Fintech emerges as the industry experiencing the most significant surge in funding.\n"
   ]
  },
  {
   "cell_type": "markdown",
   "id": "091d466e",
   "metadata": {},
   "source": [
    "## **2. What is the relationship between the amount of funding and the stage of the company?**"
   ]
  },
  {
   "cell_type": "markdown",
   "id": "cc31d0fa",
   "metadata": {},
   "source": [
    "### **2.1 Total Funding Recieved in Different Stages**"
   ]
  },
  {
   "cell_type": "code",
   "execution_count": 245,
   "metadata": {},
   "outputs": [
    {
     "data": {
      "image/png": "[encoded data removed]",
      "text/plain": [
       "<Figure size 1000x600 with 1 Axes>"
      ]
     },
     "metadata": {},
     "output_type": "display_data"
    }
   ],
   "source": [
    "stage_funding_dist = df.groupby('series')['amount'].sum().sort_values(ascending=False)\n",
    "# Plot the data\n",
    "fig, ax = plt.subplots(figsize=(10, 6))\n",
    "stage_funding_dist.plot(kind='barh', ax=ax)\n",
    "ax.set_title('Total Funding Amounts Per Series\\n2018-2021', fontsize=14)\n",
    "ax.set_xlabel('Amount of Funding in Billion Dollars', fontsize=12)\n",
    "ax.set_ylabel('Series', fontsize=12)\n",
    "\n",
    "# Annotate the bars\n",
    "for i, (series, amount) in enumerate(stage_funding_dist.items()):\n",
    "    ax.annotate(f'{amount / 1e9:.1f}B', xy=(amount, i), ha='left', va='center', fontsize=10)\n",
    "\n",
    "plt.tight_layout()\n",
    "plt.show()"
   ]
  },
  {
   "cell_type": "markdown",
   "id": "d4049048",
   "metadata": {},
   "source": [
    "### **Observations**  \n",
    "- Category 'Others' being the best funded stage received 251B in total\n",
    "- Exit option is the worst funded with about a Billion in funding  \n",
    "- **A clear trend emerges – the more mature the startup, the more likely it is to attract substantial funding**"
   ]
  },
  {
   "cell_type": "markdown",
   "id": "500c6ffe",
   "metadata": {},
   "source": [
    "### **2.2 Average Funding Received in Different Stages**"
   ]
  },
  {
   "cell_type": "code",
   "execution_count": 190,
   "id": "81858423",
   "metadata": {},
   "outputs": [
    {
     "data": {
      "image/png": "[encoded data removed]",
      "text/plain": [
       "<Figure size 1000x600 with 1 Axes>"
      ]
     },
     "metadata": {},
     "output_type": "display_data"
    }
   ],
   "source": [
    "# Average funding received by startups in different stages\n",
    "stage_funding_dist_avg = df.groupby('series')['amount'].mean().sort_values(ascending=False)\n",
    "stage_funding_dist_avg = pd.DataFrame(stage_funding_dist_avg)\n",
    "\n",
    "# Limiting the number of categories to plot\n",
    "num_categories = 10  # You can adjust this value according to your preference\n",
    "top_categories = stage_funding_dist_avg.head(num_categories)\n",
    "\n",
    "plt.figure(figsize=(10, 6))  # Reduced figure size\n",
    "\n",
    "# Plot horizontal bar chart\n",
    "bars=plt.barh(top_categories.index, top_categories['amount'])\n",
    "\n",
    "plt.title('Average Funding Amounts Per Series\\n2018-2021')\n",
    "plt.xlabel('Average Amount of Funding in Miilion Dollars')\n",
    "plt.ylabel('Series')\n",
    "for bar in bars:\n",
    "    width = bar.get_width()\n",
    "    plt.annotate(f'{int(width / 1e6)}M',\n",
    "                 xy=(width, bar.get_y() + bar.get_height() / 2),\n",
    "                 xytext=(3, 0),  # 3 points horizontal offset\n",
    "                 textcoords='offset points',\n",
    "                 ha='left', va='center', fontsize=10)\n",
    "\n",
    "\n",
    "plt.show()\n"
   ]
  },
  {
   "cell_type": "markdown",
   "id": "de76a1bc",
   "metadata": {},
   "source": [
    "### **Conclusion**\n",
    "- We can comfortably infer that startups that are more muture get more funding on average"
   ]
  },
  {
   "cell_type": "markdown",
   "id": "f9bc7d05",
   "metadata": {},
   "source": [
    "## **3. How does funding vary with the location of the start-ups**\n"
   ]
  },
  {
   "cell_type": "code",
   "execution_count": 212,
   "id": "3dea03d6",
   "metadata": {},
   "outputs": [
    {
     "data": {
      "image/png": "[encoded data removed]",
      "text/plain": [
       "<Figure size 1000x600 with 1 Axes>"
      ]
     },
     "metadata": {},
     "output_type": "display_data"
    }
   ],
   "source": [
    "# Group by 'headquarter' and calculate the mean amount\n",
    "location_funding = df.groupby('headquarter')['amount'].mean().reset_index()\n",
    "\n",
    "# Sort by mean funding amount and select the top 10 cities\n",
    "top_10_cities = location_funding.sort_values('amount', ascending=False).head(10)\n",
    "\n",
    "# Create a bar plot\n",
    "fig, ax = plt.subplots(figsize=(10, 6))\n",
    "bars = ax.bar(top_10_cities['headquarter'], top_10_cities['amount'])\n",
    "\n",
    "# Add labels and title\n",
    "plt.xlabel('City', fontsize=12)\n",
    "plt.ylabel('Average Funding Amount', fontsize=12)\n",
    "plt.title('Top 10 Cities by Average Funding Amount\\n2018-2021', fontsize=14)\n",
    "\n",
    "# Rotate x-axis labels for better readability\n",
    "plt.xticks(rotation=45, ha='right')\n",
    "\n",
    "# Annotate the bars with the mean funding amount\n",
    "for bar in bars:\n",
    "    height = bar.get_height()\n",
    "    ax.annotate(f'{height / 1e9:.1f}B',\n",
    "                xy=(bar.get_x() + bar.get_width() / 2, height),\n",
    "                xytext=(0, 3),\n",
    "                textcoords='offset points',\n",
    "                ha='center', va='bottom', fontsize=10)\n",
    "\n",
    "plt.tight_layout()\n",
    "plt.show()"
   ]
  },
  {
   "cell_type": "markdown",
   "id": "60973e24",
   "metadata": {},
   "source": [
    "### **Observations**  \n",
    "- Mumbai's startups get the most money on average. Shanghai gets less, quite a bit behind. It's like a funding showdown between the two cities.\n",
    "- There's clear variation in funding across different cities. Mumbai, Shanghai, San Francisco, Kalpakkan, and Beijing startups are more likely to secure over $0.2 billion on average.\n",
    "\n"
   ]
  },
  {
   "cell_type": "markdown",
   "id": "d9b5aad6",
   "metadata": {},
   "source": [
    "### **Conclusion**\n",
    "- Startups located in Mumbai and San Francisco receive more funding on average than startups in other locations.\n",
    "\n",
    "\n",
    "\n",
    "\n",
    "\n"
   ]
  },
  {
   "cell_type": "markdown",
   "id": "c1e84c1d",
   "metadata": {},
   "source": [
    "## **4. What are the most attractive sectors for investors?**\n"
   ]
  },
  {
   "cell_type": "markdown",
   "id": "c0c56537",
   "metadata": {},
   "source": [
    "### **4.1 __Total Funding per Sector__**"
   ]
  },
  {
   "cell_type": "code",
   "execution_count": 219,
   "id": "6d88b93b",
   "metadata": {},
   "outputs": [
    {
     "data": {
      "image/png": "[encoded data removed]",
      "text/plain": [
       "<Figure size 1000x600 with 1 Axes>"
      ]
     },
     "metadata": {},
     "output_type": "display_data"
    }
   ],
   "source": [
    "# Sort sectors by funding amount\n",
    "sectors_by_funding = df.groupby('sector')['amount'].sum().sort_values(ascending=False)\n",
    "\n",
    "# Select top ten sectors\n",
    "top_ten_sectors_by_funding = sectors_by_funding.head(10)\n",
    "\n",
    "# Set Seaborn style\n",
    "sns.set_style(\"darkgrid\")\n",
    "\n",
    "# Plotting using Pandas\n",
    "fig, ax = plt.subplots(figsize=(10, 6))\n",
    "top_ten_sectors_by_funding.plot(kind='barh', ax=ax)\n",
    "ax.set_title('Top Ten Sectors by Total Funding (in $B)\\n2018-2021', fontsize=14)\n",
    "ax.set_xlabel('Amount in Billion $', fontsize=12)\n",
    "ax.set_ylabel('Sector', fontsize=12)\n",
    "\n",
    "# Annotate the bars\n",
    "for i, (sector, amount) in enumerate(top_ten_sectors_by_funding.items()):\n",
    "    ax.annotate(f'{amount / 1e9:.1f}B', xy=(amount, i), ha='left', va='center', fontsize=10)\n",
    "\n",
    "plt.tight_layout()\n",
    "plt.show()"
   ]
  },
  {
   "cell_type": "markdown",
   "id": "b28e6fa6",
   "metadata": {},
   "source": [
    "### **Observations**\n",
    "- Fintech and retail sectors stand out as the most attractive for investors.\n",
    "- The two sectors have received the most funding over the year\n",
    "- These sectors have received significant funding, making them key players in the startup investment landscape."
   ]
  },
  {
   "cell_type": "markdown",
   "id": "f868c00d",
   "metadata": {},
   "source": [
    "### **4.2 __Average Funding per Sector__**"
   ]
  },
  {
   "cell_type": "code",
   "execution_count": 220,
   "id": "fdc9bf1e",
   "metadata": {},
   "outputs": [
    {
     "data": {
      "image/png": "[encoded data removed]",
      "text/plain": [
       "<Figure size 1000x600 with 1 Axes>"
      ]
     },
     "metadata": {},
     "output_type": "display_data"
    }
   ],
   "source": [
    "# Find the average funding amount for each sector\n",
    "avg_sectors_funding = df.groupby('sector')['amount'].mean().reset_index()\n",
    "\n",
    "# Convert the amount to billion dollars\n",
    "avg_sectors_funding['amount_in_billion'] = avg_sectors_funding['amount'] / 1e9\n",
    "\n",
    "# Sort sectors by average funding amount and select the top 10\n",
    "top_ten_sectors = avg_sectors_funding.sort_values('amount_in_billion', ascending=False).head(10)\n",
    "\n",
    "# Set Seaborn style\n",
    "sns.set_style(\"darkgrid\")\n",
    "\n",
    "# Create a bar plot\n",
    "fig, ax = plt.subplots(figsize=(10, 6))\n",
    "bars = ax.bar(top_ten_sectors['sector'], top_ten_sectors['amount_in_billion'])\n",
    "\n",
    "# Add labels and title\n",
    "plt.xlabel('Sector', fontsize=12)\n",
    "plt.ylabel('Average Funding Amount (in $B)', fontsize=12)\n",
    "plt.title('Top 10 Sectors by Average Funding Amount\\n2018-2021', fontsize=14)\n",
    "\n",
    "# Rotate x-axis labels for better readability\n",
    "plt.xticks(rotation=45, ha='right')\n",
    "\n",
    "# Annotate the bars with the average funding amount\n",
    "for bar in bars:\n",
    "    height = bar.get_height()\n",
    "    ax.annotate(f'{height:.1f}B',\n",
    "                xy=(bar.get_x() + bar.get_width() / 2, height),\n",
    "                xytext=(0, 3),\n",
    "                textcoords='offset points',\n",
    "                ha='center', va='bottom', fontsize=10)\n",
    "\n",
    "plt.tight_layout()\n",
    "plt.show()"
   ]
  },
  {
   "cell_type": "markdown",
   "id": "59883d18",
   "metadata": {},
   "source": [
    "### **Observations**\n",
    "\n",
    "1. **Retail Dominance:**\n",
    "   - On average, retail startups secured the highest funding from 2018 to 2021, indicating strong investor interest.\n",
    "\n",
    "2. **Fintech Discrepancy:**\n",
    "   - While fintech received the most funds in total, the average funding per startup was significantly lower at $0.55 billion. \n",
    "   - In contrast, retail startups averaged a substantial $2.4 billion, highlighting a considerable difference in individual funding amounts.\n"
   ]
  },
  {
   "cell_type": "markdown",
   "id": "73e6733c",
   "metadata": {},
   "source": [
    "### **Conclusion**\n",
    "   - The most attractive sectors for investors are Retail and Fintech\n"
   ]
  },
  {
   "cell_type": "markdown",
   "id": "e209bca7",
   "metadata": {},
   "source": [
    "## **5. Does the location of the company influence its sector?**"
   ]
  },
  {
   "cell_type": "code",
   "execution_count": 195,
   "id": "7671f3bc",
   "metadata": {},
   "outputs": [
    {
     "data": {
      "application/vnd.plotly.v1+json": {
       "config": {
        "plotlyServerURL": "https://plot.ly"
       },
       "data": [
        {
         "coloraxis": "coloraxis",
         "hovertemplate": "Headquarter Location=%{x}<br>Sector=%{y}<br>count=%{z}<extra></extra>",
         "name": "",
         "type": "histogram2d",
         "x": [
          "Mumbai",
          "Mumbai",
          "Mumbai",
          "Gurgaon",
          "Mumbai",
          "Delhi",
          "Bangalore",
          "Bangalore",
          "Bangalore",
          "Delhi",
          "Chennai",
          "Bangalore",
          "Gurgaon",
          "Mumbai",
          "Mumbai",
          "Delhi",
          "Bangalore",
          "Bangalore",
          "Bangalore",
          "Bangalore",
          "Mumbai",
          "Delhi",
          "Bangalore",
          "Bangalore",
          "Pune",
          "Gurgaon",
          "Gurgaon",
          "Mumbai",
          "Bangalore",
          "Bangalore",
          "Bangalore",
          "Bangalore",
          "Pune",
          "Bangalore",
          "Bangalore",
          "Mumbai",
          "Gurgaon",
          "Bangalore",
          "Gurgaon",
          "Delhi",
          "Gurgaon",
          "Bangalore",
          "Bangalore",
          "Bangalore",
          "Delhi",
          "Mumbai",
          "Delhi",
          "Delhi",
          "Gurgaon",
          "Gurgaon",
          "Gurgaon",
          "Mumbai",
          "Delhi",
          "Bangalore",
          "Gurgaon",
          "Delhi",
          "Bangalore",
          "Mumbai",
          "Bangalore",
          "Delhi",
          "Gurgaon",
          "Delhi",
          "Delhi",
          "Bangalore",
          "Bangalore",
          "Bangalore",
          "Gurgaon",
          "Gurgaon",
          "Mumbai",
          "Mumbai",
          "Bangalore",
          "Mumbai",
          "Bangalore",
          "Bangalore",
          "Mumbai",
          "Bangalore",
          "Bangalore",
          "Bangalore",
          "Gurgaon",
          "Mumbai",
          "Bangalore",
          "Bangalore",
          "Gurgaon",
          "Gurgaon",
          "Mumbai",
          "Delhi",
          "Pune",
          "Gurgaon",
          "Bangalore",
          "Delhi",
          "Bangalore",
          "Mumbai",
          "Bangalore",
          "Bangalore",
          "Bangalore",
          "Pune",
          "Gurgaon",
          "Bangalore",
          "Bangalore",
          "Delhi",
          "Delhi",
          "Mumbai",
          "Bangalore",
          "Chennai",
          "Bangalore",
          "Mumbai",
          "Gurgaon",
          "Mumbai",
          "Gurgaon",
          "Delhi",
          "Gurgaon",
          "Bangalore",
          "Gurgaon",
          "Delhi",
          "Delhi",
          "Gurgaon",
          "Bangalore",
          "Mumbai",
          "Delhi",
          "Delhi",
          "Delhi",
          "Bangalore",
          "Mumbai",
          "Delhi",
          "Delhi",
          "Bangalore",
          "Delhi",
          "Gurgaon",
          "Pune",
          "Bangalore",
          "Mumbai",
          "Mumbai",
          "Bangalore",
          "Bangalore",
          "Bangalore",
          "Pune",
          "Bangalore",
          "Pune",
          "Bangalore",
          "Gurgaon",
          "Bangalore",
          "Delhi",
          "Mumbai",
          "Mumbai",
          "Delhi",
          "Mumbai",
          "Chennai",
          "Chennai",
          "Bangalore",
          "Bangalore",
          "Bangalore",
          "Mumbai",
          "Gurgaon",
          "Gurgaon",
          "Chennai",
          "Delhi",
          "Gurgaon",
          "Bangalore",
          "Mumbai",
          "Bangalore",
          "Delhi",
          "Bangalore",
          "Bangalore",
          "Delhi",
          "Mumbai",
          "Bangalore",
          "Bangalore",
          "Bangalore",
          "Bangalore",
          "Bangalore",
          "Mumbai",
          "Bangalore",
          "Bangalore",
          "Delhi",
          "Bangalore",
          "Bangalore",
          "Bangalore",
          "Pune",
          "Mumbai",
          "Gurgaon",
          "Bangalore",
          "Mumbai",
          "Delhi",
          "Delhi",
          "Bangalore",
          "Bangalore",
          "Delhi",
          "Delhi",
          "Bangalore",
          "Bangalore",
          "Delhi",
          "Mumbai",
          "Bangalore",
          "Mumbai",
          "Mumbai",
          "Gurgaon",
          "Gurgaon",
          "Bangalore",
          "Mumbai",
          "Mumbai",
          "Gurgaon",
          "Bangalore",
          "Delhi",
          "Bangalore",
          "Bangalore",
          "Bangalore",
          "Bangalore",
          "Delhi",
          "Bangalore",
          "Mumbai",
          "Gurgaon",
          "Gurgaon",
          "Chennai",
          "Bangalore",
          "Bangalore",
          "Delhi",
          "Bangalore",
          "Gurgaon",
          "Bangalore",
          "Mumbai",
          "Mumbai",
          "Gurgaon",
          "Mumbai",
          "Mumbai",
          "Chennai",
          "Bangalore",
          "Mumbai",
          "Delhi",
          "Bangalore",
          "Bangalore",
          "Delhi",
          "Chennai",
          "Gurgaon",
          "Gurgaon",
          "Gurgaon",
          "Mumbai",
          "Pune",
          "Gurgaon",
          "Chennai",
          "Gurgaon",
          "Delhi",
          "Bangalore",
          "Bangalore",
          "Delhi",
          "Gurgaon",
          "Chennai",
          "Bangalore",
          "Mumbai",
          "Mumbai",
          "Mumbai",
          "Mumbai",
          "Bangalore",
          "Delhi",
          "Delhi",
          "Mumbai",
          "Mumbai",
          "Bangalore",
          "Bangalore",
          "Pune",
          "Bangalore",
          "Mumbai",
          "Mumbai",
          "Bangalore",
          "Gurgaon",
          "Delhi",
          "Bangalore",
          "Bangalore",
          "Bangalore",
          "Delhi",
          "Pune",
          "Gurgaon",
          "Bangalore",
          "Gurgaon",
          "Bangalore",
          "Delhi",
          "Bangalore",
          "Gurgaon",
          "Gurgaon",
          "Bangalore",
          "Bangalore",
          "Delhi",
          "Gurgaon",
          "Bangalore",
          "Bangalore",
          "Gurgaon",
          "Delhi",
          "Bangalore",
          "Pune",
          "Chennai",
          "Bangalore",
          "Bangalore",
          "Mumbai",
          "Bangalore",
          "Mumbai",
          "Mumbai",
          "Delhi",
          "Gurgaon",
          "Delhi",
          "Gurgaon",
          "Mumbai",
          "Bangalore",
          "Delhi",
          "Gurgaon",
          "Bangalore",
          "Delhi",
          "Bangalore",
          "Bangalore",
          "Mumbai",
          "Bangalore",
          "Mumbai",
          "Mumbai",
          "Chennai",
          "Gurgaon",
          "Bangalore",
          "Bangalore",
          "Bangalore",
          "Mumbai",
          "Bangalore",
          "Mumbai",
          "Bangalore",
          "Gurgaon",
          "Mumbai",
          "Bangalore",
          "Pune",
          "Bangalore",
          "Bangalore",
          "Mumbai",
          "Mumbai",
          "Pune",
          "Gurgaon",
          "Mumbai",
          "Delhi",
          "Pune",
          "Mumbai",
          "Bangalore",
          "Gurgaon",
          "Bangalore",
          "Bangalore",
          "Mumbai",
          "Bangalore",
          "Bangalore",
          "Gurgaon",
          "Bangalore",
          "Bangalore",
          "Pune",
          "Delhi",
          "Bangalore",
          "Gurgaon",
          "Bangalore",
          "Bangalore",
          "Bangalore",
          "Gurgaon",
          "Delhi",
          "Delhi",
          "Mumbai",
          "Gurgaon",
          "Mumbai",
          "Bangalore",
          "Gurgaon",
          "Bangalore",
          "Chennai",
          "Gurgaon",
          "Bangalore",
          "Gurgaon",
          "Bangalore",
          "Delhi",
          "Gurgaon",
          "Pune",
          "Delhi",
          "Pune",
          "Bangalore",
          "Bangalore",
          "Bangalore",
          "Bangalore",
          "Bangalore",
          "Bangalore",
          "Bangalore",
          "Bangalore",
          "Bangalore",
          "Delhi",
          "Mumbai",
          "Gurgaon",
          "Gurgaon",
          "Mumbai",
          "Gurgaon",
          "Bangalore",
          "Gurgaon",
          "Bangalore",
          "Bangalore",
          "Bangalore",
          "Bangalore",
          "Bangalore",
          "Delhi",
          "Gurgaon",
          "Mumbai",
          "Bangalore",
          "Bangalore",
          "Mumbai",
          "Pune",
          "Gurgaon",
          "Bangalore",
          "Bangalore",
          "Mumbai",
          "Delhi",
          "Mumbai",
          "Gurgaon",
          "San Francisco",
          "Bangalore",
          "Mumbai",
          "Mumbai",
          "Mumbai",
          "Bangalore",
          "Mumbai",
          "Bangalore",
          "Mumbai",
          "Gurgaon",
          "Bangalore",
          "Bangalore",
          "Bangalore",
          "Mumbai",
          "Bangalore",
          "Mumbai",
          "Mumbai",
          "Bangalore",
          "San Francisco",
          "Gurgaon",
          "Bangalore",
          "Chennai",
          "Mumbai",
          "Mumbai",
          "Gurgaon",
          "Bangalore",
          "Bangalore",
          "Bangalore",
          "Chennai",
          "Mumbai",
          "Mumbai",
          "Mumbai",
          "Bangalore",
          "Delhi",
          "Mumbai",
          "Mumbai",
          "Mumbai",
          "Delhi",
          "Mumbai",
          "San Francisco",
          "Bangalore",
          "Chennai",
          "Bangalore",
          "Mumbai",
          "Pune",
          "Mumbai",
          "Mumbai",
          "Bangalore",
          "Chennai",
          "Chennai",
          "Mumbai",
          "Bangalore",
          "Delhi",
          "San Francisco",
          "Mumbai",
          "Gurgaon",
          "Bangalore",
          "Bangalore",
          "Gurgaon",
          "Delhi",
          "Bangalore",
          "Bangalore",
          "Gurgaon",
          "Pune",
          "Pune",
          "Gurgaon",
          "Bangalore",
          "Mumbai",
          "Mumbai",
          "Mumbai",
          "Mumbai",
          "Delhi",
          "Chennai",
          "Chennai",
          "Mumbai",
          "Bangalore",
          "Mumbai",
          "Gurgaon",
          "Gurgaon",
          "Delhi",
          "Mumbai",
          "Bangalore",
          "Bangalore",
          "Bangalore",
          "Mumbai",
          "Bangalore",
          "Bangalore",
          "Bangalore",
          "Pune",
          "Bangalore",
          "Bangalore",
          "Mumbai",
          "Mumbai",
          "Bangalore",
          "Mumbai",
          "Delhi",
          "Mumbai",
          "Mumbai",
          "Bangalore",
          "Delhi",
          "Mumbai",
          "Bangalore",
          "Bangalore",
          "Bangalore",
          "Gurgaon",
          "Bangalore",
          "Pune",
          "Bangalore",
          "Mumbai",
          "Bangalore",
          "Bangalore",
          "Gurgaon",
          "Gurgaon",
          "Bangalore",
          "Delhi",
          "Gurgaon",
          "Chennai",
          "Bangalore",
          "Mumbai",
          "Bangalore",
          "Bangalore",
          "Bangalore",
          "Gurgaon",
          "Bangalore",
          "Mumbai",
          "Bangalore",
          "Mumbai",
          "Bangalore",
          "Chennai",
          "Delhi",
          "Bangalore",
          "Gurgaon",
          "Mumbai",
          "Gurgaon",
          "Chennai",
          "Gurgaon",
          "Bangalore",
          "Bangalore",
          "Gurgaon",
          "Mumbai",
          "Bangalore",
          "Delhi",
          "Mumbai",
          "Delhi",
          "Bangalore",
          "Pune",
          "Chennai",
          "Bangalore",
          "Delhi",
          "Bangalore",
          "Chennai",
          "Pune",
          "Mumbai",
          "Bangalore",
          "Chennai",
          "Bangalore",
          "Bangalore",
          "Mumbai",
          "Gurgaon",
          "Bangalore",
          "Gurgaon",
          "Bangalore",
          "Mumbai",
          "Delhi",
          "Gurgaon",
          "Mumbai",
          "Bangalore",
          "Mumbai",
          "Chennai",
          "Bangalore",
          "Bangalore",
          "Bangalore",
          "Gurgaon",
          "Mumbai",
          "Bangalore",
          "Bangalore",
          "Gurgaon",
          "Mumbai",
          "Bangalore",
          "Delhi",
          "Bangalore",
          "Delhi",
          "Chennai",
          "Delhi",
          "Bangalore",
          "Bangalore",
          "Gurgaon",
          "Bangalore",
          "Bangalore",
          "Bangalore",
          "Chennai",
          "Delhi",
          "Bangalore",
          "Delhi",
          "Gurgaon",
          "Mumbai",
          "Mumbai",
          "Bangalore",
          "Mumbai",
          "Bangalore",
          "Gurgaon",
          "Delhi",
          "Bangalore",
          "Pune",
          "Gurgaon",
          "Mumbai",
          "Bangalore",
          "Delhi",
          "Mumbai",
          "Bangalore",
          "Pune",
          "Bangalore",
          "Bangalore",
          "Bangalore",
          "Delhi",
          "Gurgaon",
          "Delhi",
          "Mumbai",
          "Mumbai",
          "Delhi",
          "Chennai",
          "Delhi",
          "Bangalore",
          "Bangalore",
          "Bangalore",
          "Mumbai",
          "Mumbai",
          "Bangalore",
          "Bangalore",
          "Bangalore",
          "Mumbai",
          "Delhi",
          "Delhi",
          "Bangalore",
          "Bangalore",
          "Bangalore",
          "Mumbai",
          "Mumbai",
          "Delhi",
          "Mumbai",
          "Bangalore",
          "Mumbai",
          "Chennai",
          "Bangalore",
          "Chennai",
          "Delhi",
          "Delhi",
          "Bangalore",
          "Delhi",
          "Bangalore",
          "Mumbai",
          "Chennai",
          "Bangalore",
          "Mumbai",
          "Delhi",
          "Mumbai",
          "Bangalore",
          "Delhi",
          "Bangalore",
          "Mumbai",
          "Bangalore",
          "Delhi",
          "Bangalore",
          "Mumbai",
          "Bangalore",
          "Gurgaon",
          "Bangalore",
          "Bangalore",
          "Bangalore",
          "Mumbai",
          "Mumbai",
          "Mumbai",
          "Delhi",
          "Gurgaon",
          "Bangalore",
          "Bangalore",
          "Mumbai",
          "Bangalore",
          "Pune",
          "Mumbai",
          "Mumbai",
          "Bangalore",
          "Gurgaon",
          "Gurgaon",
          "Mumbai",
          "Gurgaon",
          "Gurgaon",
          "Mumbai",
          "Mumbai",
          "Mumbai",
          "Gurgaon",
          "Mumbai",
          "Delhi",
          "Delhi",
          "Bangalore",
          "Mumbai",
          "Pune",
          "Chennai",
          "Pune",
          "Mumbai",
          "Delhi",
          "Delhi",
          "Bangalore",
          "Mumbai"
         ],
         "xaxis": "x",
         "xbingroup": "x",
         "y": [
          "Education Technology",
          "Education Technology",
          "Business-to-Business E-commerce",
          "Fintech",
          "Business-to-Business E-commerce",
          "Education Technology",
          "Fintech",
          "Fintech",
          "Education Technology",
          "Food and Beverages",
          "Fintech",
          "Food and Beverages",
          "Fintech",
          "Food and Beverages",
          "Business-to-Business E-commerce",
          "Fintech",
          "Food and Beverages",
          "Education Technology",
          "Education Technology",
          "Fintech",
          "Fintech",
          "Food and Beverages",
          "Fintech",
          "Fintech",
          "Fintech",
          "Fintech",
          "Retail",
          "Fintech",
          "Fintech",
          "Business-to-Business E-commerce",
          "Education Technology",
          "Education Technology",
          "Business-to-Business E-commerce",
          "Retail",
          "Fintech",
          "Fintech",
          "Fintech",
          "Food and Beverages",
          "Education Technology",
          "Fintech",
          "Education Technology",
          "Financial Services",
          "Fintech",
          "Fintech",
          "Financial Services",
          "Food and Beverages",
          "Fintech",
          "Financial Services",
          "Business-to-Business E-commerce",
          "Education Technology",
          "Business-to-Business E-commerce",
          "Education Technology",
          "Food and Beverages",
          "Financial Services",
          "Retail",
          "Education Technology",
          "Education Technology",
          "Education Technology",
          "Education Technology",
          "Financial Services",
          "Financial Services",
          "Food and Beverages",
          "Fintech",
          "Fintech",
          "Fintech",
          "Education Technology",
          "Education Technology",
          "Fintech",
          "Financial Services",
          "Food and Beverages",
          "Financial Services",
          "Financial Services",
          "Financial Services",
          "Financial Services",
          "Financial Services",
          "Financial Services",
          "Fintech",
          "Financial Services",
          "Financial Services",
          "Business-to-Business E-commerce",
          "Business-to-Business E-commerce",
          "Business-to-Business E-commerce",
          "Food and Beverages",
          "Food and Beverages",
          "Financial Services",
          "Business-to-Business E-commerce",
          "Financial Services",
          "Education Technology",
          "Education Technology",
          "Education Technology",
          "Fintech",
          "Fintech",
          "Education Technology",
          "Fintech",
          "Education Technology",
          "Education Technology",
          "Business-to-Business E-commerce",
          "Fintech",
          "Education Technology",
          "Fintech",
          "Education Technology",
          "Business-to-Business E-commerce",
          "Education Technology",
          "Food and Beverages",
          "Fintech",
          "Fintech",
          "Financial Services",
          "Fintech",
          "Business-to-Business E-commerce",
          "Fintech",
          "Education Technology",
          "Business-to-Business E-commerce",
          "Education Technology",
          "Fintech",
          "Fintech",
          "Fintech",
          "Business-to-Business E-commerce",
          "Business-to-Business E-commerce",
          "Fintech",
          "Fintech",
          "Education Technology",
          "Fintech",
          "Education Technology",
          "Education Technology",
          "Fintech",
          "Fintech",
          "Fintech",
          "Education Technology",
          "Food and Beverages",
          "Fintech",
          "Education Technology",
          "Fintech",
          "Business-to-Business E-commerce",
          "Business-to-Business E-commerce",
          "Education Technology",
          "Education Technology",
          "Food and Beverages",
          "Fintech",
          "Fintech",
          "Fintech",
          "Education Technology",
          "Fintech",
          "Fintech",
          "Education Technology",
          "Education Technology",
          "Business-to-Business E-commerce",
          "Education Technology",
          "Food and Beverages",
          "Financial Services",
          "Education Technology",
          "Business-to-Business E-commerce",
          "Food and Beverages",
          "Education Technology",
          "Food and Beverages",
          "Education Technology",
          "Fintech",
          "Fintech",
          "Fintech",
          "Education Technology",
          "Education Technology",
          "Education Technology",
          "Food and Beverages",
          "Education Technology",
          "Business-to-Business E-commerce",
          "Food and Beverages",
          "Food and Beverages",
          "Fintech",
          "Education Technology",
          "Fintech",
          "Food and Beverages",
          "Education Technology",
          "Retail",
          "Education Technology",
          "Education Technology",
          "Education Technology",
          "Education Technology",
          "Fintech",
          "Education Technology",
          "Fintech",
          "Education Technology",
          "Fintech",
          "Business-to-Business E-commerce",
          "Business-to-Business E-commerce",
          "Food and Beverages",
          "Fintech",
          "Fintech",
          "Education Technology",
          "Fintech",
          "Business-to-Business E-commerce",
          "Education Technology",
          "Fintech",
          "Fintech",
          "Fintech",
          "Fintech",
          "Education Technology",
          "Fintech",
          "Business-to-Business E-commerce",
          "Education Technology",
          "Fintech",
          "Fintech",
          "Food and Beverages",
          "Business-to-Business E-commerce",
          "Fintech",
          "Education Technology",
          "Fintech",
          "Education Technology",
          "Fintech",
          "Food and Beverages",
          "Fintech",
          "Fintech",
          "Business-to-Business E-commerce",
          "Fintech",
          "Fintech",
          "Education Technology",
          "Education Technology",
          "Fintech",
          "Fintech",
          "Fintech",
          "Fintech",
          "Fintech",
          "Fintech",
          "Fintech",
          "Fintech",
          "Fintech",
          "Fintech",
          "Fintech",
          "Fintech",
          "Education Technology",
          "Fintech",
          "Education Technology",
          "Business-to-Business E-commerce",
          "Fintech",
          "Business-to-Business E-commerce",
          "Business-to-Business E-commerce",
          "Education Technology",
          "Fintech",
          "Education Technology",
          "Education Technology",
          "Fintech",
          "Education Technology",
          "Fintech",
          "Education Technology",
          "Fintech",
          "Fintech",
          "Education Technology",
          "Fintech",
          "Fintech",
          "Education Technology",
          "Fintech",
          "Fintech",
          "Education Technology",
          "Fintech",
          "Education Technology",
          "Fintech",
          "Fintech",
          "Retail",
          "Education Technology",
          "Education Technology",
          "Business-to-Business E-commerce",
          "Fintech",
          "Fintech",
          "Business-to-Business E-commerce",
          "Financial Services",
          "Business-to-Business E-commerce",
          "Financial Services",
          "Retail",
          "Food and Beverages",
          "Financial Services",
          "Retail",
          "Financial Services",
          "Food and Beverages",
          "Financial Services",
          "Financial Services",
          "Financial Services",
          "Financial Services",
          "Financial Services",
          "Financial Services",
          "Financial Services",
          "Financial Services",
          "Financial Services",
          "Fintech",
          "Business-to-Business E-commerce",
          "Education Technology",
          "Food and Beverages",
          "Education Technology",
          "Retail",
          "Financial Services",
          "Financial Services",
          "Financial Services",
          "Financial Services",
          "Financial Services",
          "Food and Beverages",
          "Financial Services",
          "Financial Services",
          "Financial Services",
          "Financial Services",
          "Food and Beverages",
          "Financial Services",
          "Education Technology",
          "Food and Beverages",
          "Financial Services",
          "Financial Services",
          "Financial Services",
          "Financial Services",
          "Financial Services",
          "Retail",
          "Financial Services",
          "Retail",
          "Financial Services",
          "Business-to-Business E-commerce",
          "Food and Beverages",
          "Fintech",
          "Fintech",
          "Financial Services",
          "Fintech",
          "Food and Beverages",
          "Financial Services",
          "Financial Services",
          "Financial Services",
          "Financial Services",
          "Fintech",
          "Retail",
          "Financial Services",
          "Financial Services",
          "Financial Services",
          "Fintech",
          "Food and Beverages",
          "Financial Services",
          "Education Technology",
          "Retail",
          "Fintech",
          "Financial Services",
          "Financial Services",
          "Education Technology",
          "Food and Beverages",
          "Education Technology",
          "Fintech",
          "Education Technology",
          "Financial Services",
          "Education Technology",
          "Retail",
          "Education Technology",
          "Food and Beverages",
          "Fintech",
          "Food and Beverages",
          "Food and Beverages",
          "Financial Services",
          "Education Technology",
          "Financial Services",
          "Education Technology",
          "Fintech",
          "Food and Beverages",
          "Business-to-Business E-commerce",
          "Fintech",
          "Fintech",
          "Fintech",
          "Fintech",
          "Food and Beverages",
          "Business-to-Business E-commerce",
          "Education Technology",
          "Business-to-Business E-commerce",
          "Business-to-Business E-commerce",
          "Retail",
          "Fintech",
          "Fintech",
          "Fintech",
          "Fintech",
          "Education Technology",
          "Financial Services",
          "Fintech",
          "Tech company",
          "Business-to-Business E-commerce",
          "Fintech",
          "Education Technology",
          "Education Technology",
          "Financial Services",
          "Financial Services",
          "Education Technology",
          "Fintech",
          "Fintech",
          "Financial Services",
          "Fintech",
          "Fintech",
          "Tech company",
          "Fintech",
          "Education Technology",
          "Education Technology",
          "Fintech",
          "Education Technology",
          "Business-to-Business E-commerce",
          "Education Technology",
          "Fintech",
          "Business-to-Business E-commerce",
          "Fintech",
          "Food and Beverages",
          "Fintech",
          "Business-to-Business E-commerce",
          "Fintech",
          "Business-to-Business E-commerce",
          "Fintech",
          "Education Technology",
          "Education Technology",
          "Business-to-Business E-commerce",
          "Fintech",
          "Education Technology",
          "Education Technology",
          "Education Technology",
          "Business-to-Business E-commerce",
          "Food and Beverages",
          "Education Technology",
          "Fintech",
          "Business-to-Business E-commerce",
          "Fintech",
          "Education Technology",
          "Business-to-Business E-commerce",
          "Fintech",
          "Business-to-Business E-commerce",
          "Business-to-Business E-commerce",
          "Retail",
          "Business-to-Business E-commerce",
          "Food and Beverages",
          "Education Technology",
          "Fintech",
          "Retail",
          "Tech company",
          "Fintech",
          "Fintech",
          "Education Technology",
          "Education Technology",
          "Education Technology",
          "Food and Beverages",
          "Food and Beverages",
          "Fintech",
          "Food and Beverages",
          "Education Technology",
          "Fintech",
          "Fintech",
          "Retail",
          "Education Technology",
          "Education Technology",
          "Business-to-Business E-commerce",
          "Tech company",
          "Fintech",
          "Business-to-Business E-commerce",
          "Business-to-Business E-commerce",
          "Tech company",
          "Business-to-Business E-commerce",
          "Fintech",
          "Education Technology",
          "Fintech",
          "Food and Beverages",
          "Financial Services",
          "Financial Services",
          "Education Technology",
          "Financial Services",
          "Financial Services",
          "Business-to-Business E-commerce",
          "Education Technology",
          "Business-to-Business E-commerce",
          "Tech company",
          "Education Technology",
          "Business-to-Business E-commerce",
          "Education Technology",
          "Education Technology",
          "Education Technology",
          "Business-to-Business E-commerce",
          "Fintech",
          "Business-to-Business E-commerce",
          "Food and Beverages",
          "Fintech",
          "Education Technology",
          "Business-to-Business E-commerce",
          "Education Technology",
          "Financial Services",
          "Education Technology",
          "Education Technology",
          "Education Technology",
          "Financial Services",
          "Education Technology",
          "Education Technology",
          "Fintech",
          "Fintech",
          "Education Technology",
          "Education Technology",
          "Financial Services",
          "Business-to-Business E-commerce",
          "Business-to-Business E-commerce",
          "Education Technology",
          "Education Technology",
          "Fintech",
          "Education Technology",
          "Food and Beverages",
          "Education Technology",
          "Fintech",
          "Fintech",
          "Education Technology",
          "Fintech",
          "Education Technology",
          "Fintech",
          "Food and Beverages",
          "Fintech",
          "Fintech",
          "Food and Beverages",
          "Education Technology",
          "Fintech",
          "Fintech",
          "Food and Beverages",
          "Fintech",
          "Education Technology",
          "Education Technology",
          "Fintech",
          "Education Technology",
          "Education Technology",
          "Education Technology",
          "Food and Beverages",
          "Education Technology",
          "Fintech",
          "Fintech",
          "Food and Beverages",
          "Education Technology",
          "Food and Beverages",
          "Retail",
          "Education Technology",
          "Fintech",
          "Fintech",
          "Food and Beverages",
          "Education Technology",
          "Fintech",
          "Fintech",
          "Fintech",
          "Fintech",
          "Education Technology",
          "Food and Beverages",
          "Food and Beverages",
          "Fintech",
          "Food and Beverages",
          "Fintech",
          "Education Technology",
          "Fintech",
          "Fintech",
          "Fintech",
          "Fintech",
          "Fintech",
          "Education Technology",
          "Fintech",
          "Fintech",
          "Fintech",
          "Food and Beverages",
          "Fintech",
          "Education Technology",
          "Fintech",
          "Fintech",
          "Education Technology",
          "Education Technology",
          "Financial Services",
          "Fintech",
          "Fintech",
          "Education Technology",
          "Food and Beverages",
          "Fintech",
          "Fintech",
          "Fintech",
          "Education Technology",
          "Education Technology",
          "Fintech",
          "Food and Beverages",
          "Food and Beverages",
          "Fintech",
          "Fintech",
          "Fintech",
          "Education Technology",
          "Education Technology",
          "Fintech",
          "Food and Beverages",
          "Fintech",
          "Fintech",
          "Fintech",
          "Fintech",
          "Food and Beverages",
          "Education Technology",
          "Food and Beverages",
          "Fintech",
          "Fintech",
          "Fintech",
          "Education Technology",
          "Fintech",
          "Fintech",
          "Fintech",
          "Fintech",
          "Food and Beverages",
          "Food and Beverages",
          "Education Technology",
          "Education Technology",
          "Fintech",
          "Fintech",
          "Education Technology",
          "Fintech",
          "Education Technology",
          "Fintech",
          "Education Technology",
          "Fintech",
          "Fintech",
          "Education Technology",
          "Education Technology",
          "Food and Beverages",
          "Fintech",
          "Education Technology",
          "Fintech",
          "Education Technology",
          "Education Technology",
          "Fintech",
          "Fintech",
          "Food and Beverages",
          "Education Technology",
          "Fintech",
          "Business-to-Business E-commerce",
          "Education Technology",
          "Fintech",
          "Fintech",
          "Fintech",
          "Education Technology",
          "Fintech",
          "Education Technology",
          "Education Technology",
          "Education Technology",
          "Business-to-Business E-commerce",
          "Fintech",
          "Fintech",
          "Fintech",
          "Food and Beverages",
          "Food and Beverages",
          "Business-to-Business E-commerce",
          "Food and Beverages",
          "Fintech",
          "Fintech",
          "Fintech",
          "Fintech",
          "Food and Beverages",
          "Business-to-Business E-commerce",
          "Education Technology",
          "Food and Beverages",
          "Financial Services",
          "Financial Services",
          "Financial Services",
          "Food and Beverages",
          "Financial Services",
          "Financial Services",
          "Food and Beverages",
          "Financial Services",
          "Financial Services",
          "Food and Beverages",
          "Education Technology",
          "Food and Beverages",
          "Food and Beverages",
          "Education Technology",
          "Food and Beverages",
          "Education Technology",
          "Financial Services",
          "Education Technology",
          "Financial Services",
          "Financial Services",
          "Financial Services",
          "Education Technology",
          "Financial Services",
          "Food and Beverages",
          "Financial Services",
          "Financial Services",
          "Financial Services",
          "Retail",
          "Financial Services",
          "Financial Services",
          "Financial Services",
          "Financial Services",
          "Food and Beverages",
          "Financial Services",
          "Financial Services",
          "Food and Beverages",
          "Food and Beverages",
          "Financial Services",
          "Financial Services",
          "Financial Services",
          "Financial Services",
          "Financial Services",
          "Financial Services",
          "Food and Beverages",
          "Food and Beverages",
          "Financial Services",
          "Education Technology",
          "Financial Services",
          "Food and Beverages",
          "Financial Services",
          "Retail",
          "Financial Services",
          "Financial Services",
          "Financial Services",
          "Financial Services",
          "Food and Beverages",
          "Fintech",
          "Financial Services",
          "Financial Services",
          "Financial Services",
          "Financial Services",
          "Financial Services",
          "Financial Services",
          "Food and Beverages",
          "Food and Beverages",
          "Food and Beverages",
          "Food and Beverages",
          "Fintech",
          "Food and Beverages"
         ],
         "yaxis": "y",
         "ybingroup": "y"
        }
       ],
       "layout": {
        "coloraxis": {
         "colorbar": {
          "title": {
           "text": "count"
          }
         },
         "colorscale": [
          [
           0,
           "#0d0887"
          ],
          [
           0.1111111111111111,
           "#46039f"
          ],
          [
           0.2222222222222222,
           "#7201a8"
          ],
          [
           0.3333333333333333,
           "#9c179e"
          ],
          [
           0.4444444444444444,
           "#bd3786"
          ],
          [
           0.5555555555555556,
           "#d8576b"
          ],
          [
           0.6666666666666666,
           "#ed7953"
          ],
          [
           0.7777777777777778,
           "#fb9f3a"
          ],
          [
           0.8888888888888888,
           "#fdca26"
          ],
          [
           1,
           "#f0f921"
          ]
         ]
        },
        "legend": {
         "tracegroupgap": 0
        },
        "template": {
         "data": {
          "bar": [
           {
            "error_x": {
             "color": "#2a3f5f"
            },
            "error_y": {
             "color": "#2a3f5f"
            },
            "marker": {
             "line": {
              "color": "#E5ECF6",
              "width": 0.5
             },
             "pattern": {
              "fillmode": "overlay",
              "size": 10,
              "solidity": 0.2
             }
            },
            "type": "bar"
           }
          ],
          "barpolar": [
           {
            "marker": {
             "line": {
              "color": "#E5ECF6",
              "width": 0.5
             },
             "pattern": {
              "fillmode": "overlay",
              "size": 10,
              "solidity": 0.2
             }
            },
            "type": "barpolar"
           }
          ],
          "carpet": [
           {
            "aaxis": {
             "endlinecolor": "#2a3f5f",
             "gridcolor": "white",
             "linecolor": "white",
             "minorgridcolor": "white",
             "startlinecolor": "#2a3f5f"
            },
            "baxis": {
             "endlinecolor": "#2a3f5f",
             "gridcolor": "white",
             "linecolor": "white",
             "minorgridcolor": "white",
             "startlinecolor": "#2a3f5f"
            },
            "type": "carpet"
           }
          ],
          "choropleth": [
           {
            "colorbar": {
             "outlinewidth": 0,
             "ticks": ""
            },
            "type": "choropleth"
           }
          ],
          "contour": [
           {
            "colorbar": {
             "outlinewidth": 0,
             "ticks": ""
            },
            "colorscale": [
             [
              0,
              "#0d0887"
             ],
             [
              0.1111111111111111,
              "#46039f"
             ],
             [
              0.2222222222222222,
              "#7201a8"
             ],
             [
              0.3333333333333333,
              "#9c179e"
             ],
             [
              0.4444444444444444,
              "#bd3786"
             ],
             [
              0.5555555555555556,
              "#d8576b"
             ],
             [
              0.6666666666666666,
              "#ed7953"
             ],
             [
              0.7777777777777778,
              "#fb9f3a"
             ],
             [
              0.8888888888888888,
              "#fdca26"
             ],
             [
              1,
              "#f0f921"
             ]
            ],
            "type": "contour"
           }
          ],
          "contourcarpet": [
           {
            "colorbar": {
             "outlinewidth": 0,
             "ticks": ""
            },
            "type": "contourcarpet"
           }
          ],
          "heatmap": [
           {
            "colorbar": {
             "outlinewidth": 0,
             "ticks": ""
            },
            "colorscale": [
             [
              0,
              "#0d0887"
             ],
             [
              0.1111111111111111,
              "#46039f"
             ],
             [
              0.2222222222222222,
              "#7201a8"
             ],
             [
              0.3333333333333333,
              "#9c179e"
             ],
             [
              0.4444444444444444,
              "#bd3786"
             ],
             [
              0.5555555555555556,
              "#d8576b"
             ],
             [
              0.6666666666666666,
              "#ed7953"
             ],
             [
              0.7777777777777778,
              "#fb9f3a"
             ],
             [
              0.8888888888888888,
              "#fdca26"
             ],
             [
              1,
              "#f0f921"
             ]
            ],
            "type": "heatmap"
           }
          ],
          "heatmapgl": [
           {
            "colorbar": {
             "outlinewidth": 0,
             "ticks": ""
            },
            "colorscale": [
             [
              0,
              "#0d0887"
             ],
             [
              0.1111111111111111,
              "#46039f"
             ],
             [
              0.2222222222222222,
              "#7201a8"
             ],
             [
              0.3333333333333333,
              "#9c179e"
             ],
             [
              0.4444444444444444,
              "#bd3786"
             ],
             [
              0.5555555555555556,
              "#d8576b"
             ],
             [
              0.6666666666666666,
              "#ed7953"
             ],
             [
              0.7777777777777778,
              "#fb9f3a"
             ],
             [
              0.8888888888888888,
              "#fdca26"
             ],
             [
              1,
              "#f0f921"
             ]
            ],
            "type": "heatmapgl"
           }
          ],
          "histogram": [
           {
            "marker": {
             "pattern": {
              "fillmode": "overlay",
              "size": 10,
              "solidity": 0.2
             }
            },
            "type": "histogram"
           }
          ],
          "histogram2d": [
           {
            "colorbar": {
             "outlinewidth": 0,
             "ticks": ""
            },
            "colorscale": [
             [
              0,
              "#0d0887"
             ],
             [
              0.1111111111111111,
              "#46039f"
             ],
             [
              0.2222222222222222,
              "#7201a8"
             ],
             [
              0.3333333333333333,
              "#9c179e"
             ],
             [
              0.4444444444444444,
              "#bd3786"
             ],
             [
              0.5555555555555556,
              "#d8576b"
             ],
             [
              0.6666666666666666,
              "#ed7953"
             ],
             [
              0.7777777777777778,
              "#fb9f3a"
             ],
             [
              0.8888888888888888,
              "#fdca26"
             ],
             [
              1,
              "#f0f921"
             ]
            ],
            "type": "histogram2d"
           }
          ],
          "histogram2dcontour": [
           {
            "colorbar": {
             "outlinewidth": 0,
             "ticks": ""
            },
            "colorscale": [
             [
              0,
              "#0d0887"
             ],
             [
              0.1111111111111111,
              "#46039f"
             ],
             [
              0.2222222222222222,
              "#7201a8"
             ],
             [
              0.3333333333333333,
              "#9c179e"
             ],
             [
              0.4444444444444444,
              "#bd3786"
             ],
             [
              0.5555555555555556,
              "#d8576b"
             ],
             [
              0.6666666666666666,
              "#ed7953"
             ],
             [
              0.7777777777777778,
              "#fb9f3a"
             ],
             [
              0.8888888888888888,
              "#fdca26"
             ],
             [
              1,
              "#f0f921"
             ]
            ],
            "type": "histogram2dcontour"
           }
          ],
          "mesh3d": [
           {
            "colorbar": {
             "outlinewidth": 0,
             "ticks": ""
            },
            "type": "mesh3d"
           }
          ],
          "parcoords": [
           {
            "line": {
             "colorbar": {
              "outlinewidth": 0,
              "ticks": ""
             }
            },
            "type": "parcoords"
           }
          ],
          "pie": [
           {
            "automargin": true,
            "type": "pie"
           }
          ],
          "scatter": [
           {
            "fillpattern": {
             "fillmode": "overlay",
             "size": 10,
             "solidity": 0.2
            },
            "type": "scatter"
           }
          ],
          "scatter3d": [
           {
            "line": {
             "colorbar": {
              "outlinewidth": 0,
              "ticks": ""
             }
            },
            "marker": {
             "colorbar": {
              "outlinewidth": 0,
              "ticks": ""
             }
            },
            "type": "scatter3d"
           }
          ],
          "scattercarpet": [
           {
            "marker": {
             "colorbar": {
              "outlinewidth": 0,
              "ticks": ""
             }
            },
            "type": "scattercarpet"
           }
          ],
          "scattergeo": [
           {
            "marker": {
             "colorbar": {
              "outlinewidth": 0,
              "ticks": ""
             }
            },
            "type": "scattergeo"
           }
          ],
          "scattergl": [
           {
            "marker": {
             "colorbar": {
              "outlinewidth": 0,
              "ticks": ""
             }
            },
            "type": "scattergl"
           }
          ],
          "scattermapbox": [
           {
            "marker": {
             "colorbar": {
              "outlinewidth": 0,
              "ticks": ""
             }
            },
            "type": "scattermapbox"
           }
          ],
          "scatterpolar": [
           {
            "marker": {
             "colorbar": {
              "outlinewidth": 0,
              "ticks": ""
             }
            },
            "type": "scatterpolar"
           }
          ],
          "scatterpolargl": [
           {
            "marker": {
             "colorbar": {
              "outlinewidth": 0,
              "ticks": ""
             }
            },
            "type": "scatterpolargl"
           }
          ],
          "scatterternary": [
           {
            "marker": {
             "colorbar": {
              "outlinewidth": 0,
              "ticks": ""
             }
            },
            "type": "scatterternary"
           }
          ],
          "surface": [
           {
            "colorbar": {
             "outlinewidth": 0,
             "ticks": ""
            },
            "colorscale": [
             [
              0,
              "#0d0887"
             ],
             [
              0.1111111111111111,
              "#46039f"
             ],
             [
              0.2222222222222222,
              "#7201a8"
             ],
             [
              0.3333333333333333,
              "#9c179e"
             ],
             [
              0.4444444444444444,
              "#bd3786"
             ],
             [
              0.5555555555555556,
              "#d8576b"
             ],
             [
              0.6666666666666666,
              "#ed7953"
             ],
             [
              0.7777777777777778,
              "#fb9f3a"
             ],
             [
              0.8888888888888888,
              "#fdca26"
             ],
             [
              1,
              "#f0f921"
             ]
            ],
            "type": "surface"
           }
          ],
          "table": [
           {
            "cells": {
             "fill": {
              "color": "#EBF0F8"
             },
             "line": {
              "color": "white"
             }
            },
            "header": {
             "fill": {
              "color": "#C8D4E3"
             },
             "line": {
              "color": "white"
             }
            },
            "type": "table"
           }
          ]
         },
         "layout": {
          "annotationdefaults": {
           "arrowcolor": "#2a3f5f",
           "arrowhead": 0,
           "arrowwidth": 1
          },
          "autotypenumbers": "strict",
          "coloraxis": {
           "colorbar": {
            "outlinewidth": 0,
            "ticks": ""
           }
          },
          "colorscale": {
           "diverging": [
            [
             0,
             "#8e0152"
            ],
            [
             0.1,
             "#c51b7d"
            ],
            [
             0.2,
             "#de77ae"
            ],
            [
             0.3,
             "#f1b6da"
            ],
            [
             0.4,
             "#fde0ef"
            ],
            [
             0.5,
             "#f7f7f7"
            ],
            [
             0.6,
             "#e6f5d0"
            ],
            [
             0.7,
             "#b8e186"
            ],
            [
             0.8,
             "#7fbc41"
            ],
            [
             0.9,
             "#4d9221"
            ],
            [
             1,
             "#276419"
            ]
           ],
           "sequential": [
            [
             0,
             "#0d0887"
            ],
            [
             0.1111111111111111,
             "#46039f"
            ],
            [
             0.2222222222222222,
             "#7201a8"
            ],
            [
             0.3333333333333333,
             "#9c179e"
            ],
            [
             0.4444444444444444,
             "#bd3786"
            ],
            [
             0.5555555555555556,
             "#d8576b"
            ],
            [
             0.6666666666666666,
             "#ed7953"
            ],
            [
             0.7777777777777778,
             "#fb9f3a"
            ],
            [
             0.8888888888888888,
             "#fdca26"
            ],
            [
             1,
             "#f0f921"
            ]
           ],
           "sequentialminus": [
            [
             0,
             "#0d0887"
            ],
            [
             0.1111111111111111,
             "#46039f"
            ],
            [
             0.2222222222222222,
             "#7201a8"
            ],
            [
             0.3333333333333333,
             "#9c179e"
            ],
            [
             0.4444444444444444,
             "#bd3786"
            ],
            [
             0.5555555555555556,
             "#d8576b"
            ],
            [
             0.6666666666666666,
             "#ed7953"
            ],
            [
             0.7777777777777778,
             "#fb9f3a"
            ],
            [
             0.8888888888888888,
             "#fdca26"
            ],
            [
             1,
             "#f0f921"
            ]
           ]
          },
          "colorway": [
           "#636efa",
           "#EF553B",
           "#00cc96",
           "#ab63fa",
           "#FFA15A",
           "#19d3f3",
           "#FF6692",
           "#B6E880",
           "#FF97FF",
           "#FECB52"
          ],
          "font": {
           "color": "#2a3f5f"
          },
          "geo": {
           "bgcolor": "white",
           "lakecolor": "white",
           "landcolor": "#E5ECF6",
           "showlakes": true,
           "showland": true,
           "subunitcolor": "white"
          },
          "hoverlabel": {
           "align": "left"
          },
          "hovermode": "closest",
          "mapbox": {
           "style": "light"
          },
          "paper_bgcolor": "white",
          "plot_bgcolor": "#E5ECF6",
          "polar": {
           "angularaxis": {
            "gridcolor": "white",
            "linecolor": "white",
            "ticks": ""
           },
           "bgcolor": "#E5ECF6",
           "radialaxis": {
            "gridcolor": "white",
            "linecolor": "white",
            "ticks": ""
           }
          },
          "scene": {
           "xaxis": {
            "backgroundcolor": "#E5ECF6",
            "gridcolor": "white",
            "gridwidth": 2,
            "linecolor": "white",
            "showbackground": true,
            "ticks": "",
            "zerolinecolor": "white"
           },
           "yaxis": {
            "backgroundcolor": "#E5ECF6",
            "gridcolor": "white",
            "gridwidth": 2,
            "linecolor": "white",
            "showbackground": true,
            "ticks": "",
            "zerolinecolor": "white"
           },
           "zaxis": {
            "backgroundcolor": "#E5ECF6",
            "gridcolor": "white",
            "gridwidth": 2,
            "linecolor": "white",
            "showbackground": true,
            "ticks": "",
            "zerolinecolor": "white"
           }
          },
          "shapedefaults": {
           "line": {
            "color": "#2a3f5f"
           }
          },
          "ternary": {
           "aaxis": {
            "gridcolor": "white",
            "linecolor": "white",
            "ticks": ""
           },
           "baxis": {
            "gridcolor": "white",
            "linecolor": "white",
            "ticks": ""
           },
           "bgcolor": "#E5ECF6",
           "caxis": {
            "gridcolor": "white",
            "linecolor": "white",
            "ticks": ""
           }
          },
          "title": {
           "x": 0.05
          },
          "xaxis": {
           "automargin": true,
           "gridcolor": "white",
           "linecolor": "white",
           "ticks": "",
           "title": {
            "standoff": 15
           },
           "zerolinecolor": "white",
           "zerolinewidth": 2
          },
          "yaxis": {
           "automargin": true,
           "gridcolor": "white",
           "linecolor": "white",
           "ticks": "",
           "title": {
            "standoff": 15
           },
           "zerolinecolor": "white",
           "zerolinewidth": 2
          }
         }
        },
        "title": {
         "text": "Top 7 Sectors and Locations Heatmap \n2018-2021"
        },
        "xaxis": {
         "anchor": "y",
         "domain": [
          0,
          1
         ],
         "title": {
          "text": "Headquarter Location"
         }
        },
        "yaxis": {
         "anchor": "x",
         "domain": [
          0,
          1
         ],
         "title": {
          "text": "Sector"
         }
        }
       }
      }
     },
     "metadata": {},
     "output_type": "display_data"
    }
   ],
   "source": [
    "# Get the top 7 sectors and top 7 locations based on total funding amount\n",
    "top_sectors = df.groupby('sector')['amount'].sum().sort_values(ascending=False).head(7).index\n",
    "top_locations = df.groupby('headquarter')['amount'].sum().sort_values(ascending=False).head(7).index\n",
    "\n",
    "# Filter the DataFrame for the top 7 sectors and top 7 locations\n",
    "df_top7 = df[df['sector'].isin(top_sectors) & df['headquarter'].isin(top_locations)]\n",
    "\n",
    "# Create a heatmap\n",
    "fig = px.density_heatmap(df_top7, \n",
    "                         x='headquarter', \n",
    "                         y='sector', \n",
    "                         title='Top 7 Sectors and Locations Heatmap \\n2018-2021',\n",
    "                         labels={'headquarter': 'Headquarter Location', 'sector': 'Sector'})\n",
    "fig.show()"
   ]
  },
  {
   "cell_type": "markdown",
   "id": "61f83034",
   "metadata": {},
   "source": [
    "### **Observations**  \n",
    "**Top Industries and Locations:**   \n",
    "\n",
    "- Top industries exhibit a concentration in the leading locations.  Therefore, Location of a company does influences its sector\n",
    "\n",
    "**Sectors Concentration:**  \n",
    "\n",
    "- consistent pattern reveals a correlation between a sector's dominance and its prevalent location.  \n",
    "This consistency suggests a nuanced influence of geography on flourishing industries.  \n",
    "\n",
    "**Outliers Analysis:**  \n",
    "\n",
    "- Instances of outliers are notable, such as in Bangalore where Fintech and Education Tech industries concentrate more.  \n",
    "\n",
    "**Conclusion:**   \n",
    "\n",
    "- The data strongly supports the notion that top industries tend to concentrate in the leading locations."
   ]
  },
  {
   "cell_type": "markdown",
   "id": "56639ce7",
   "metadata": {},
   "source": [
    "# **Summary and Recommendations**"
   ]
  },
  {
   "cell_type": "markdown",
   "id": "91e77b21",
   "metadata": {},
   "source": [
    "### **Summary**\n",
    "**Funding Trends**  \n",
    "- Funding experienced a modest decline from 2018 to 2019, followed by a remarkable increase of over $176 billion from 2019 to 2021.\n",
    "- 2021 stands out as the best-funded year, surpassing $179 billion.\n",
    "\n",
    "**Geographical Dynamics**\n",
    "- Mumbai is the most well-funded location, with other cities trailing at a considerable distance.\n",
    "- Notable variations across cities, with Mumbai, Shanghai, San Francisco, Kalpakkan, and Beijing leading.\n",
    "\n",
    "**Sector-Specific Insights**\n",
    "- Retail and fintech sectors attract the most funding, with 'Others' (Private Equity, Corporate Round, Debt) showing substantial growth.\n",
    "\n",
    "**Key Players**\n",
    "- Silver Lake and Mubadala Investment Company lead all investors, contributing a massive $70 billion.\n",
    "\n",
    "### **Recommendations**  \n",
    "1. **Location Consideration:**  \n",
    "   - Investors should focus on top-funded locations like Mumbai, Shanghai, San Francisco, Kalpakkan, and Beijing.  \n",
    "   \n",
    "2. **Sector-Specific Investments:**  \n",
    "   - Explore opportunities in fintech and retail, the most attractive sectors for investors.  \n",
    "   \n",
    "3. **Emerging Trends:**  \n",
    "   - Monitor trends in mature startups in the 'Others' category, signaling investor comfort with later-stage ventures.  \n",
    "   \n",
    "4. **Diversification:**  \n",
    "   - Diversify portfolios across locations and sectors for a balanced risk-return profile.  \n"
   ]
  }
 ],
 "metadata": {
  "kernelspec": {
   "display_name": "Python 3 (ipykernel)",
   "language": "python",
   "name": "python3"
  },
  "language_info": {
   "codemirror_mode": {
    "name": "ipython",
    "version": 3
   },
   "file_extension": ".py",
   "mimetype": "text/x-python",
   "name": "python",
   "nbconvert_exporter": "python",
   "pygments_lexer": "ipython3",
   "version": "3.11.6"
  }
 },
 "nbformat": 4,
 "nbformat_minor": 5
}
